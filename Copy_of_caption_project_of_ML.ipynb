{
  "cells": [
    {
      "cell_type": "markdown",
      "metadata": {
        "id": "view-in-github",
        "colab_type": "text"
      },
      "source": [
        "<a href=\"https://colab.research.google.com/github/amirmohd4/hotel-booking-analysis-project./blob/main/Copy_of_caption_project_of_ML.ipynb\" target=\"_parent\"><img src=\"https://colab.research.google.com/assets/colab-badge.svg\" alt=\"Open In Colab\"/></a>"
      ]
    },
    {
      "cell_type": "markdown",
      "metadata": {
        "id": "oidUj2IhZVwx"
      },
      "source": [
        "**Project** **Summary** -\n",
        "\n",
        "Write the summary here within 500-600 words.\n",
        "\n",
        "\n",
        "The objective of this project was to develop a robust machine learning model to classify email statuses as ignored, read, or acknowledged, aiding small to medium business owners in optimizing their email marketing strategies. This was achieved through a comprehensive approach involving data preprocessing, feature engineering, handling class imbalance, and implementing various machine learning models with hyperparameter optimization.\n",
        "\n",
        "Data Preprocessing and Feature Engineering:\n",
        "The dataset contained several categorical and numerical features. Preprocessing steps included one-hot encoding of categorical variables and standard scaling of numerical variables. This ensured all features were on a similar scale and ready for model training. Missing values in categorical features were imputed, and the dataset was split into training and testing sets.\n",
        "\n",
        "Handling Imbalanced Data:\n",
        "The dataset exhibited class imbalance, which can lead to biased model performance. To address this, the RandomOverSampler technique was applied to balance the classes in the training set. This ensured that the model learned from a balanced representation of each class, improving its generalization.\n",
        "\n",
        "Model Implementation and Hyperparameter Optimization:\n",
        "Three machine learning models were explored: Random Forest, XGBoost, and LightGBM. For each model, hyperparameter optimization was conducted using techniques such as RandomizedSearchCV and Bayesian Optimization. RandomizedSearchCV allowed for a random search over a specified parameter grid, while Bayesian Optimization efficiently explored the hyperparameter space, focusing on promising regions.\n",
        "\n",
        "Model Evaluation:\n",
        "The performance of each model was evaluated using classification reports and confusion matrices. The LightGBM model, with hyperparameters tuned via Bayesian Optimization, emerged as the most promising, exhibiting balanced precision and recall across classes. The classification report highlighted a notable improvement in recall for the minority classes, indicating better performance in predicting less frequent email statuses.\n",
        "\n",
        "Conclusion:\n",
        "This project successfully demonstrated the importance of comprehensive data preprocessing, handling class imbalance, and hyperparameter optimization in building effective machine learning models. The developed model provides a valuable tool for business owners to better understand customer engagement with email campaigns, ultimately aiding in more targeted and effective\n",
        "\n",
        "\n",
        "**GitHub** **Link** -\n",
        "\n",
        "Provide your GitHub Link here.\n"
      ]
    },
    {
      "cell_type": "markdown",
      "metadata": {
        "id": "x6zoiGywz8Z0"
      },
      "source": [
        "**General** **Guidelines** : -\n",
        "\n",
        " 1 Well-structured, formatted, and commented code is required.\n",
        "\n",
        "2 Exception Handling, Production Grade Code & Deployment Ready Code will be a plus. Those students will be awarded some additional credits.\n",
        "\n",
        "   The additional credits will have advantages over other students during Star Student selection.\n",
        "\n",
        "    [ Note: - Deployment Ready Code is defined as, the whole .ipynb notebook should be executable in one go\n",
        "              without a single error logged. ]\n",
        "3 Each and every logic should have proper comments.\n",
        "\n",
        "4  You may add as many number of charts you want. Make Sure for each and every chart the following format should be answered.\n",
        "\n",
        "# Chart visualization code\n",
        ". Why did you pick the specific chart?\n",
        "\n",
        ". What is/are the insight(s) found from the chart?\n",
        "\n",
        ". Will the gained insights help creating a positive business impact? Are there any insights that lead to negative growth? Justify with specific reason.\n",
        "\n",
        ". You have to create at least 15 logical & meaningful charts having important insights.\n",
        "\n",
        "[ Hints : - Do the Vizualization in a structured way while following \"UBM\" Rule.\n",
        "\n",
        "U - Univariate Analysis,\n",
        "\n",
        "B - Bivariate Analysis (Numerical - Categorical, Numerical - Numerical, Categorical - Categorical)\n",
        "\n",
        "M - Multivariate Analysis ]\n",
        "\n",
        "5  You may add more ml algorithms for model creation. Make sure for each and every algorithm, the following format should be answered.\n",
        "\n",
        ". Explain the ML Model used and it's performance using Evaluation metric Score Chart.\n",
        ". Cross- Validation & Hyperparameter Tuning\n",
        "\n",
        ". Have you seen any improvement? Note down the improvement with updates Evaluation metric Score Chart.\n",
        "\n",
        ". Explain each evaluation metric's indication towards business and the business impact pf the ML model used.\n",
        "\n"
      ]
    },
    {
      "cell_type": "markdown",
      "metadata": {
        "id": "aKbHRQjcZViF"
      },
      "source": [
        "**Lets** **begin**"
      ]
    },
    {
      "cell_type": "markdown",
      "metadata": {
        "id": "PxzVqgfPZVgz"
      },
      "source": [
        "1 **Know** **Your** **Data** !\n",
        "\n",
        " ..import libraries."
      ]
    },
    {
      "cell_type": "code",
      "execution_count": null,
      "metadata": {
        "id": "_sLmr7Z5b6tE"
      },
      "outputs": [],
      "source": [
        "import pandas as pd\n",
        "import numpy as np\n",
        "import matplotlib.pyplot as plt\n",
        "import seaborn as sns\n",
        "from scipy.stats import chi2_contingency\n",
        "from scipy.stats import ttest_ind\n",
        "from sklearn.preprocessing import OneHotEncoder\n",
        "\n",
        "import string\n",
        "import nltk\n",
        "from nltk.stem import WordNetLemmatizer\n",
        "from sklearn.decomposition import PCA\n",
        "from sklearn.preprocessing import StandardScaler\n",
        "from sklearn.feature_selection import RFE\n",
        "from sklearn.feature_selection import SelectKBest, f_classif\n",
        "from sklearn.preprocessing import StandardScaler\n",
        "from sklearn.decomposition import PCA\n",
        "from sklearn.model_selection import train_test_split\n",
        "from sklearn.datasets import make_classification\n",
        "from sklearn.ensemble import RandomForestClassifier\n",
        "from sklearn.metrics import accuracy_score\n",
        "from sklearn.model_selection import GridSearchCV\n"
      ]
    },
    {
      "cell_type": "markdown",
      "metadata": {
        "id": "sXrmDpdN2I2i"
      },
      "source": [
        "Dataset loading"
      ]
    },
    {
      "cell_type": "code",
      "execution_count": null,
      "metadata": {
        "id": "efcFaDMo2QSk"
      },
      "outputs": [],
      "source": [
        "df = pd.read_csv(\"/content/data_email_campaign (1).csv\")"
      ]
    },
    {
      "cell_type": "markdown",
      "metadata": {
        "id": "FumViB8T2Rut"
      },
      "source": [
        "Dataset First view"
      ]
    },
    {
      "cell_type": "code",
      "source": [
        "df"
      ],
      "metadata": {
        "colab": {
          "base_uri": "https://localhost:8080/",
          "height": 444
        },
        "id": "3vcVoACGeqno",
        "outputId": "3d7208d7-7316-4f5a-d22a-fee8b0fbed7d"
      },
      "execution_count": null,
      "outputs": [
        {
          "output_type": "execute_result",
          "data": {
            "text/plain": [
              "                Email_ID  Email_Type  Subject_Hotness_Score  \\\n",
              "0      EMA00081000034500           1                    2.2   \n",
              "1      EMA00081000045360           2                    2.1   \n",
              "2      EMA00081000066290           2                    0.1   \n",
              "3      EMA00081000076560           1                    3.0   \n",
              "4      EMA00081000109720           1                    0.0   \n",
              "...                  ...         ...                    ...   \n",
              "68348  EMA00089995974500           2                    0.4   \n",
              "68349  EMA00089998225300           1                    1.3   \n",
              "68350  EMA00089998436500           1                    2.2   \n",
              "68351  EMA00089999168800           1                    0.4   \n",
              "68352  EMA00089999316900           1                    1.5   \n",
              "\n",
              "       Email_Source_Type Customer_Location  Email_Campaign_Type  \\\n",
              "0                      2                 E                    2   \n",
              "1                      1               NaN                    2   \n",
              "2                      1                 B                    3   \n",
              "3                      2                 E                    2   \n",
              "4                      2                 C                    3   \n",
              "...                  ...               ...                  ...   \n",
              "68348                  1                 F                    2   \n",
              "68349                  1                 C                    2   \n",
              "68350                  2               NaN                    2   \n",
              "68351                  1                 E                    2   \n",
              "68352                  1                 G                    2   \n",
              "\n",
              "       Total_Past_Communications  Time_Email_sent_Category  Word_Count  \\\n",
              "0                           33.0                         1         440   \n",
              "1                           15.0                         2         504   \n",
              "2                           36.0                         2         962   \n",
              "3                           25.0                         2         610   \n",
              "4                           18.0                         2         947   \n",
              "...                          ...                       ...         ...   \n",
              "68348                       22.0                         3         737   \n",
              "68349                       40.0                         2         653   \n",
              "68350                       33.0                         2         490   \n",
              "68351                       50.0                         1         733   \n",
              "68352                       20.0                         2        1038   \n",
              "\n",
              "       Total_Links  Total_Images  Email_Status  \n",
              "0              8.0           0.0             0  \n",
              "1              5.0           0.0             0  \n",
              "2              5.0           0.0             1  \n",
              "3             16.0           0.0             0  \n",
              "4              4.0           0.0             0  \n",
              "...            ...           ...           ...  \n",
              "68348         16.0          13.0             0  \n",
              "68349         31.0          16.0             0  \n",
              "68350          9.0           0.0             0  \n",
              "68351         14.0           4.0             0  \n",
              "68352          6.0           0.0             0  \n",
              "\n",
              "[68353 rows x 12 columns]"
            ],
            "text/html": [
              "\n",
              "  <div id=\"df-06349665-6f3d-4e68-a3b1-c6fa18f3f90f\" class=\"colab-df-container\">\n",
              "    <div>\n",
              "<style scoped>\n",
              "    .dataframe tbody tr th:only-of-type {\n",
              "        vertical-align: middle;\n",
              "    }\n",
              "\n",
              "    .dataframe tbody tr th {\n",
              "        vertical-align: top;\n",
              "    }\n",
              "\n",
              "    .dataframe thead th {\n",
              "        text-align: right;\n",
              "    }\n",
              "</style>\n",
              "<table border=\"1\" class=\"dataframe\">\n",
              "  <thead>\n",
              "    <tr style=\"text-align: right;\">\n",
              "      <th></th>\n",
              "      <th>Email_ID</th>\n",
              "      <th>Email_Type</th>\n",
              "      <th>Subject_Hotness_Score</th>\n",
              "      <th>Email_Source_Type</th>\n",
              "      <th>Customer_Location</th>\n",
              "      <th>Email_Campaign_Type</th>\n",
              "      <th>Total_Past_Communications</th>\n",
              "      <th>Time_Email_sent_Category</th>\n",
              "      <th>Word_Count</th>\n",
              "      <th>Total_Links</th>\n",
              "      <th>Total_Images</th>\n",
              "      <th>Email_Status</th>\n",
              "    </tr>\n",
              "  </thead>\n",
              "  <tbody>\n",
              "    <tr>\n",
              "      <th>0</th>\n",
              "      <td>EMA00081000034500</td>\n",
              "      <td>1</td>\n",
              "      <td>2.2</td>\n",
              "      <td>2</td>\n",
              "      <td>E</td>\n",
              "      <td>2</td>\n",
              "      <td>33.0</td>\n",
              "      <td>1</td>\n",
              "      <td>440</td>\n",
              "      <td>8.0</td>\n",
              "      <td>0.0</td>\n",
              "      <td>0</td>\n",
              "    </tr>\n",
              "    <tr>\n",
              "      <th>1</th>\n",
              "      <td>EMA00081000045360</td>\n",
              "      <td>2</td>\n",
              "      <td>2.1</td>\n",
              "      <td>1</td>\n",
              "      <td>NaN</td>\n",
              "      <td>2</td>\n",
              "      <td>15.0</td>\n",
              "      <td>2</td>\n",
              "      <td>504</td>\n",
              "      <td>5.0</td>\n",
              "      <td>0.0</td>\n",
              "      <td>0</td>\n",
              "    </tr>\n",
              "    <tr>\n",
              "      <th>2</th>\n",
              "      <td>EMA00081000066290</td>\n",
              "      <td>2</td>\n",
              "      <td>0.1</td>\n",
              "      <td>1</td>\n",
              "      <td>B</td>\n",
              "      <td>3</td>\n",
              "      <td>36.0</td>\n",
              "      <td>2</td>\n",
              "      <td>962</td>\n",
              "      <td>5.0</td>\n",
              "      <td>0.0</td>\n",
              "      <td>1</td>\n",
              "    </tr>\n",
              "    <tr>\n",
              "      <th>3</th>\n",
              "      <td>EMA00081000076560</td>\n",
              "      <td>1</td>\n",
              "      <td>3.0</td>\n",
              "      <td>2</td>\n",
              "      <td>E</td>\n",
              "      <td>2</td>\n",
              "      <td>25.0</td>\n",
              "      <td>2</td>\n",
              "      <td>610</td>\n",
              "      <td>16.0</td>\n",
              "      <td>0.0</td>\n",
              "      <td>0</td>\n",
              "    </tr>\n",
              "    <tr>\n",
              "      <th>4</th>\n",
              "      <td>EMA00081000109720</td>\n",
              "      <td>1</td>\n",
              "      <td>0.0</td>\n",
              "      <td>2</td>\n",
              "      <td>C</td>\n",
              "      <td>3</td>\n",
              "      <td>18.0</td>\n",
              "      <td>2</td>\n",
              "      <td>947</td>\n",
              "      <td>4.0</td>\n",
              "      <td>0.0</td>\n",
              "      <td>0</td>\n",
              "    </tr>\n",
              "    <tr>\n",
              "      <th>...</th>\n",
              "      <td>...</td>\n",
              "      <td>...</td>\n",
              "      <td>...</td>\n",
              "      <td>...</td>\n",
              "      <td>...</td>\n",
              "      <td>...</td>\n",
              "      <td>...</td>\n",
              "      <td>...</td>\n",
              "      <td>...</td>\n",
              "      <td>...</td>\n",
              "      <td>...</td>\n",
              "      <td>...</td>\n",
              "    </tr>\n",
              "    <tr>\n",
              "      <th>68348</th>\n",
              "      <td>EMA00089995974500</td>\n",
              "      <td>2</td>\n",
              "      <td>0.4</td>\n",
              "      <td>1</td>\n",
              "      <td>F</td>\n",
              "      <td>2</td>\n",
              "      <td>22.0</td>\n",
              "      <td>3</td>\n",
              "      <td>737</td>\n",
              "      <td>16.0</td>\n",
              "      <td>13.0</td>\n",
              "      <td>0</td>\n",
              "    </tr>\n",
              "    <tr>\n",
              "      <th>68349</th>\n",
              "      <td>EMA00089998225300</td>\n",
              "      <td>1</td>\n",
              "      <td>1.3</td>\n",
              "      <td>1</td>\n",
              "      <td>C</td>\n",
              "      <td>2</td>\n",
              "      <td>40.0</td>\n",
              "      <td>2</td>\n",
              "      <td>653</td>\n",
              "      <td>31.0</td>\n",
              "      <td>16.0</td>\n",
              "      <td>0</td>\n",
              "    </tr>\n",
              "    <tr>\n",
              "      <th>68350</th>\n",
              "      <td>EMA00089998436500</td>\n",
              "      <td>1</td>\n",
              "      <td>2.2</td>\n",
              "      <td>2</td>\n",
              "      <td>NaN</td>\n",
              "      <td>2</td>\n",
              "      <td>33.0</td>\n",
              "      <td>2</td>\n",
              "      <td>490</td>\n",
              "      <td>9.0</td>\n",
              "      <td>0.0</td>\n",
              "      <td>0</td>\n",
              "    </tr>\n",
              "    <tr>\n",
              "      <th>68351</th>\n",
              "      <td>EMA00089999168800</td>\n",
              "      <td>1</td>\n",
              "      <td>0.4</td>\n",
              "      <td>1</td>\n",
              "      <td>E</td>\n",
              "      <td>2</td>\n",
              "      <td>50.0</td>\n",
              "      <td>1</td>\n",
              "      <td>733</td>\n",
              "      <td>14.0</td>\n",
              "      <td>4.0</td>\n",
              "      <td>0</td>\n",
              "    </tr>\n",
              "    <tr>\n",
              "      <th>68352</th>\n",
              "      <td>EMA00089999316900</td>\n",
              "      <td>1</td>\n",
              "      <td>1.5</td>\n",
              "      <td>1</td>\n",
              "      <td>G</td>\n",
              "      <td>2</td>\n",
              "      <td>20.0</td>\n",
              "      <td>2</td>\n",
              "      <td>1038</td>\n",
              "      <td>6.0</td>\n",
              "      <td>0.0</td>\n",
              "      <td>0</td>\n",
              "    </tr>\n",
              "  </tbody>\n",
              "</table>\n",
              "<p>68353 rows × 12 columns</p>\n",
              "</div>\n",
              "    <div class=\"colab-df-buttons\">\n",
              "\n",
              "  <div class=\"colab-df-container\">\n",
              "    <button class=\"colab-df-convert\" onclick=\"convertToInteractive('df-06349665-6f3d-4e68-a3b1-c6fa18f3f90f')\"\n",
              "            title=\"Convert this dataframe to an interactive table.\"\n",
              "            style=\"display:none;\">\n",
              "\n",
              "  <svg xmlns=\"http://www.w3.org/2000/svg\" height=\"24px\" viewBox=\"0 -960 960 960\">\n",
              "    <path d=\"M120-120v-720h720v720H120Zm60-500h600v-160H180v160Zm220 220h160v-160H400v160Zm0 220h160v-160H400v160ZM180-400h160v-160H180v160Zm440 0h160v-160H620v160ZM180-180h160v-160H180v160Zm440 0h160v-160H620v160Z\"/>\n",
              "  </svg>\n",
              "    </button>\n",
              "\n",
              "  <style>\n",
              "    .colab-df-container {\n",
              "      display:flex;\n",
              "      gap: 12px;\n",
              "    }\n",
              "\n",
              "    .colab-df-convert {\n",
              "      background-color: #E8F0FE;\n",
              "      border: none;\n",
              "      border-radius: 50%;\n",
              "      cursor: pointer;\n",
              "      display: none;\n",
              "      fill: #1967D2;\n",
              "      height: 32px;\n",
              "      padding: 0 0 0 0;\n",
              "      width: 32px;\n",
              "    }\n",
              "\n",
              "    .colab-df-convert:hover {\n",
              "      background-color: #E2EBFA;\n",
              "      box-shadow: 0px 1px 2px rgba(60, 64, 67, 0.3), 0px 1px 3px 1px rgba(60, 64, 67, 0.15);\n",
              "      fill: #174EA6;\n",
              "    }\n",
              "\n",
              "    .colab-df-buttons div {\n",
              "      margin-bottom: 4px;\n",
              "    }\n",
              "\n",
              "    [theme=dark] .colab-df-convert {\n",
              "      background-color: #3B4455;\n",
              "      fill: #D2E3FC;\n",
              "    }\n",
              "\n",
              "    [theme=dark] .colab-df-convert:hover {\n",
              "      background-color: #434B5C;\n",
              "      box-shadow: 0px 1px 3px 1px rgba(0, 0, 0, 0.15);\n",
              "      filter: drop-shadow(0px 1px 2px rgba(0, 0, 0, 0.3));\n",
              "      fill: #FFFFFF;\n",
              "    }\n",
              "  </style>\n",
              "\n",
              "    <script>\n",
              "      const buttonEl =\n",
              "        document.querySelector('#df-06349665-6f3d-4e68-a3b1-c6fa18f3f90f button.colab-df-convert');\n",
              "      buttonEl.style.display =\n",
              "        google.colab.kernel.accessAllowed ? 'block' : 'none';\n",
              "\n",
              "      async function convertToInteractive(key) {\n",
              "        const element = document.querySelector('#df-06349665-6f3d-4e68-a3b1-c6fa18f3f90f');\n",
              "        const dataTable =\n",
              "          await google.colab.kernel.invokeFunction('convertToInteractive',\n",
              "                                                    [key], {});\n",
              "        if (!dataTable) return;\n",
              "\n",
              "        const docLinkHtml = 'Like what you see? Visit the ' +\n",
              "          '<a target=\"_blank\" href=https://colab.research.google.com/notebooks/data_table.ipynb>data table notebook</a>'\n",
              "          + ' to learn more about interactive tables.';\n",
              "        element.innerHTML = '';\n",
              "        dataTable['output_type'] = 'display_data';\n",
              "        await google.colab.output.renderOutput(dataTable, element);\n",
              "        const docLink = document.createElement('div');\n",
              "        docLink.innerHTML = docLinkHtml;\n",
              "        element.appendChild(docLink);\n",
              "      }\n",
              "    </script>\n",
              "  </div>\n",
              "\n",
              "\n",
              "<div id=\"df-02949c2e-5a3c-4540-9ecf-a3e0b1272284\">\n",
              "  <button class=\"colab-df-quickchart\" onclick=\"quickchart('df-02949c2e-5a3c-4540-9ecf-a3e0b1272284')\"\n",
              "            title=\"Suggest charts\"\n",
              "            style=\"display:none;\">\n",
              "\n",
              "<svg xmlns=\"http://www.w3.org/2000/svg\" height=\"24px\"viewBox=\"0 0 24 24\"\n",
              "     width=\"24px\">\n",
              "    <g>\n",
              "        <path d=\"M19 3H5c-1.1 0-2 .9-2 2v14c0 1.1.9 2 2 2h14c1.1 0 2-.9 2-2V5c0-1.1-.9-2-2-2zM9 17H7v-7h2v7zm4 0h-2V7h2v10zm4 0h-2v-4h2v4z\"/>\n",
              "    </g>\n",
              "</svg>\n",
              "  </button>\n",
              "\n",
              "<style>\n",
              "  .colab-df-quickchart {\n",
              "      --bg-color: #E8F0FE;\n",
              "      --fill-color: #1967D2;\n",
              "      --hover-bg-color: #E2EBFA;\n",
              "      --hover-fill-color: #174EA6;\n",
              "      --disabled-fill-color: #AAA;\n",
              "      --disabled-bg-color: #DDD;\n",
              "  }\n",
              "\n",
              "  [theme=dark] .colab-df-quickchart {\n",
              "      --bg-color: #3B4455;\n",
              "      --fill-color: #D2E3FC;\n",
              "      --hover-bg-color: #434B5C;\n",
              "      --hover-fill-color: #FFFFFF;\n",
              "      --disabled-bg-color: #3B4455;\n",
              "      --disabled-fill-color: #666;\n",
              "  }\n",
              "\n",
              "  .colab-df-quickchart {\n",
              "    background-color: var(--bg-color);\n",
              "    border: none;\n",
              "    border-radius: 50%;\n",
              "    cursor: pointer;\n",
              "    display: none;\n",
              "    fill: var(--fill-color);\n",
              "    height: 32px;\n",
              "    padding: 0;\n",
              "    width: 32px;\n",
              "  }\n",
              "\n",
              "  .colab-df-quickchart:hover {\n",
              "    background-color: var(--hover-bg-color);\n",
              "    box-shadow: 0 1px 2px rgba(60, 64, 67, 0.3), 0 1px 3px 1px rgba(60, 64, 67, 0.15);\n",
              "    fill: var(--button-hover-fill-color);\n",
              "  }\n",
              "\n",
              "  .colab-df-quickchart-complete:disabled,\n",
              "  .colab-df-quickchart-complete:disabled:hover {\n",
              "    background-color: var(--disabled-bg-color);\n",
              "    fill: var(--disabled-fill-color);\n",
              "    box-shadow: none;\n",
              "  }\n",
              "\n",
              "  .colab-df-spinner {\n",
              "    border: 2px solid var(--fill-color);\n",
              "    border-color: transparent;\n",
              "    border-bottom-color: var(--fill-color);\n",
              "    animation:\n",
              "      spin 1s steps(1) infinite;\n",
              "  }\n",
              "\n",
              "  @keyframes spin {\n",
              "    0% {\n",
              "      border-color: transparent;\n",
              "      border-bottom-color: var(--fill-color);\n",
              "      border-left-color: var(--fill-color);\n",
              "    }\n",
              "    20% {\n",
              "      border-color: transparent;\n",
              "      border-left-color: var(--fill-color);\n",
              "      border-top-color: var(--fill-color);\n",
              "    }\n",
              "    30% {\n",
              "      border-color: transparent;\n",
              "      border-left-color: var(--fill-color);\n",
              "      border-top-color: var(--fill-color);\n",
              "      border-right-color: var(--fill-color);\n",
              "    }\n",
              "    40% {\n",
              "      border-color: transparent;\n",
              "      border-right-color: var(--fill-color);\n",
              "      border-top-color: var(--fill-color);\n",
              "    }\n",
              "    60% {\n",
              "      border-color: transparent;\n",
              "      border-right-color: var(--fill-color);\n",
              "    }\n",
              "    80% {\n",
              "      border-color: transparent;\n",
              "      border-right-color: var(--fill-color);\n",
              "      border-bottom-color: var(--fill-color);\n",
              "    }\n",
              "    90% {\n",
              "      border-color: transparent;\n",
              "      border-bottom-color: var(--fill-color);\n",
              "    }\n",
              "  }\n",
              "</style>\n",
              "\n",
              "  <script>\n",
              "    async function quickchart(key) {\n",
              "      const quickchartButtonEl =\n",
              "        document.querySelector('#' + key + ' button');\n",
              "      quickchartButtonEl.disabled = true;  // To prevent multiple clicks.\n",
              "      quickchartButtonEl.classList.add('colab-df-spinner');\n",
              "      try {\n",
              "        const charts = await google.colab.kernel.invokeFunction(\n",
              "            'suggestCharts', [key], {});\n",
              "      } catch (error) {\n",
              "        console.error('Error during call to suggestCharts:', error);\n",
              "      }\n",
              "      quickchartButtonEl.classList.remove('colab-df-spinner');\n",
              "      quickchartButtonEl.classList.add('colab-df-quickchart-complete');\n",
              "    }\n",
              "    (() => {\n",
              "      let quickchartButtonEl =\n",
              "        document.querySelector('#df-02949c2e-5a3c-4540-9ecf-a3e0b1272284 button');\n",
              "      quickchartButtonEl.style.display =\n",
              "        google.colab.kernel.accessAllowed ? 'block' : 'none';\n",
              "    })();\n",
              "  </script>\n",
              "</div>\n",
              "\n",
              "  <div id=\"id_c918b814-96a9-4d48-b9c3-07afc6b255b0\">\n",
              "    <style>\n",
              "      .colab-df-generate {\n",
              "        background-color: #E8F0FE;\n",
              "        border: none;\n",
              "        border-radius: 50%;\n",
              "        cursor: pointer;\n",
              "        display: none;\n",
              "        fill: #1967D2;\n",
              "        height: 32px;\n",
              "        padding: 0 0 0 0;\n",
              "        width: 32px;\n",
              "      }\n",
              "\n",
              "      .colab-df-generate:hover {\n",
              "        background-color: #E2EBFA;\n",
              "        box-shadow: 0px 1px 2px rgba(60, 64, 67, 0.3), 0px 1px 3px 1px rgba(60, 64, 67, 0.15);\n",
              "        fill: #174EA6;\n",
              "      }\n",
              "\n",
              "      [theme=dark] .colab-df-generate {\n",
              "        background-color: #3B4455;\n",
              "        fill: #D2E3FC;\n",
              "      }\n",
              "\n",
              "      [theme=dark] .colab-df-generate:hover {\n",
              "        background-color: #434B5C;\n",
              "        box-shadow: 0px 1px 3px 1px rgba(0, 0, 0, 0.15);\n",
              "        filter: drop-shadow(0px 1px 2px rgba(0, 0, 0, 0.3));\n",
              "        fill: #FFFFFF;\n",
              "      }\n",
              "    </style>\n",
              "    <button class=\"colab-df-generate\" onclick=\"generateWithVariable('df')\"\n",
              "            title=\"Generate code using this dataframe.\"\n",
              "            style=\"display:none;\">\n",
              "\n",
              "  <svg xmlns=\"http://www.w3.org/2000/svg\" height=\"24px\"viewBox=\"0 0 24 24\"\n",
              "       width=\"24px\">\n",
              "    <path d=\"M7,19H8.4L18.45,9,17,7.55,7,17.6ZM5,21V16.75L18.45,3.32a2,2,0,0,1,2.83,0l1.4,1.43a1.91,1.91,0,0,1,.58,1.4,1.91,1.91,0,0,1-.58,1.4L9.25,21ZM18.45,9,17,7.55Zm-12,3A5.31,5.31,0,0,0,4.9,8.1,5.31,5.31,0,0,0,1,6.5,5.31,5.31,0,0,0,4.9,4.9,5.31,5.31,0,0,0,6.5,1,5.31,5.31,0,0,0,8.1,4.9,5.31,5.31,0,0,0,12,6.5,5.46,5.46,0,0,0,6.5,12Z\"/>\n",
              "  </svg>\n",
              "    </button>\n",
              "    <script>\n",
              "      (() => {\n",
              "      const buttonEl =\n",
              "        document.querySelector('#id_c918b814-96a9-4d48-b9c3-07afc6b255b0 button.colab-df-generate');\n",
              "      buttonEl.style.display =\n",
              "        google.colab.kernel.accessAllowed ? 'block' : 'none';\n",
              "\n",
              "      buttonEl.onclick = () => {\n",
              "        google.colab.notebook.generateWithVariable('df');\n",
              "      }\n",
              "      })();\n",
              "    </script>\n",
              "  </div>\n",
              "\n",
              "    </div>\n",
              "  </div>\n"
            ],
            "application/vnd.google.colaboratory.intrinsic+json": {
              "type": "dataframe",
              "variable_name": "df",
              "summary": "{\n  \"name\": \"df\",\n  \"rows\": 68353,\n  \"fields\": [\n    {\n      \"column\": \"Email_ID\",\n      \"properties\": {\n        \"dtype\": \"string\",\n        \"num_unique_values\": 68353,\n        \"samples\": [\n          \"EMA00083431546870\",\n          \"EMA00082438082560\",\n          \"EMA00088044536300\"\n        ],\n        \"semantic_type\": \"\",\n        \"description\": \"\"\n      }\n    },\n    {\n      \"column\": \"Email_Type\",\n      \"properties\": {\n        \"dtype\": \"number\",\n        \"std\": 0,\n        \"min\": 1,\n        \"max\": 2,\n        \"num_unique_values\": 2,\n        \"samples\": [\n          2,\n          1\n        ],\n        \"semantic_type\": \"\",\n        \"description\": \"\"\n      }\n    },\n    {\n      \"column\": \"Subject_Hotness_Score\",\n      \"properties\": {\n        \"dtype\": \"number\",\n        \"std\": 0.9975779277899959,\n        \"min\": 0.0,\n        \"max\": 5.0,\n        \"num_unique_values\": 51,\n        \"samples\": [\n          4.5,\n          3.9\n        ],\n        \"semantic_type\": \"\",\n        \"description\": \"\"\n      }\n    },\n    {\n      \"column\": \"Email_Source_Type\",\n      \"properties\": {\n        \"dtype\": \"number\",\n        \"std\": 0,\n        \"min\": 1,\n        \"max\": 2,\n        \"num_unique_values\": 2,\n        \"samples\": [\n          1,\n          2\n        ],\n        \"semantic_type\": \"\",\n        \"description\": \"\"\n      }\n    },\n    {\n      \"column\": \"Customer_Location\",\n      \"properties\": {\n        \"dtype\": \"category\",\n        \"num_unique_values\": 7,\n        \"samples\": [\n          \"E\",\n          \"B\"\n        ],\n        \"semantic_type\": \"\",\n        \"description\": \"\"\n      }\n    },\n    {\n      \"column\": \"Email_Campaign_Type\",\n      \"properties\": {\n        \"dtype\": \"number\",\n        \"std\": 0,\n        \"min\": 1,\n        \"max\": 3,\n        \"num_unique_values\": 3,\n        \"samples\": [\n          2,\n          3\n        ],\n        \"semantic_type\": \"\",\n        \"description\": \"\"\n      }\n    },\n    {\n      \"column\": \"Total_Past_Communications\",\n      \"properties\": {\n        \"dtype\": \"number\",\n        \"std\": 12.53651798864781,\n        \"min\": 0.0,\n        \"max\": 67.0,\n        \"num_unique_values\": 64,\n        \"samples\": [\n          60.0,\n          64.0\n        ],\n        \"semantic_type\": \"\",\n        \"description\": \"\"\n      }\n    },\n    {\n      \"column\": \"Time_Email_sent_Category\",\n      \"properties\": {\n        \"dtype\": \"number\",\n        \"std\": 0,\n        \"min\": 1,\n        \"max\": 3,\n        \"num_unique_values\": 3,\n        \"samples\": [\n          1,\n          2\n        ],\n        \"semantic_type\": \"\",\n        \"description\": \"\"\n      }\n    },\n    {\n      \"column\": \"Word_Count\",\n      \"properties\": {\n        \"dtype\": \"number\",\n        \"std\": 271,\n        \"min\": 40,\n        \"max\": 1316,\n        \"num_unique_values\": 151,\n        \"samples\": [\n          806,\n          1082\n        ],\n        \"semantic_type\": \"\",\n        \"description\": \"\"\n      }\n    },\n    {\n      \"column\": \"Total_Links\",\n      \"properties\": {\n        \"dtype\": \"number\",\n        \"std\": 6.38326978032743,\n        \"min\": 1.0,\n        \"max\": 49.0,\n        \"num_unique_values\": 37,\n        \"samples\": [\n          24.0,\n          2.0\n        ],\n        \"semantic_type\": \"\",\n        \"description\": \"\"\n      }\n    },\n    {\n      \"column\": \"Total_Images\",\n      \"properties\": {\n        \"dtype\": \"number\",\n        \"std\": 5.596983170673621,\n        \"min\": 0.0,\n        \"max\": 45.0,\n        \"num_unique_values\": 45,\n        \"samples\": [\n          36.0,\n          23.0\n        ],\n        \"semantic_type\": \"\",\n        \"description\": \"\"\n      }\n    },\n    {\n      \"column\": \"Email_Status\",\n      \"properties\": {\n        \"dtype\": \"number\",\n        \"std\": 0,\n        \"min\": 0,\n        \"max\": 2,\n        \"num_unique_values\": 3,\n        \"samples\": [\n          0,\n          1\n        ],\n        \"semantic_type\": \"\",\n        \"description\": \"\"\n      }\n    }\n  ]\n}"
            }
          },
          "metadata": {},
          "execution_count": 6
        }
      ]
    },
    {
      "cell_type": "code",
      "execution_count": null,
      "metadata": {
        "colab": {
          "base_uri": "https://localhost:8080/",
          "height": 226
        },
        "id": "Q2sRztBY2YZ4",
        "outputId": "de58572f-51f5-4b0b-9fd5-a212878cc1e4"
      },
      "outputs": [
        {
          "output_type": "execute_result",
          "data": {
            "text/plain": [
              "            Email_ID  Email_Type  Subject_Hotness_Score  Email_Source_Type  \\\n",
              "0  EMA00081000034500           1                    2.2                  2   \n",
              "1  EMA00081000045360           2                    2.1                  1   \n",
              "2  EMA00081000066290           2                    0.1                  1   \n",
              "3  EMA00081000076560           1                    3.0                  2   \n",
              "4  EMA00081000109720           1                    0.0                  2   \n",
              "\n",
              "  Customer_Location  Email_Campaign_Type  Total_Past_Communications  \\\n",
              "0                 E                    2                       33.0   \n",
              "1               NaN                    2                       15.0   \n",
              "2                 B                    3                       36.0   \n",
              "3                 E                    2                       25.0   \n",
              "4                 C                    3                       18.0   \n",
              "\n",
              "   Time_Email_sent_Category  Word_Count  Total_Links  Total_Images  \\\n",
              "0                         1         440          8.0           0.0   \n",
              "1                         2         504          5.0           0.0   \n",
              "2                         2         962          5.0           0.0   \n",
              "3                         2         610         16.0           0.0   \n",
              "4                         2         947          4.0           0.0   \n",
              "\n",
              "   Email_Status  \n",
              "0             0  \n",
              "1             0  \n",
              "2             1  \n",
              "3             0  \n",
              "4             0  "
            ],
            "text/html": [
              "\n",
              "  <div id=\"df-a9663e75-a866-48f2-957b-7c3537d2347d\" class=\"colab-df-container\">\n",
              "    <div>\n",
              "<style scoped>\n",
              "    .dataframe tbody tr th:only-of-type {\n",
              "        vertical-align: middle;\n",
              "    }\n",
              "\n",
              "    .dataframe tbody tr th {\n",
              "        vertical-align: top;\n",
              "    }\n",
              "\n",
              "    .dataframe thead th {\n",
              "        text-align: right;\n",
              "    }\n",
              "</style>\n",
              "<table border=\"1\" class=\"dataframe\">\n",
              "  <thead>\n",
              "    <tr style=\"text-align: right;\">\n",
              "      <th></th>\n",
              "      <th>Email_ID</th>\n",
              "      <th>Email_Type</th>\n",
              "      <th>Subject_Hotness_Score</th>\n",
              "      <th>Email_Source_Type</th>\n",
              "      <th>Customer_Location</th>\n",
              "      <th>Email_Campaign_Type</th>\n",
              "      <th>Total_Past_Communications</th>\n",
              "      <th>Time_Email_sent_Category</th>\n",
              "      <th>Word_Count</th>\n",
              "      <th>Total_Links</th>\n",
              "      <th>Total_Images</th>\n",
              "      <th>Email_Status</th>\n",
              "    </tr>\n",
              "  </thead>\n",
              "  <tbody>\n",
              "    <tr>\n",
              "      <th>0</th>\n",
              "      <td>EMA00081000034500</td>\n",
              "      <td>1</td>\n",
              "      <td>2.2</td>\n",
              "      <td>2</td>\n",
              "      <td>E</td>\n",
              "      <td>2</td>\n",
              "      <td>33.0</td>\n",
              "      <td>1</td>\n",
              "      <td>440</td>\n",
              "      <td>8.0</td>\n",
              "      <td>0.0</td>\n",
              "      <td>0</td>\n",
              "    </tr>\n",
              "    <tr>\n",
              "      <th>1</th>\n",
              "      <td>EMA00081000045360</td>\n",
              "      <td>2</td>\n",
              "      <td>2.1</td>\n",
              "      <td>1</td>\n",
              "      <td>NaN</td>\n",
              "      <td>2</td>\n",
              "      <td>15.0</td>\n",
              "      <td>2</td>\n",
              "      <td>504</td>\n",
              "      <td>5.0</td>\n",
              "      <td>0.0</td>\n",
              "      <td>0</td>\n",
              "    </tr>\n",
              "    <tr>\n",
              "      <th>2</th>\n",
              "      <td>EMA00081000066290</td>\n",
              "      <td>2</td>\n",
              "      <td>0.1</td>\n",
              "      <td>1</td>\n",
              "      <td>B</td>\n",
              "      <td>3</td>\n",
              "      <td>36.0</td>\n",
              "      <td>2</td>\n",
              "      <td>962</td>\n",
              "      <td>5.0</td>\n",
              "      <td>0.0</td>\n",
              "      <td>1</td>\n",
              "    </tr>\n",
              "    <tr>\n",
              "      <th>3</th>\n",
              "      <td>EMA00081000076560</td>\n",
              "      <td>1</td>\n",
              "      <td>3.0</td>\n",
              "      <td>2</td>\n",
              "      <td>E</td>\n",
              "      <td>2</td>\n",
              "      <td>25.0</td>\n",
              "      <td>2</td>\n",
              "      <td>610</td>\n",
              "      <td>16.0</td>\n",
              "      <td>0.0</td>\n",
              "      <td>0</td>\n",
              "    </tr>\n",
              "    <tr>\n",
              "      <th>4</th>\n",
              "      <td>EMA00081000109720</td>\n",
              "      <td>1</td>\n",
              "      <td>0.0</td>\n",
              "      <td>2</td>\n",
              "      <td>C</td>\n",
              "      <td>3</td>\n",
              "      <td>18.0</td>\n",
              "      <td>2</td>\n",
              "      <td>947</td>\n",
              "      <td>4.0</td>\n",
              "      <td>0.0</td>\n",
              "      <td>0</td>\n",
              "    </tr>\n",
              "  </tbody>\n",
              "</table>\n",
              "</div>\n",
              "    <div class=\"colab-df-buttons\">\n",
              "\n",
              "  <div class=\"colab-df-container\">\n",
              "    <button class=\"colab-df-convert\" onclick=\"convertToInteractive('df-a9663e75-a866-48f2-957b-7c3537d2347d')\"\n",
              "            title=\"Convert this dataframe to an interactive table.\"\n",
              "            style=\"display:none;\">\n",
              "\n",
              "  <svg xmlns=\"http://www.w3.org/2000/svg\" height=\"24px\" viewBox=\"0 -960 960 960\">\n",
              "    <path d=\"M120-120v-720h720v720H120Zm60-500h600v-160H180v160Zm220 220h160v-160H400v160Zm0 220h160v-160H400v160ZM180-400h160v-160H180v160Zm440 0h160v-160H620v160ZM180-180h160v-160H180v160Zm440 0h160v-160H620v160Z\"/>\n",
              "  </svg>\n",
              "    </button>\n",
              "\n",
              "  <style>\n",
              "    .colab-df-container {\n",
              "      display:flex;\n",
              "      gap: 12px;\n",
              "    }\n",
              "\n",
              "    .colab-df-convert {\n",
              "      background-color: #E8F0FE;\n",
              "      border: none;\n",
              "      border-radius: 50%;\n",
              "      cursor: pointer;\n",
              "      display: none;\n",
              "      fill: #1967D2;\n",
              "      height: 32px;\n",
              "      padding: 0 0 0 0;\n",
              "      width: 32px;\n",
              "    }\n",
              "\n",
              "    .colab-df-convert:hover {\n",
              "      background-color: #E2EBFA;\n",
              "      box-shadow: 0px 1px 2px rgba(60, 64, 67, 0.3), 0px 1px 3px 1px rgba(60, 64, 67, 0.15);\n",
              "      fill: #174EA6;\n",
              "    }\n",
              "\n",
              "    .colab-df-buttons div {\n",
              "      margin-bottom: 4px;\n",
              "    }\n",
              "\n",
              "    [theme=dark] .colab-df-convert {\n",
              "      background-color: #3B4455;\n",
              "      fill: #D2E3FC;\n",
              "    }\n",
              "\n",
              "    [theme=dark] .colab-df-convert:hover {\n",
              "      background-color: #434B5C;\n",
              "      box-shadow: 0px 1px 3px 1px rgba(0, 0, 0, 0.15);\n",
              "      filter: drop-shadow(0px 1px 2px rgba(0, 0, 0, 0.3));\n",
              "      fill: #FFFFFF;\n",
              "    }\n",
              "  </style>\n",
              "\n",
              "    <script>\n",
              "      const buttonEl =\n",
              "        document.querySelector('#df-a9663e75-a866-48f2-957b-7c3537d2347d button.colab-df-convert');\n",
              "      buttonEl.style.display =\n",
              "        google.colab.kernel.accessAllowed ? 'block' : 'none';\n",
              "\n",
              "      async function convertToInteractive(key) {\n",
              "        const element = document.querySelector('#df-a9663e75-a866-48f2-957b-7c3537d2347d');\n",
              "        const dataTable =\n",
              "          await google.colab.kernel.invokeFunction('convertToInteractive',\n",
              "                                                    [key], {});\n",
              "        if (!dataTable) return;\n",
              "\n",
              "        const docLinkHtml = 'Like what you see? Visit the ' +\n",
              "          '<a target=\"_blank\" href=https://colab.research.google.com/notebooks/data_table.ipynb>data table notebook</a>'\n",
              "          + ' to learn more about interactive tables.';\n",
              "        element.innerHTML = '';\n",
              "        dataTable['output_type'] = 'display_data';\n",
              "        await google.colab.output.renderOutput(dataTable, element);\n",
              "        const docLink = document.createElement('div');\n",
              "        docLink.innerHTML = docLinkHtml;\n",
              "        element.appendChild(docLink);\n",
              "      }\n",
              "    </script>\n",
              "  </div>\n",
              "\n",
              "\n",
              "<div id=\"df-873df0fd-110b-4488-9d8b-4201f2aa9e6f\">\n",
              "  <button class=\"colab-df-quickchart\" onclick=\"quickchart('df-873df0fd-110b-4488-9d8b-4201f2aa9e6f')\"\n",
              "            title=\"Suggest charts\"\n",
              "            style=\"display:none;\">\n",
              "\n",
              "<svg xmlns=\"http://www.w3.org/2000/svg\" height=\"24px\"viewBox=\"0 0 24 24\"\n",
              "     width=\"24px\">\n",
              "    <g>\n",
              "        <path d=\"M19 3H5c-1.1 0-2 .9-2 2v14c0 1.1.9 2 2 2h14c1.1 0 2-.9 2-2V5c0-1.1-.9-2-2-2zM9 17H7v-7h2v7zm4 0h-2V7h2v10zm4 0h-2v-4h2v4z\"/>\n",
              "    </g>\n",
              "</svg>\n",
              "  </button>\n",
              "\n",
              "<style>\n",
              "  .colab-df-quickchart {\n",
              "      --bg-color: #E8F0FE;\n",
              "      --fill-color: #1967D2;\n",
              "      --hover-bg-color: #E2EBFA;\n",
              "      --hover-fill-color: #174EA6;\n",
              "      --disabled-fill-color: #AAA;\n",
              "      --disabled-bg-color: #DDD;\n",
              "  }\n",
              "\n",
              "  [theme=dark] .colab-df-quickchart {\n",
              "      --bg-color: #3B4455;\n",
              "      --fill-color: #D2E3FC;\n",
              "      --hover-bg-color: #434B5C;\n",
              "      --hover-fill-color: #FFFFFF;\n",
              "      --disabled-bg-color: #3B4455;\n",
              "      --disabled-fill-color: #666;\n",
              "  }\n",
              "\n",
              "  .colab-df-quickchart {\n",
              "    background-color: var(--bg-color);\n",
              "    border: none;\n",
              "    border-radius: 50%;\n",
              "    cursor: pointer;\n",
              "    display: none;\n",
              "    fill: var(--fill-color);\n",
              "    height: 32px;\n",
              "    padding: 0;\n",
              "    width: 32px;\n",
              "  }\n",
              "\n",
              "  .colab-df-quickchart:hover {\n",
              "    background-color: var(--hover-bg-color);\n",
              "    box-shadow: 0 1px 2px rgba(60, 64, 67, 0.3), 0 1px 3px 1px rgba(60, 64, 67, 0.15);\n",
              "    fill: var(--button-hover-fill-color);\n",
              "  }\n",
              "\n",
              "  .colab-df-quickchart-complete:disabled,\n",
              "  .colab-df-quickchart-complete:disabled:hover {\n",
              "    background-color: var(--disabled-bg-color);\n",
              "    fill: var(--disabled-fill-color);\n",
              "    box-shadow: none;\n",
              "  }\n",
              "\n",
              "  .colab-df-spinner {\n",
              "    border: 2px solid var(--fill-color);\n",
              "    border-color: transparent;\n",
              "    border-bottom-color: var(--fill-color);\n",
              "    animation:\n",
              "      spin 1s steps(1) infinite;\n",
              "  }\n",
              "\n",
              "  @keyframes spin {\n",
              "    0% {\n",
              "      border-color: transparent;\n",
              "      border-bottom-color: var(--fill-color);\n",
              "      border-left-color: var(--fill-color);\n",
              "    }\n",
              "    20% {\n",
              "      border-color: transparent;\n",
              "      border-left-color: var(--fill-color);\n",
              "      border-top-color: var(--fill-color);\n",
              "    }\n",
              "    30% {\n",
              "      border-color: transparent;\n",
              "      border-left-color: var(--fill-color);\n",
              "      border-top-color: var(--fill-color);\n",
              "      border-right-color: var(--fill-color);\n",
              "    }\n",
              "    40% {\n",
              "      border-color: transparent;\n",
              "      border-right-color: var(--fill-color);\n",
              "      border-top-color: var(--fill-color);\n",
              "    }\n",
              "    60% {\n",
              "      border-color: transparent;\n",
              "      border-right-color: var(--fill-color);\n",
              "    }\n",
              "    80% {\n",
              "      border-color: transparent;\n",
              "      border-right-color: var(--fill-color);\n",
              "      border-bottom-color: var(--fill-color);\n",
              "    }\n",
              "    90% {\n",
              "      border-color: transparent;\n",
              "      border-bottom-color: var(--fill-color);\n",
              "    }\n",
              "  }\n",
              "</style>\n",
              "\n",
              "  <script>\n",
              "    async function quickchart(key) {\n",
              "      const quickchartButtonEl =\n",
              "        document.querySelector('#' + key + ' button');\n",
              "      quickchartButtonEl.disabled = true;  // To prevent multiple clicks.\n",
              "      quickchartButtonEl.classList.add('colab-df-spinner');\n",
              "      try {\n",
              "        const charts = await google.colab.kernel.invokeFunction(\n",
              "            'suggestCharts', [key], {});\n",
              "      } catch (error) {\n",
              "        console.error('Error during call to suggestCharts:', error);\n",
              "      }\n",
              "      quickchartButtonEl.classList.remove('colab-df-spinner');\n",
              "      quickchartButtonEl.classList.add('colab-df-quickchart-complete');\n",
              "    }\n",
              "    (() => {\n",
              "      let quickchartButtonEl =\n",
              "        document.querySelector('#df-873df0fd-110b-4488-9d8b-4201f2aa9e6f button');\n",
              "      quickchartButtonEl.style.display =\n",
              "        google.colab.kernel.accessAllowed ? 'block' : 'none';\n",
              "    })();\n",
              "  </script>\n",
              "</div>\n",
              "\n",
              "    </div>\n",
              "  </div>\n"
            ],
            "application/vnd.google.colaboratory.intrinsic+json": {
              "type": "dataframe",
              "variable_name": "df",
              "summary": "{\n  \"name\": \"df\",\n  \"rows\": 68353,\n  \"fields\": [\n    {\n      \"column\": \"Email_ID\",\n      \"properties\": {\n        \"dtype\": \"string\",\n        \"num_unique_values\": 68353,\n        \"samples\": [\n          \"EMA00083431546870\",\n          \"EMA00082438082560\",\n          \"EMA00088044536300\"\n        ],\n        \"semantic_type\": \"\",\n        \"description\": \"\"\n      }\n    },\n    {\n      \"column\": \"Email_Type\",\n      \"properties\": {\n        \"dtype\": \"number\",\n        \"std\": 0,\n        \"min\": 1,\n        \"max\": 2,\n        \"num_unique_values\": 2,\n        \"samples\": [\n          2,\n          1\n        ],\n        \"semantic_type\": \"\",\n        \"description\": \"\"\n      }\n    },\n    {\n      \"column\": \"Subject_Hotness_Score\",\n      \"properties\": {\n        \"dtype\": \"number\",\n        \"std\": 0.9975779277899959,\n        \"min\": 0.0,\n        \"max\": 5.0,\n        \"num_unique_values\": 51,\n        \"samples\": [\n          4.5,\n          3.9\n        ],\n        \"semantic_type\": \"\",\n        \"description\": \"\"\n      }\n    },\n    {\n      \"column\": \"Email_Source_Type\",\n      \"properties\": {\n        \"dtype\": \"number\",\n        \"std\": 0,\n        \"min\": 1,\n        \"max\": 2,\n        \"num_unique_values\": 2,\n        \"samples\": [\n          1,\n          2\n        ],\n        \"semantic_type\": \"\",\n        \"description\": \"\"\n      }\n    },\n    {\n      \"column\": \"Customer_Location\",\n      \"properties\": {\n        \"dtype\": \"category\",\n        \"num_unique_values\": 7,\n        \"samples\": [\n          \"E\",\n          \"B\"\n        ],\n        \"semantic_type\": \"\",\n        \"description\": \"\"\n      }\n    },\n    {\n      \"column\": \"Email_Campaign_Type\",\n      \"properties\": {\n        \"dtype\": \"number\",\n        \"std\": 0,\n        \"min\": 1,\n        \"max\": 3,\n        \"num_unique_values\": 3,\n        \"samples\": [\n          2,\n          3\n        ],\n        \"semantic_type\": \"\",\n        \"description\": \"\"\n      }\n    },\n    {\n      \"column\": \"Total_Past_Communications\",\n      \"properties\": {\n        \"dtype\": \"number\",\n        \"std\": 12.53651798864781,\n        \"min\": 0.0,\n        \"max\": 67.0,\n        \"num_unique_values\": 64,\n        \"samples\": [\n          60.0,\n          64.0\n        ],\n        \"semantic_type\": \"\",\n        \"description\": \"\"\n      }\n    },\n    {\n      \"column\": \"Time_Email_sent_Category\",\n      \"properties\": {\n        \"dtype\": \"number\",\n        \"std\": 0,\n        \"min\": 1,\n        \"max\": 3,\n        \"num_unique_values\": 3,\n        \"samples\": [\n          1,\n          2\n        ],\n        \"semantic_type\": \"\",\n        \"description\": \"\"\n      }\n    },\n    {\n      \"column\": \"Word_Count\",\n      \"properties\": {\n        \"dtype\": \"number\",\n        \"std\": 271,\n        \"min\": 40,\n        \"max\": 1316,\n        \"num_unique_values\": 151,\n        \"samples\": [\n          806,\n          1082\n        ],\n        \"semantic_type\": \"\",\n        \"description\": \"\"\n      }\n    },\n    {\n      \"column\": \"Total_Links\",\n      \"properties\": {\n        \"dtype\": \"number\",\n        \"std\": 6.38326978032743,\n        \"min\": 1.0,\n        \"max\": 49.0,\n        \"num_unique_values\": 37,\n        \"samples\": [\n          24.0,\n          2.0\n        ],\n        \"semantic_type\": \"\",\n        \"description\": \"\"\n      }\n    },\n    {\n      \"column\": \"Total_Images\",\n      \"properties\": {\n        \"dtype\": \"number\",\n        \"std\": 5.596983170673621,\n        \"min\": 0.0,\n        \"max\": 45.0,\n        \"num_unique_values\": 45,\n        \"samples\": [\n          36.0,\n          23.0\n        ],\n        \"semantic_type\": \"\",\n        \"description\": \"\"\n      }\n    },\n    {\n      \"column\": \"Email_Status\",\n      \"properties\": {\n        \"dtype\": \"number\",\n        \"std\": 0,\n        \"min\": 0,\n        \"max\": 2,\n        \"num_unique_values\": 3,\n        \"samples\": [\n          0,\n          1\n        ],\n        \"semantic_type\": \"\",\n        \"description\": \"\"\n      }\n    }\n  ]\n}"
            }
          },
          "metadata": {},
          "execution_count": 7
        }
      ],
      "source": [
        "df.head()"
      ]
    },
    {
      "cell_type": "code",
      "source": [
        "df.tail()"
      ],
      "metadata": {
        "colab": {
          "base_uri": "https://localhost:8080/",
          "height": 226
        },
        "id": "HsGwibjKe1T_",
        "outputId": "01ed1b46-335e-4e5b-c58f-0516e1a0725c"
      },
      "execution_count": null,
      "outputs": [
        {
          "output_type": "execute_result",
          "data": {
            "text/plain": [
              "                Email_ID  Email_Type  Subject_Hotness_Score  \\\n",
              "68348  EMA00089995974500           2                    0.4   \n",
              "68349  EMA00089998225300           1                    1.3   \n",
              "68350  EMA00089998436500           1                    2.2   \n",
              "68351  EMA00089999168800           1                    0.4   \n",
              "68352  EMA00089999316900           1                    1.5   \n",
              "\n",
              "       Email_Source_Type Customer_Location  Email_Campaign_Type  \\\n",
              "68348                  1                 F                    2   \n",
              "68349                  1                 C                    2   \n",
              "68350                  2               NaN                    2   \n",
              "68351                  1                 E                    2   \n",
              "68352                  1                 G                    2   \n",
              "\n",
              "       Total_Past_Communications  Time_Email_sent_Category  Word_Count  \\\n",
              "68348                       22.0                         3         737   \n",
              "68349                       40.0                         2         653   \n",
              "68350                       33.0                         2         490   \n",
              "68351                       50.0                         1         733   \n",
              "68352                       20.0                         2        1038   \n",
              "\n",
              "       Total_Links  Total_Images  Email_Status  \n",
              "68348         16.0          13.0             0  \n",
              "68349         31.0          16.0             0  \n",
              "68350          9.0           0.0             0  \n",
              "68351         14.0           4.0             0  \n",
              "68352          6.0           0.0             0  "
            ],
            "text/html": [
              "\n",
              "  <div id=\"df-f5713a8b-491e-454e-b0fb-b6955809adc8\" class=\"colab-df-container\">\n",
              "    <div>\n",
              "<style scoped>\n",
              "    .dataframe tbody tr th:only-of-type {\n",
              "        vertical-align: middle;\n",
              "    }\n",
              "\n",
              "    .dataframe tbody tr th {\n",
              "        vertical-align: top;\n",
              "    }\n",
              "\n",
              "    .dataframe thead th {\n",
              "        text-align: right;\n",
              "    }\n",
              "</style>\n",
              "<table border=\"1\" class=\"dataframe\">\n",
              "  <thead>\n",
              "    <tr style=\"text-align: right;\">\n",
              "      <th></th>\n",
              "      <th>Email_ID</th>\n",
              "      <th>Email_Type</th>\n",
              "      <th>Subject_Hotness_Score</th>\n",
              "      <th>Email_Source_Type</th>\n",
              "      <th>Customer_Location</th>\n",
              "      <th>Email_Campaign_Type</th>\n",
              "      <th>Total_Past_Communications</th>\n",
              "      <th>Time_Email_sent_Category</th>\n",
              "      <th>Word_Count</th>\n",
              "      <th>Total_Links</th>\n",
              "      <th>Total_Images</th>\n",
              "      <th>Email_Status</th>\n",
              "    </tr>\n",
              "  </thead>\n",
              "  <tbody>\n",
              "    <tr>\n",
              "      <th>68348</th>\n",
              "      <td>EMA00089995974500</td>\n",
              "      <td>2</td>\n",
              "      <td>0.4</td>\n",
              "      <td>1</td>\n",
              "      <td>F</td>\n",
              "      <td>2</td>\n",
              "      <td>22.0</td>\n",
              "      <td>3</td>\n",
              "      <td>737</td>\n",
              "      <td>16.0</td>\n",
              "      <td>13.0</td>\n",
              "      <td>0</td>\n",
              "    </tr>\n",
              "    <tr>\n",
              "      <th>68349</th>\n",
              "      <td>EMA00089998225300</td>\n",
              "      <td>1</td>\n",
              "      <td>1.3</td>\n",
              "      <td>1</td>\n",
              "      <td>C</td>\n",
              "      <td>2</td>\n",
              "      <td>40.0</td>\n",
              "      <td>2</td>\n",
              "      <td>653</td>\n",
              "      <td>31.0</td>\n",
              "      <td>16.0</td>\n",
              "      <td>0</td>\n",
              "    </tr>\n",
              "    <tr>\n",
              "      <th>68350</th>\n",
              "      <td>EMA00089998436500</td>\n",
              "      <td>1</td>\n",
              "      <td>2.2</td>\n",
              "      <td>2</td>\n",
              "      <td>NaN</td>\n",
              "      <td>2</td>\n",
              "      <td>33.0</td>\n",
              "      <td>2</td>\n",
              "      <td>490</td>\n",
              "      <td>9.0</td>\n",
              "      <td>0.0</td>\n",
              "      <td>0</td>\n",
              "    </tr>\n",
              "    <tr>\n",
              "      <th>68351</th>\n",
              "      <td>EMA00089999168800</td>\n",
              "      <td>1</td>\n",
              "      <td>0.4</td>\n",
              "      <td>1</td>\n",
              "      <td>E</td>\n",
              "      <td>2</td>\n",
              "      <td>50.0</td>\n",
              "      <td>1</td>\n",
              "      <td>733</td>\n",
              "      <td>14.0</td>\n",
              "      <td>4.0</td>\n",
              "      <td>0</td>\n",
              "    </tr>\n",
              "    <tr>\n",
              "      <th>68352</th>\n",
              "      <td>EMA00089999316900</td>\n",
              "      <td>1</td>\n",
              "      <td>1.5</td>\n",
              "      <td>1</td>\n",
              "      <td>G</td>\n",
              "      <td>2</td>\n",
              "      <td>20.0</td>\n",
              "      <td>2</td>\n",
              "      <td>1038</td>\n",
              "      <td>6.0</td>\n",
              "      <td>0.0</td>\n",
              "      <td>0</td>\n",
              "    </tr>\n",
              "  </tbody>\n",
              "</table>\n",
              "</div>\n",
              "    <div class=\"colab-df-buttons\">\n",
              "\n",
              "  <div class=\"colab-df-container\">\n",
              "    <button class=\"colab-df-convert\" onclick=\"convertToInteractive('df-f5713a8b-491e-454e-b0fb-b6955809adc8')\"\n",
              "            title=\"Convert this dataframe to an interactive table.\"\n",
              "            style=\"display:none;\">\n",
              "\n",
              "  <svg xmlns=\"http://www.w3.org/2000/svg\" height=\"24px\" viewBox=\"0 -960 960 960\">\n",
              "    <path d=\"M120-120v-720h720v720H120Zm60-500h600v-160H180v160Zm220 220h160v-160H400v160Zm0 220h160v-160H400v160ZM180-400h160v-160H180v160Zm440 0h160v-160H620v160ZM180-180h160v-160H180v160Zm440 0h160v-160H620v160Z\"/>\n",
              "  </svg>\n",
              "    </button>\n",
              "\n",
              "  <style>\n",
              "    .colab-df-container {\n",
              "      display:flex;\n",
              "      gap: 12px;\n",
              "    }\n",
              "\n",
              "    .colab-df-convert {\n",
              "      background-color: #E8F0FE;\n",
              "      border: none;\n",
              "      border-radius: 50%;\n",
              "      cursor: pointer;\n",
              "      display: none;\n",
              "      fill: #1967D2;\n",
              "      height: 32px;\n",
              "      padding: 0 0 0 0;\n",
              "      width: 32px;\n",
              "    }\n",
              "\n",
              "    .colab-df-convert:hover {\n",
              "      background-color: #E2EBFA;\n",
              "      box-shadow: 0px 1px 2px rgba(60, 64, 67, 0.3), 0px 1px 3px 1px rgba(60, 64, 67, 0.15);\n",
              "      fill: #174EA6;\n",
              "    }\n",
              "\n",
              "    .colab-df-buttons div {\n",
              "      margin-bottom: 4px;\n",
              "    }\n",
              "\n",
              "    [theme=dark] .colab-df-convert {\n",
              "      background-color: #3B4455;\n",
              "      fill: #D2E3FC;\n",
              "    }\n",
              "\n",
              "    [theme=dark] .colab-df-convert:hover {\n",
              "      background-color: #434B5C;\n",
              "      box-shadow: 0px 1px 3px 1px rgba(0, 0, 0, 0.15);\n",
              "      filter: drop-shadow(0px 1px 2px rgba(0, 0, 0, 0.3));\n",
              "      fill: #FFFFFF;\n",
              "    }\n",
              "  </style>\n",
              "\n",
              "    <script>\n",
              "      const buttonEl =\n",
              "        document.querySelector('#df-f5713a8b-491e-454e-b0fb-b6955809adc8 button.colab-df-convert');\n",
              "      buttonEl.style.display =\n",
              "        google.colab.kernel.accessAllowed ? 'block' : 'none';\n",
              "\n",
              "      async function convertToInteractive(key) {\n",
              "        const element = document.querySelector('#df-f5713a8b-491e-454e-b0fb-b6955809adc8');\n",
              "        const dataTable =\n",
              "          await google.colab.kernel.invokeFunction('convertToInteractive',\n",
              "                                                    [key], {});\n",
              "        if (!dataTable) return;\n",
              "\n",
              "        const docLinkHtml = 'Like what you see? Visit the ' +\n",
              "          '<a target=\"_blank\" href=https://colab.research.google.com/notebooks/data_table.ipynb>data table notebook</a>'\n",
              "          + ' to learn more about interactive tables.';\n",
              "        element.innerHTML = '';\n",
              "        dataTable['output_type'] = 'display_data';\n",
              "        await google.colab.output.renderOutput(dataTable, element);\n",
              "        const docLink = document.createElement('div');\n",
              "        docLink.innerHTML = docLinkHtml;\n",
              "        element.appendChild(docLink);\n",
              "      }\n",
              "    </script>\n",
              "  </div>\n",
              "\n",
              "\n",
              "<div id=\"df-cb0c9cdd-2ef4-43f7-ac09-186aca5dcee4\">\n",
              "  <button class=\"colab-df-quickchart\" onclick=\"quickchart('df-cb0c9cdd-2ef4-43f7-ac09-186aca5dcee4')\"\n",
              "            title=\"Suggest charts\"\n",
              "            style=\"display:none;\">\n",
              "\n",
              "<svg xmlns=\"http://www.w3.org/2000/svg\" height=\"24px\"viewBox=\"0 0 24 24\"\n",
              "     width=\"24px\">\n",
              "    <g>\n",
              "        <path d=\"M19 3H5c-1.1 0-2 .9-2 2v14c0 1.1.9 2 2 2h14c1.1 0 2-.9 2-2V5c0-1.1-.9-2-2-2zM9 17H7v-7h2v7zm4 0h-2V7h2v10zm4 0h-2v-4h2v4z\"/>\n",
              "    </g>\n",
              "</svg>\n",
              "  </button>\n",
              "\n",
              "<style>\n",
              "  .colab-df-quickchart {\n",
              "      --bg-color: #E8F0FE;\n",
              "      --fill-color: #1967D2;\n",
              "      --hover-bg-color: #E2EBFA;\n",
              "      --hover-fill-color: #174EA6;\n",
              "      --disabled-fill-color: #AAA;\n",
              "      --disabled-bg-color: #DDD;\n",
              "  }\n",
              "\n",
              "  [theme=dark] .colab-df-quickchart {\n",
              "      --bg-color: #3B4455;\n",
              "      --fill-color: #D2E3FC;\n",
              "      --hover-bg-color: #434B5C;\n",
              "      --hover-fill-color: #FFFFFF;\n",
              "      --disabled-bg-color: #3B4455;\n",
              "      --disabled-fill-color: #666;\n",
              "  }\n",
              "\n",
              "  .colab-df-quickchart {\n",
              "    background-color: var(--bg-color);\n",
              "    border: none;\n",
              "    border-radius: 50%;\n",
              "    cursor: pointer;\n",
              "    display: none;\n",
              "    fill: var(--fill-color);\n",
              "    height: 32px;\n",
              "    padding: 0;\n",
              "    width: 32px;\n",
              "  }\n",
              "\n",
              "  .colab-df-quickchart:hover {\n",
              "    background-color: var(--hover-bg-color);\n",
              "    box-shadow: 0 1px 2px rgba(60, 64, 67, 0.3), 0 1px 3px 1px rgba(60, 64, 67, 0.15);\n",
              "    fill: var(--button-hover-fill-color);\n",
              "  }\n",
              "\n",
              "  .colab-df-quickchart-complete:disabled,\n",
              "  .colab-df-quickchart-complete:disabled:hover {\n",
              "    background-color: var(--disabled-bg-color);\n",
              "    fill: var(--disabled-fill-color);\n",
              "    box-shadow: none;\n",
              "  }\n",
              "\n",
              "  .colab-df-spinner {\n",
              "    border: 2px solid var(--fill-color);\n",
              "    border-color: transparent;\n",
              "    border-bottom-color: var(--fill-color);\n",
              "    animation:\n",
              "      spin 1s steps(1) infinite;\n",
              "  }\n",
              "\n",
              "  @keyframes spin {\n",
              "    0% {\n",
              "      border-color: transparent;\n",
              "      border-bottom-color: var(--fill-color);\n",
              "      border-left-color: var(--fill-color);\n",
              "    }\n",
              "    20% {\n",
              "      border-color: transparent;\n",
              "      border-left-color: var(--fill-color);\n",
              "      border-top-color: var(--fill-color);\n",
              "    }\n",
              "    30% {\n",
              "      border-color: transparent;\n",
              "      border-left-color: var(--fill-color);\n",
              "      border-top-color: var(--fill-color);\n",
              "      border-right-color: var(--fill-color);\n",
              "    }\n",
              "    40% {\n",
              "      border-color: transparent;\n",
              "      border-right-color: var(--fill-color);\n",
              "      border-top-color: var(--fill-color);\n",
              "    }\n",
              "    60% {\n",
              "      border-color: transparent;\n",
              "      border-right-color: var(--fill-color);\n",
              "    }\n",
              "    80% {\n",
              "      border-color: transparent;\n",
              "      border-right-color: var(--fill-color);\n",
              "      border-bottom-color: var(--fill-color);\n",
              "    }\n",
              "    90% {\n",
              "      border-color: transparent;\n",
              "      border-bottom-color: var(--fill-color);\n",
              "    }\n",
              "  }\n",
              "</style>\n",
              "\n",
              "  <script>\n",
              "    async function quickchart(key) {\n",
              "      const quickchartButtonEl =\n",
              "        document.querySelector('#' + key + ' button');\n",
              "      quickchartButtonEl.disabled = true;  // To prevent multiple clicks.\n",
              "      quickchartButtonEl.classList.add('colab-df-spinner');\n",
              "      try {\n",
              "        const charts = await google.colab.kernel.invokeFunction(\n",
              "            'suggestCharts', [key], {});\n",
              "      } catch (error) {\n",
              "        console.error('Error during call to suggestCharts:', error);\n",
              "      }\n",
              "      quickchartButtonEl.classList.remove('colab-df-spinner');\n",
              "      quickchartButtonEl.classList.add('colab-df-quickchart-complete');\n",
              "    }\n",
              "    (() => {\n",
              "      let quickchartButtonEl =\n",
              "        document.querySelector('#df-cb0c9cdd-2ef4-43f7-ac09-186aca5dcee4 button');\n",
              "      quickchartButtonEl.style.display =\n",
              "        google.colab.kernel.accessAllowed ? 'block' : 'none';\n",
              "    })();\n",
              "  </script>\n",
              "</div>\n",
              "\n",
              "    </div>\n",
              "  </div>\n"
            ],
            "application/vnd.google.colaboratory.intrinsic+json": {
              "type": "dataframe",
              "summary": "{\n  \"name\": \"df\",\n  \"rows\": 5,\n  \"fields\": [\n    {\n      \"column\": \"Email_ID\",\n      \"properties\": {\n        \"dtype\": \"string\",\n        \"num_unique_values\": 5,\n        \"samples\": [\n          \"EMA00089998225300\",\n          \"EMA00089999316900\",\n          \"EMA00089998436500\"\n        ],\n        \"semantic_type\": \"\",\n        \"description\": \"\"\n      }\n    },\n    {\n      \"column\": \"Email_Type\",\n      \"properties\": {\n        \"dtype\": \"number\",\n        \"std\": 0,\n        \"min\": 1,\n        \"max\": 2,\n        \"num_unique_values\": 2,\n        \"samples\": [\n          1,\n          2\n        ],\n        \"semantic_type\": \"\",\n        \"description\": \"\"\n      }\n    },\n    {\n      \"column\": \"Subject_Hotness_Score\",\n      \"properties\": {\n        \"dtype\": \"number\",\n        \"std\": 0.7700649323271382,\n        \"min\": 0.4,\n        \"max\": 2.2,\n        \"num_unique_values\": 4,\n        \"samples\": [\n          1.3,\n          1.5\n        ],\n        \"semantic_type\": \"\",\n        \"description\": \"\"\n      }\n    },\n    {\n      \"column\": \"Email_Source_Type\",\n      \"properties\": {\n        \"dtype\": \"number\",\n        \"std\": 0,\n        \"min\": 1,\n        \"max\": 2,\n        \"num_unique_values\": 2,\n        \"samples\": [\n          2,\n          1\n        ],\n        \"semantic_type\": \"\",\n        \"description\": \"\"\n      }\n    },\n    {\n      \"column\": \"Customer_Location\",\n      \"properties\": {\n        \"dtype\": \"string\",\n        \"num_unique_values\": 4,\n        \"samples\": [\n          \"C\",\n          \"G\"\n        ],\n        \"semantic_type\": \"\",\n        \"description\": \"\"\n      }\n    },\n    {\n      \"column\": \"Email_Campaign_Type\",\n      \"properties\": {\n        \"dtype\": \"number\",\n        \"std\": 0,\n        \"min\": 2,\n        \"max\": 2,\n        \"num_unique_values\": 1,\n        \"samples\": [\n          2\n        ],\n        \"semantic_type\": \"\",\n        \"description\": \"\"\n      }\n    },\n    {\n      \"column\": \"Total_Past_Communications\",\n      \"properties\": {\n        \"dtype\": \"number\",\n        \"std\": 12.529964086141668,\n        \"min\": 20.0,\n        \"max\": 50.0,\n        \"num_unique_values\": 5,\n        \"samples\": [\n          40.0\n        ],\n        \"semantic_type\": \"\",\n        \"description\": \"\"\n      }\n    },\n    {\n      \"column\": \"Time_Email_sent_Category\",\n      \"properties\": {\n        \"dtype\": \"number\",\n        \"std\": 0,\n        \"min\": 1,\n        \"max\": 3,\n        \"num_unique_values\": 3,\n        \"samples\": [\n          3\n        ],\n        \"semantic_type\": \"\",\n        \"description\": \"\"\n      }\n    },\n    {\n      \"column\": \"Word_Count\",\n      \"properties\": {\n        \"dtype\": \"number\",\n        \"std\": 199,\n        \"min\": 490,\n        \"max\": 1038,\n        \"num_unique_values\": 5,\n        \"samples\": [\n          653\n        ],\n        \"semantic_type\": \"\",\n        \"description\": \"\"\n      }\n    },\n    {\n      \"column\": \"Total_Links\",\n      \"properties\": {\n        \"dtype\": \"number\",\n        \"std\": 9.67987603226405,\n        \"min\": 6.0,\n        \"max\": 31.0,\n        \"num_unique_values\": 5,\n        \"samples\": [\n          31.0\n        ],\n        \"semantic_type\": \"\",\n        \"description\": \"\"\n      }\n    },\n    {\n      \"column\": \"Total_Images\",\n      \"properties\": {\n        \"dtype\": \"number\",\n        \"std\": 7.46993975879324,\n        \"min\": 0.0,\n        \"max\": 16.0,\n        \"num_unique_values\": 4,\n        \"samples\": [\n          16.0\n        ],\n        \"semantic_type\": \"\",\n        \"description\": \"\"\n      }\n    },\n    {\n      \"column\": \"Email_Status\",\n      \"properties\": {\n        \"dtype\": \"number\",\n        \"std\": 0,\n        \"min\": 0,\n        \"max\": 0,\n        \"num_unique_values\": 1,\n        \"samples\": [\n          0\n        ],\n        \"semantic_type\": \"\",\n        \"description\": \"\"\n      }\n    }\n  ]\n}"
            }
          },
          "metadata": {},
          "execution_count": 8
        }
      ]
    },
    {
      "cell_type": "markdown",
      "metadata": {
        "id": "QAC17Slq2ZJC"
      },
      "source": [
        "# Dataset Row And Columns Count"
      ]
    },
    {
      "cell_type": "code",
      "execution_count": null,
      "metadata": {
        "colab": {
          "base_uri": "https://localhost:8080/"
        },
        "id": "l8p-YG3sDQCt",
        "outputId": "0f731f9d-b4ee-4d2b-85ab-04e3362432da"
      },
      "outputs": [
        {
          "output_type": "execute_result",
          "data": {
            "text/plain": [
              "(68353, 12)"
            ]
          },
          "metadata": {},
          "execution_count": 9
        }
      ],
      "source": [
        "df.shape"
      ]
    },
    {
      "cell_type": "markdown",
      "metadata": {
        "id": "AcACDn293D3V"
      },
      "source": [
        "Dataset information."
      ]
    },
    {
      "cell_type": "code",
      "execution_count": null,
      "metadata": {
        "colab": {
          "base_uri": "https://localhost:8080/"
        },
        "id": "enKCPJsU3H3H",
        "outputId": "dccea47d-7dde-4269-b3dd-ea5b96846d01"
      },
      "outputs": [
        {
          "output_type": "stream",
          "name": "stdout",
          "text": [
            "<class 'pandas.core.frame.DataFrame'>\n",
            "RangeIndex: 68353 entries, 0 to 68352\n",
            "Data columns (total 12 columns):\n",
            " #   Column                     Non-Null Count  Dtype  \n",
            "---  ------                     --------------  -----  \n",
            " 0   Email_ID                   68353 non-null  object \n",
            " 1   Email_Type                 68353 non-null  int64  \n",
            " 2   Subject_Hotness_Score      68353 non-null  float64\n",
            " 3   Email_Source_Type          68353 non-null  int64  \n",
            " 4   Customer_Location          56758 non-null  object \n",
            " 5   Email_Campaign_Type        68353 non-null  int64  \n",
            " 6   Total_Past_Communications  61528 non-null  float64\n",
            " 7   Time_Email_sent_Category   68353 non-null  int64  \n",
            " 8   Word_Count                 68353 non-null  int64  \n",
            " 9   Total_Links                66152 non-null  float64\n",
            " 10  Total_Images               66676 non-null  float64\n",
            " 11  Email_Status               68353 non-null  int64  \n",
            "dtypes: float64(4), int64(6), object(2)\n",
            "memory usage: 6.3+ MB\n"
          ]
        }
      ],
      "source": [
        "df.info()"
      ]
    },
    {
      "cell_type": "markdown",
      "metadata": {
        "id": "lxpobGgn2zcO"
      },
      "source": [
        "Missing values/ Null values."
      ]
    },
    {
      "cell_type": "code",
      "execution_count": null,
      "metadata": {
        "colab": {
          "base_uri": "https://localhost:8080/"
        },
        "id": "p3pOMI_13AFi",
        "outputId": "92e4ba4c-97ae-419c-dd73-330d70888cc2"
      },
      "outputs": [
        {
          "output_type": "execute_result",
          "data": {
            "text/plain": [
              "Email_ID                         0\n",
              "Email_Type                       0\n",
              "Subject_Hotness_Score            0\n",
              "Email_Source_Type                0\n",
              "Customer_Location            11595\n",
              "Email_Campaign_Type              0\n",
              "Total_Past_Communications     6825\n",
              "Time_Email_sent_Category         0\n",
              "Word_Count                       0\n",
              "Total_Links                   2201\n",
              "Total_Images                  1677\n",
              "Email_Status                     0\n",
              "dtype: int64"
            ]
          },
          "metadata": {},
          "execution_count": 11
        }
      ],
      "source": [
        "df.isnull().sum()"
      ]
    },
    {
      "cell_type": "code",
      "execution_count": null,
      "metadata": {
        "colab": {
          "base_uri": "https://localhost:8080/"
        },
        "id": "jWP-B1eeOX6D",
        "outputId": "9cf7129a-3cde-4107-9110-97173ce4b360"
      },
      "outputs": [
        {
          "output_type": "stream",
          "name": "stdout",
          "text": [
            "Email_ID                      object\n",
            "Email_Type                     int64\n",
            "Subject_Hotness_Score        float64\n",
            "Email_Source_Type              int64\n",
            "Customer_Location             object\n",
            "Email_Campaign_Type            int64\n",
            "Total_Past_Communications    float64\n",
            "Time_Email_sent_Category       int64\n",
            "Word_Count                     int64\n",
            "Total_Links                  float64\n",
            "Total_Images                 float64\n",
            "Email_Status                   int64\n",
            "dtype: object\n"
          ]
        }
      ],
      "source": [
        "#  Check the column names and data type\n",
        "print(df.dtypes)"
      ]
    },
    {
      "cell_type": "markdown",
      "metadata": {
        "id": "AcFNSrPTSBZt"
      },
      "source": [
        "answer Here\n",
        "\n",
        "The dataset contains email marketing campaign data with features like email type, subject score, customer location, and email status.\n",
        "\n",
        "\n",
        "\n",
        "\n",
        "\n",
        "\n"
      ]
    },
    {
      "cell_type": "markdown",
      "metadata": {
        "id": "WbOmlM8Vb_A4"
      },
      "source": [
        " 2 **Understanding** **Your** **Variables**"
      ]
    },
    {
      "cell_type": "code",
      "execution_count": null,
      "metadata": {
        "id": "ONPIi78gFGlo"
      },
      "outputs": [],
      "source": [
        "# Define the target variable\n",
        "target_variable = 'Email_Status'"
      ]
    },
    {
      "cell_type": "code",
      "execution_count": null,
      "metadata": {
        "colab": {
          "base_uri": "https://localhost:8080/"
        },
        "id": "Ddlu6wPacD8X",
        "outputId": "21a8f1d9-ea5b-4187-c5ba-1ad359b4705f"
      },
      "outputs": [
        {
          "output_type": "execute_result",
          "data": {
            "text/plain": [
              "Index(['Email_ID', 'Email_Type', 'Subject_Hotness_Score', 'Email_Source_Type',\n",
              "       'Customer_Location', 'Email_Campaign_Type', 'Total_Past_Communications',\n",
              "       'Time_Email_sent_Category', 'Word_Count', 'Total_Links', 'Total_Images',\n",
              "       'Email_Status'],\n",
              "      dtype='object')"
            ]
          },
          "metadata": {},
          "execution_count": 14
        }
      ],
      "source": [
        "# dataset codf.columns\n",
        "df.columns"
      ]
    },
    {
      "cell_type": "code",
      "execution_count": null,
      "metadata": {
        "colab": {
          "base_uri": "https://localhost:8080/",
          "height": 301
        },
        "id": "PdkB0skk3mh4",
        "outputId": "855d02a5-056d-424c-b955-ec14d6d4b8e9"
      },
      "outputs": [
        {
          "output_type": "execute_result",
          "data": {
            "text/plain": [
              "         Email_Type  Subject_Hotness_Score  Email_Source_Type  \\\n",
              "count  68353.000000           68353.000000       68353.000000   \n",
              "mean       1.285094               1.095481           1.456513   \n",
              "std        0.451462               0.997578           0.498109   \n",
              "min        1.000000               0.000000           1.000000   \n",
              "25%        1.000000               0.200000           1.000000   \n",
              "50%        1.000000               0.800000           1.000000   \n",
              "75%        2.000000               1.800000           2.000000   \n",
              "max        2.000000               5.000000           2.000000   \n",
              "\n",
              "       Email_Campaign_Type  Total_Past_Communications  \\\n",
              "count         68353.000000               61528.000000   \n",
              "mean              2.272234                  28.933250   \n",
              "std               0.468680                  12.536518   \n",
              "min               1.000000                   0.000000   \n",
              "25%               2.000000                  20.000000   \n",
              "50%               2.000000                  28.000000   \n",
              "75%               3.000000                  38.000000   \n",
              "max               3.000000                  67.000000   \n",
              "\n",
              "       Time_Email_sent_Category    Word_Count   Total_Links  Total_Images  \\\n",
              "count              68353.000000  68353.000000  66152.000000  66676.000000   \n",
              "mean                   1.999298    699.931751     10.429526      3.550678   \n",
              "std                    0.631103    271.719440      6.383270      5.596983   \n",
              "min                    1.000000     40.000000      1.000000      0.000000   \n",
              "25%                    2.000000    521.000000      6.000000      0.000000   \n",
              "50%                    2.000000    694.000000      9.000000      0.000000   \n",
              "75%                    2.000000    880.000000     14.000000      5.000000   \n",
              "max                    3.000000   1316.000000     49.000000     45.000000   \n",
              "\n",
              "       Email_Status  \n",
              "count  68353.000000  \n",
              "mean       0.230934  \n",
              "std        0.497032  \n",
              "min        0.000000  \n",
              "25%        0.000000  \n",
              "50%        0.000000  \n",
              "75%        0.000000  \n",
              "max        2.000000  "
            ],
            "text/html": [
              "\n",
              "  <div id=\"df-eda80fd0-92b7-4c06-a142-b1514e4e6832\" class=\"colab-df-container\">\n",
              "    <div>\n",
              "<style scoped>\n",
              "    .dataframe tbody tr th:only-of-type {\n",
              "        vertical-align: middle;\n",
              "    }\n",
              "\n",
              "    .dataframe tbody tr th {\n",
              "        vertical-align: top;\n",
              "    }\n",
              "\n",
              "    .dataframe thead th {\n",
              "        text-align: right;\n",
              "    }\n",
              "</style>\n",
              "<table border=\"1\" class=\"dataframe\">\n",
              "  <thead>\n",
              "    <tr style=\"text-align: right;\">\n",
              "      <th></th>\n",
              "      <th>Email_Type</th>\n",
              "      <th>Subject_Hotness_Score</th>\n",
              "      <th>Email_Source_Type</th>\n",
              "      <th>Email_Campaign_Type</th>\n",
              "      <th>Total_Past_Communications</th>\n",
              "      <th>Time_Email_sent_Category</th>\n",
              "      <th>Word_Count</th>\n",
              "      <th>Total_Links</th>\n",
              "      <th>Total_Images</th>\n",
              "      <th>Email_Status</th>\n",
              "    </tr>\n",
              "  </thead>\n",
              "  <tbody>\n",
              "    <tr>\n",
              "      <th>count</th>\n",
              "      <td>68353.000000</td>\n",
              "      <td>68353.000000</td>\n",
              "      <td>68353.000000</td>\n",
              "      <td>68353.000000</td>\n",
              "      <td>61528.000000</td>\n",
              "      <td>68353.000000</td>\n",
              "      <td>68353.000000</td>\n",
              "      <td>66152.000000</td>\n",
              "      <td>66676.000000</td>\n",
              "      <td>68353.000000</td>\n",
              "    </tr>\n",
              "    <tr>\n",
              "      <th>mean</th>\n",
              "      <td>1.285094</td>\n",
              "      <td>1.095481</td>\n",
              "      <td>1.456513</td>\n",
              "      <td>2.272234</td>\n",
              "      <td>28.933250</td>\n",
              "      <td>1.999298</td>\n",
              "      <td>699.931751</td>\n",
              "      <td>10.429526</td>\n",
              "      <td>3.550678</td>\n",
              "      <td>0.230934</td>\n",
              "    </tr>\n",
              "    <tr>\n",
              "      <th>std</th>\n",
              "      <td>0.451462</td>\n",
              "      <td>0.997578</td>\n",
              "      <td>0.498109</td>\n",
              "      <td>0.468680</td>\n",
              "      <td>12.536518</td>\n",
              "      <td>0.631103</td>\n",
              "      <td>271.719440</td>\n",
              "      <td>6.383270</td>\n",
              "      <td>5.596983</td>\n",
              "      <td>0.497032</td>\n",
              "    </tr>\n",
              "    <tr>\n",
              "      <th>min</th>\n",
              "      <td>1.000000</td>\n",
              "      <td>0.000000</td>\n",
              "      <td>1.000000</td>\n",
              "      <td>1.000000</td>\n",
              "      <td>0.000000</td>\n",
              "      <td>1.000000</td>\n",
              "      <td>40.000000</td>\n",
              "      <td>1.000000</td>\n",
              "      <td>0.000000</td>\n",
              "      <td>0.000000</td>\n",
              "    </tr>\n",
              "    <tr>\n",
              "      <th>25%</th>\n",
              "      <td>1.000000</td>\n",
              "      <td>0.200000</td>\n",
              "      <td>1.000000</td>\n",
              "      <td>2.000000</td>\n",
              "      <td>20.000000</td>\n",
              "      <td>2.000000</td>\n",
              "      <td>521.000000</td>\n",
              "      <td>6.000000</td>\n",
              "      <td>0.000000</td>\n",
              "      <td>0.000000</td>\n",
              "    </tr>\n",
              "    <tr>\n",
              "      <th>50%</th>\n",
              "      <td>1.000000</td>\n",
              "      <td>0.800000</td>\n",
              "      <td>1.000000</td>\n",
              "      <td>2.000000</td>\n",
              "      <td>28.000000</td>\n",
              "      <td>2.000000</td>\n",
              "      <td>694.000000</td>\n",
              "      <td>9.000000</td>\n",
              "      <td>0.000000</td>\n",
              "      <td>0.000000</td>\n",
              "    </tr>\n",
              "    <tr>\n",
              "      <th>75%</th>\n",
              "      <td>2.000000</td>\n",
              "      <td>1.800000</td>\n",
              "      <td>2.000000</td>\n",
              "      <td>3.000000</td>\n",
              "      <td>38.000000</td>\n",
              "      <td>2.000000</td>\n",
              "      <td>880.000000</td>\n",
              "      <td>14.000000</td>\n",
              "      <td>5.000000</td>\n",
              "      <td>0.000000</td>\n",
              "    </tr>\n",
              "    <tr>\n",
              "      <th>max</th>\n",
              "      <td>2.000000</td>\n",
              "      <td>5.000000</td>\n",
              "      <td>2.000000</td>\n",
              "      <td>3.000000</td>\n",
              "      <td>67.000000</td>\n",
              "      <td>3.000000</td>\n",
              "      <td>1316.000000</td>\n",
              "      <td>49.000000</td>\n",
              "      <td>45.000000</td>\n",
              "      <td>2.000000</td>\n",
              "    </tr>\n",
              "  </tbody>\n",
              "</table>\n",
              "</div>\n",
              "    <div class=\"colab-df-buttons\">\n",
              "\n",
              "  <div class=\"colab-df-container\">\n",
              "    <button class=\"colab-df-convert\" onclick=\"convertToInteractive('df-eda80fd0-92b7-4c06-a142-b1514e4e6832')\"\n",
              "            title=\"Convert this dataframe to an interactive table.\"\n",
              "            style=\"display:none;\">\n",
              "\n",
              "  <svg xmlns=\"http://www.w3.org/2000/svg\" height=\"24px\" viewBox=\"0 -960 960 960\">\n",
              "    <path d=\"M120-120v-720h720v720H120Zm60-500h600v-160H180v160Zm220 220h160v-160H400v160Zm0 220h160v-160H400v160ZM180-400h160v-160H180v160Zm440 0h160v-160H620v160ZM180-180h160v-160H180v160Zm440 0h160v-160H620v160Z\"/>\n",
              "  </svg>\n",
              "    </button>\n",
              "\n",
              "  <style>\n",
              "    .colab-df-container {\n",
              "      display:flex;\n",
              "      gap: 12px;\n",
              "    }\n",
              "\n",
              "    .colab-df-convert {\n",
              "      background-color: #E8F0FE;\n",
              "      border: none;\n",
              "      border-radius: 50%;\n",
              "      cursor: pointer;\n",
              "      display: none;\n",
              "      fill: #1967D2;\n",
              "      height: 32px;\n",
              "      padding: 0 0 0 0;\n",
              "      width: 32px;\n",
              "    }\n",
              "\n",
              "    .colab-df-convert:hover {\n",
              "      background-color: #E2EBFA;\n",
              "      box-shadow: 0px 1px 2px rgba(60, 64, 67, 0.3), 0px 1px 3px 1px rgba(60, 64, 67, 0.15);\n",
              "      fill: #174EA6;\n",
              "    }\n",
              "\n",
              "    .colab-df-buttons div {\n",
              "      margin-bottom: 4px;\n",
              "    }\n",
              "\n",
              "    [theme=dark] .colab-df-convert {\n",
              "      background-color: #3B4455;\n",
              "      fill: #D2E3FC;\n",
              "    }\n",
              "\n",
              "    [theme=dark] .colab-df-convert:hover {\n",
              "      background-color: #434B5C;\n",
              "      box-shadow: 0px 1px 3px 1px rgba(0, 0, 0, 0.15);\n",
              "      filter: drop-shadow(0px 1px 2px rgba(0, 0, 0, 0.3));\n",
              "      fill: #FFFFFF;\n",
              "    }\n",
              "  </style>\n",
              "\n",
              "    <script>\n",
              "      const buttonEl =\n",
              "        document.querySelector('#df-eda80fd0-92b7-4c06-a142-b1514e4e6832 button.colab-df-convert');\n",
              "      buttonEl.style.display =\n",
              "        google.colab.kernel.accessAllowed ? 'block' : 'none';\n",
              "\n",
              "      async function convertToInteractive(key) {\n",
              "        const element = document.querySelector('#df-eda80fd0-92b7-4c06-a142-b1514e4e6832');\n",
              "        const dataTable =\n",
              "          await google.colab.kernel.invokeFunction('convertToInteractive',\n",
              "                                                    [key], {});\n",
              "        if (!dataTable) return;\n",
              "\n",
              "        const docLinkHtml = 'Like what you see? Visit the ' +\n",
              "          '<a target=\"_blank\" href=https://colab.research.google.com/notebooks/data_table.ipynb>data table notebook</a>'\n",
              "          + ' to learn more about interactive tables.';\n",
              "        element.innerHTML = '';\n",
              "        dataTable['output_type'] = 'display_data';\n",
              "        await google.colab.output.renderOutput(dataTable, element);\n",
              "        const docLink = document.createElement('div');\n",
              "        docLink.innerHTML = docLinkHtml;\n",
              "        element.appendChild(docLink);\n",
              "      }\n",
              "    </script>\n",
              "  </div>\n",
              "\n",
              "\n",
              "<div id=\"df-2f5c6f6c-8236-4666-9a20-7a009db9d400\">\n",
              "  <button class=\"colab-df-quickchart\" onclick=\"quickchart('df-2f5c6f6c-8236-4666-9a20-7a009db9d400')\"\n",
              "            title=\"Suggest charts\"\n",
              "            style=\"display:none;\">\n",
              "\n",
              "<svg xmlns=\"http://www.w3.org/2000/svg\" height=\"24px\"viewBox=\"0 0 24 24\"\n",
              "     width=\"24px\">\n",
              "    <g>\n",
              "        <path d=\"M19 3H5c-1.1 0-2 .9-2 2v14c0 1.1.9 2 2 2h14c1.1 0 2-.9 2-2V5c0-1.1-.9-2-2-2zM9 17H7v-7h2v7zm4 0h-2V7h2v10zm4 0h-2v-4h2v4z\"/>\n",
              "    </g>\n",
              "</svg>\n",
              "  </button>\n",
              "\n",
              "<style>\n",
              "  .colab-df-quickchart {\n",
              "      --bg-color: #E8F0FE;\n",
              "      --fill-color: #1967D2;\n",
              "      --hover-bg-color: #E2EBFA;\n",
              "      --hover-fill-color: #174EA6;\n",
              "      --disabled-fill-color: #AAA;\n",
              "      --disabled-bg-color: #DDD;\n",
              "  }\n",
              "\n",
              "  [theme=dark] .colab-df-quickchart {\n",
              "      --bg-color: #3B4455;\n",
              "      --fill-color: #D2E3FC;\n",
              "      --hover-bg-color: #434B5C;\n",
              "      --hover-fill-color: #FFFFFF;\n",
              "      --disabled-bg-color: #3B4455;\n",
              "      --disabled-fill-color: #666;\n",
              "  }\n",
              "\n",
              "  .colab-df-quickchart {\n",
              "    background-color: var(--bg-color);\n",
              "    border: none;\n",
              "    border-radius: 50%;\n",
              "    cursor: pointer;\n",
              "    display: none;\n",
              "    fill: var(--fill-color);\n",
              "    height: 32px;\n",
              "    padding: 0;\n",
              "    width: 32px;\n",
              "  }\n",
              "\n",
              "  .colab-df-quickchart:hover {\n",
              "    background-color: var(--hover-bg-color);\n",
              "    box-shadow: 0 1px 2px rgba(60, 64, 67, 0.3), 0 1px 3px 1px rgba(60, 64, 67, 0.15);\n",
              "    fill: var(--button-hover-fill-color);\n",
              "  }\n",
              "\n",
              "  .colab-df-quickchart-complete:disabled,\n",
              "  .colab-df-quickchart-complete:disabled:hover {\n",
              "    background-color: var(--disabled-bg-color);\n",
              "    fill: var(--disabled-fill-color);\n",
              "    box-shadow: none;\n",
              "  }\n",
              "\n",
              "  .colab-df-spinner {\n",
              "    border: 2px solid var(--fill-color);\n",
              "    border-color: transparent;\n",
              "    border-bottom-color: var(--fill-color);\n",
              "    animation:\n",
              "      spin 1s steps(1) infinite;\n",
              "  }\n",
              "\n",
              "  @keyframes spin {\n",
              "    0% {\n",
              "      border-color: transparent;\n",
              "      border-bottom-color: var(--fill-color);\n",
              "      border-left-color: var(--fill-color);\n",
              "    }\n",
              "    20% {\n",
              "      border-color: transparent;\n",
              "      border-left-color: var(--fill-color);\n",
              "      border-top-color: var(--fill-color);\n",
              "    }\n",
              "    30% {\n",
              "      border-color: transparent;\n",
              "      border-left-color: var(--fill-color);\n",
              "      border-top-color: var(--fill-color);\n",
              "      border-right-color: var(--fill-color);\n",
              "    }\n",
              "    40% {\n",
              "      border-color: transparent;\n",
              "      border-right-color: var(--fill-color);\n",
              "      border-top-color: var(--fill-color);\n",
              "    }\n",
              "    60% {\n",
              "      border-color: transparent;\n",
              "      border-right-color: var(--fill-color);\n",
              "    }\n",
              "    80% {\n",
              "      border-color: transparent;\n",
              "      border-right-color: var(--fill-color);\n",
              "      border-bottom-color: var(--fill-color);\n",
              "    }\n",
              "    90% {\n",
              "      border-color: transparent;\n",
              "      border-bottom-color: var(--fill-color);\n",
              "    }\n",
              "  }\n",
              "</style>\n",
              "\n",
              "  <script>\n",
              "    async function quickchart(key) {\n",
              "      const quickchartButtonEl =\n",
              "        document.querySelector('#' + key + ' button');\n",
              "      quickchartButtonEl.disabled = true;  // To prevent multiple clicks.\n",
              "      quickchartButtonEl.classList.add('colab-df-spinner');\n",
              "      try {\n",
              "        const charts = await google.colab.kernel.invokeFunction(\n",
              "            'suggestCharts', [key], {});\n",
              "      } catch (error) {\n",
              "        console.error('Error during call to suggestCharts:', error);\n",
              "      }\n",
              "      quickchartButtonEl.classList.remove('colab-df-spinner');\n",
              "      quickchartButtonEl.classList.add('colab-df-quickchart-complete');\n",
              "    }\n",
              "    (() => {\n",
              "      let quickchartButtonEl =\n",
              "        document.querySelector('#df-2f5c6f6c-8236-4666-9a20-7a009db9d400 button');\n",
              "      quickchartButtonEl.style.display =\n",
              "        google.colab.kernel.accessAllowed ? 'block' : 'none';\n",
              "    })();\n",
              "  </script>\n",
              "</div>\n",
              "\n",
              "    </div>\n",
              "  </div>\n"
            ],
            "application/vnd.google.colaboratory.intrinsic+json": {
              "type": "dataframe",
              "summary": "{\n  \"name\": \"df\",\n  \"rows\": 8,\n  \"fields\": [\n    {\n      \"column\": \"Email_Type\",\n      \"properties\": {\n        \"dtype\": \"number\",\n        \"std\": 24165.993650283526,\n        \"min\": 0.45146229435350527,\n        \"max\": 68353.0,\n        \"num_unique_values\": 5,\n        \"samples\": [\n          1.2850935584392784,\n          2.0,\n          0.45146229435350527\n        ],\n        \"semantic_type\": \"\",\n        \"description\": \"\"\n      }\n    },\n    {\n      \"column\": \"Subject_Hotness_Score\",\n      \"properties\": {\n        \"dtype\": \"number\",\n        \"std\": 24165.935282941264,\n        \"min\": 0.0,\n        \"max\": 68353.0,\n        \"num_unique_values\": 8,\n        \"samples\": [\n          1.0954808128392317,\n          0.8,\n          68353.0\n        ],\n        \"semantic_type\": \"\",\n        \"description\": \"\"\n      }\n    },\n    {\n      \"column\": \"Email_Source_Type\",\n      \"properties\": {\n        \"dtype\": \"number\",\n        \"std\": 24165.98263620079,\n        \"min\": 0.4981088923087071,\n        \"max\": 68353.0,\n        \"num_unique_values\": 5,\n        \"samples\": [\n          1.4565125159100551,\n          2.0,\n          0.4981088923087071\n        ],\n        \"semantic_type\": \"\",\n        \"description\": \"\"\n      }\n    },\n    {\n      \"column\": \"Email_Campaign_Type\",\n      \"properties\": {\n        \"dtype\": \"number\",\n        \"std\": 24165.740902250753,\n        \"min\": 0.46868012297868616,\n        \"max\": 68353.0,\n        \"num_unique_values\": 6,\n        \"samples\": [\n          68353.0,\n          2.272233844893421,\n          3.0\n        ],\n        \"semantic_type\": \"\",\n        \"description\": \"\"\n      }\n    },\n    {\n      \"column\": \"Total_Past_Communications\",\n      \"properties\": {\n        \"dtype\": \"number\",\n        \"std\": 21743.619707912363,\n        \"min\": 0.0,\n        \"max\": 61528.0,\n        \"num_unique_values\": 8,\n        \"samples\": [\n          28.93324990248342,\n          28.0,\n          61528.0\n        ],\n        \"semantic_type\": \"\",\n        \"description\": \"\"\n      }\n    },\n    {\n      \"column\": \"Time_Email_sent_Category\",\n      \"properties\": {\n        \"dtype\": \"number\",\n        \"std\": 24165.79698631846,\n        \"min\": 0.6311027692523382,\n        \"max\": 68353.0,\n        \"num_unique_values\": 6,\n        \"samples\": [\n          68353.0,\n          1.9992977630828201,\n          3.0\n        ],\n        \"semantic_type\": \"\",\n        \"description\": \"\"\n      }\n    },\n    {\n      \"column\": \"Word_Count\",\n      \"properties\": {\n        \"dtype\": \"number\",\n        \"std\": 23946.13106870804,\n        \"min\": 40.0,\n        \"max\": 68353.0,\n        \"num_unique_values\": 8,\n        \"samples\": [\n          699.9317513496115,\n          694.0,\n          68353.0\n        ],\n        \"semantic_type\": \"\",\n        \"description\": \"\"\n      }\n    },\n    {\n      \"column\": \"Total_Links\",\n      \"properties\": {\n        \"dtype\": \"number\",\n        \"std\": 23383.429361696162,\n        \"min\": 1.0,\n        \"max\": 66152.0,\n        \"num_unique_values\": 8,\n        \"samples\": [\n          10.429525940258799,\n          9.0,\n          66152.0\n        ],\n        \"semantic_type\": \"\",\n        \"description\": \"\"\n      }\n    },\n    {\n      \"column\": \"Total_Images\",\n      \"properties\": {\n        \"dtype\": \"number\",\n        \"std\": 23570.54329413648,\n        \"min\": 0.0,\n        \"max\": 66676.0,\n        \"num_unique_values\": 6,\n        \"samples\": [\n          66676.0,\n          3.550677905093287,\n          45.0\n        ],\n        \"semantic_type\": \"\",\n        \"description\": \"\"\n      }\n    },\n    {\n      \"column\": \"Email_Status\",\n      \"properties\": {\n        \"dtype\": \"number\",\n        \"std\": 24166.29713373835,\n        \"min\": 0.0,\n        \"max\": 68353.0,\n        \"num_unique_values\": 5,\n        \"samples\": [\n          0.23093353620177606,\n          2.0,\n          0.49703171672674473\n        ],\n        \"semantic_type\": \"\",\n        \"description\": \"\"\n      }\n    }\n  ]\n}"
            }
          },
          "metadata": {},
          "execution_count": 15
        }
      ],
      "source": [
        "# dataset describe\n",
        "df.describe()"
      ]
    },
    {
      "cell_type": "markdown",
      "metadata": {
        "id": "IticYPYp3ym3"
      },
      "source": [
        "Variable Discription\n",
        "\n",
        "Answer Here\n",
        "\n",
        "Description of variables: Email ID, type, subject score, source type, location, campaign type, communication count, time, word count, links, images, status.\n",
        "\n",
        "\n",
        "\n",
        "\n",
        "\n",
        "\n"
      ]
    },
    {
      "cell_type": "markdown",
      "metadata": {
        "id": "q07AEvt43_Qa"
      },
      "source": [
        "Check Unique Values for each variable."
      ]
    },
    {
      "cell_type": "code",
      "execution_count": null,
      "metadata": {
        "colab": {
          "base_uri": "https://localhost:8080/"
        },
        "id": "ftTwEKT9ThWR",
        "outputId": "bda69d3c-d2da-46fd-a14b-5538489aebce"
      },
      "outputs": [
        {
          "output_type": "stream",
          "name": "stdout",
          "text": [
            "['EMA00081000034500' 'EMA00081000045360' 'EMA00081000066290' ...\n",
            " 'EMA00089998436500' 'EMA00089999168800' 'EMA00089999316900']\n",
            "[1 2]\n",
            "[2.2 2.1 0.1 3.  0.  1.5 3.2 0.7 2.  0.5 0.2 1.  4.  1.9 1.1 1.6 0.3 2.3\n",
            " 1.4 1.7 2.8 1.2 0.8 0.6 4.2 1.8 2.4 0.9 1.3 3.3 2.6 3.1 4.1 2.9 2.7 0.4\n",
            " 3.5 3.7 2.5 3.8 3.9 3.4 4.6 4.5 3.6 4.4 4.7 5.  4.3 4.8 4.9]\n",
            "[2 1]\n",
            "['E' nan 'B' 'C' 'G' 'D' 'F' 'A']\n",
            "[2 3 1]\n",
            "[33. 15. 36. 25. 18. nan 34. 21. 40. 27. 24. 42. 11. 23. 37. 35. 51.  9.\n",
            " 39. 31. 50. 30. 14. 45. 53. 28.  7. 38. 52. 22. 43. 12. 16. 20. 41. 56.\n",
            " 26. 29.  5. 32. 44. 10. 17. 46. 47. 48.  8. 49. 13.  0.  6. 55. 19. 60.\n",
            " 59. 61. 54. 62. 57. 64. 58. 65. 66. 67. 63.]\n",
            "[1 2 3]\n",
            "[ 440  504  962  610  947  416  116 1241  655  744  931  550  565  700\n",
            "  694 1061  623  560 1082  684  733 1122  649  778  855  704  339  988\n",
            "  389  636  812  880  254  490  771  353  484  922  275  392  520  458\n",
            "  630 1140  892  578  311  352  902  795  577  653  524  904 1014  314\n",
            " 1103  721  220  673  873  763  542  760  741  518  424   40  282  608\n",
            "  713  939  470  462  842  934  806 1303  366  912  419  868 1229 1157\n",
            "  982 1102  841  593  251  152  933 1216 1271  827 1189  730 1038 1280\n",
            "   79 1296 1203  662  145   99  631  977  187 1173  987   67  678  605\n",
            "  768  661  190  521  132  770  722  840  233  253  751  146   51 1262\n",
            " 1289  796  757  789 1288  773  737 1060 1252  972  967  960  519  954\n",
            "  194  186 1316   50 1310  782 1309  946 1315  966  786]\n",
            "[ 8.  5. 16.  4. 11.  6. 21. nan 31.  3.  9. 26. 10.  7.  2. 14. 13. 28.\n",
            " 24. 41.  1. 19. 12. 18. 15. 46. 17. 36. 29. 23. 39. 49. 25. 34. 20. 44.\n",
            " 22. 33.]\n",
            "[ 0.  2.  4. 16. 13. 15.  5. 28. 10.  3.  8. nan  1. 24. 12. 11.  6. 20.\n",
            " 21. 14.  7. 18.  9. 25. 17. 19. 23. 27. 22. 43. 34. 26. 30. 29. 38. 40.\n",
            " 32. 35. 31. 39. 36. 33. 37. 45. 41. 44.]\n",
            "[0 1 2]\n"
          ]
        }
      ],
      "source": [
        "for column in df.columns:\n",
        "  unique_values =df[column].unique()\n",
        "  print(unique_values)"
      ]
    },
    {
      "cell_type": "markdown",
      "metadata": {
        "id": "w5t8PaFocW0W"
      },
      "source": [
        "4 **Data** **Visualization**, **Storytelling** & **Experimenting** **with** **charts** : **Understand** **the** **relationships** **between** **variables**\n",
        "\n",
        "  Chart 1"
      ]
    },
    {
      "cell_type": "code",
      "execution_count": null,
      "metadata": {
        "colab": {
          "base_uri": "https://localhost:8080/",
          "height": 564
        },
        "id": "v4MQSsbtcgEy",
        "outputId": "370675f7-a0f7-49c1-ec6c-6951fd4af604"
      },
      "outputs": [
        {
          "output_type": "display_data",
          "data": {
            "text/plain": [
              "<Figure size 1000x600 with 1 Axes>"
            ],
            "image/png": "[encoded data removed]"
          },
          "metadata": {}
        }
      ],
      "source": [
        "plt.figure(figsize=(10, 6))\n",
        "sns.countplot(data=df, x='Email_Type', hue='Email_Status')\n",
        "plt.title('Email Type vs. Email Status')\n",
        "plt.xlabel('Email Type')\n",
        "plt.ylabel('Count')\n",
        "plt.legend(title='Email Status', loc='upper right', labels=['Ignored', 'Read', 'Acknowledged'])\n",
        "plt.show()"
      ]
    },
    {
      "cell_type": "markdown",
      "metadata": {
        "id": "SVtd-JRQ4-sq"
      },
      "source": [
        " 1. Why did you pick the specific chart?\n",
        "\n",
        "Answer Here.\n",
        "\n",
        "Bar chart chosen to compare email types and status for clear visual comparison and distribution understanding.\n",
        "\n",
        "\n",
        "\n",
        "2. What is/are the insight(s) found from the chart?\n",
        "\n",
        "Answer Here\n",
        "\n",
        "Email type 1 has the highest count of emails that are ignored.\n",
        "\n",
        "Email type 1 and type 2 have  almost similar counts of emails that are acknowledged.\n",
        "\n",
        "\n",
        "\n",
        "3. Will the gained insights help creating a positive business impact?\n",
        "Are there any insights that lead to negative growth? Justify with specific reason.\n",
        "\n",
        "\n",
        "Answer Here\n",
        "\n",
        "The insights gained from the chart can potentially help create a positive business impact by providing a better understanding of how different types of emails are being received and responded to by customers. This information can be used to tailor email marketing strategies more effectively, such as optimizing the content or timing of emails to increase engagement and response rates.\n",
        "\n",
        "However, there are potential insights that could lead to negative growth if not addressed properly. For example, if a large number of emails of a certain type are being ignored, it could indicate that the content or timing of those emails is not resonating with the recipients. This could lead to a negative impact on engagement and response rates, ultimately affecting the overall effectiveness of the email marketing campaign.\n"
      ]
    },
    {
      "cell_type": "markdown",
      "metadata": {
        "id": "Fisdm40v5xqf"
      },
      "source": [
        "Chart 2"
      ]
    },
    {
      "cell_type": "code",
      "execution_count": null,
      "metadata": {
        "colab": {
          "base_uri": "https://localhost:8080/",
          "height": 564
        },
        "id": "QEqFcFet51ES",
        "outputId": "82cc7198-d827-41e4-a9b5-84b904c64d17"
      },
      "outputs": [
        {
          "output_type": "display_data",
          "data": {
            "text/plain": [
              "<Figure size 1000x600 with 1 Axes>"
            ],
            "image/png": "[encoded data removed]"
          },
          "metadata": {}
        }
      ],
      "source": [
        "plt.figure(figsize=(10, 6))\n",
        "plt.hist(df['Subject_Hotness_Score'], bins=20, color='skyblue', edgecolor='black')\n",
        "plt.title('Distribution of Subject Hotness Score')\n",
        "plt.xlabel('Subject Hotness Score')\n",
        "plt.ylabel('Frequency')\n",
        "plt.show()"
      ]
    },
    {
      "cell_type": "markdown",
      "metadata": {
        "id": "7Vo1nYKx5lYU"
      },
      "source": [
        "\n",
        "1. Why did you pick the specific chart?\n",
        "\n",
        "Answer Here.\n",
        "\n",
        "Histogram chosen for clear distribution visualization, showing frequency of different subject hotness scores for insights on variability.\n",
        "\n",
        "\n",
        "2. What is/are the insight(s) found from the chart?\n",
        "\n",
        "Answer Here\n",
        "\n",
        "The majority of email subjects have a hotness score between 0 and 1.\n",
        "There is a smaller peak around the score of 3, indicating some subjects are highly attractive or relevant.\n",
        "\n",
        "3. Will the gained insights help creating a positive business impact?\n",
        "Are there any insights that lead to negative growth? Justify with specific reason.\n",
        "\n",
        "Answer Here\n",
        "\n",
        "Yes, insights can lead to positive impact by optimizing subject hotness for better engagement. Neglecting low-scoring subjects may hinder engagement, requiring content adjustments for sustained growth.\n",
        "\n",
        "\n",
        "\n",
        "\n",
        "\n",
        "\n"
      ]
    },
    {
      "cell_type": "markdown",
      "metadata": {
        "id": "OQaNPV5e58LS"
      },
      "source": [
        "chart 3"
      ]
    },
    {
      "cell_type": "code",
      "execution_count": null,
      "metadata": {
        "colab": {
          "base_uri": "https://localhost:8080/",
          "height": 564
        },
        "id": "P7g77YdF5-Qd",
        "outputId": "f0db6b8e-603c-4608-db1a-d22d413568db"
      },
      "outputs": [
        {
          "output_type": "display_data",
          "data": {
            "text/plain": [
              "<Figure size 1000x600 with 1 Axes>"
            ],
            "image/png": "[encoded data removed]"
          },
          "metadata": {}
        }
      ],
      "source": [
        "plt.figure(figsize=(10, 6))\n",
        "plt.scatter(df['Total_Links'], df['Total_Images'], color='green', alpha=0.5)\n",
        "plt.title('Relationship between Total Links and Total Images')\n",
        "plt.xlabel('Total Links')\n",
        "plt.ylabel('Total Images')\n",
        "plt.show()"
      ]
    },
    {
      "cell_type": "markdown",
      "metadata": {
        "id": "QSwlFvAf5_y6"
      },
      "source": [
        "\n",
        "1. Why did you pick the specific chart?\n",
        "\n",
        "Answer Here.\n",
        "\n",
        " Because it's effective for visualizing the relationship between two continuous variables, 'Total_Links' and 'Total_Images', to understand any patterns or correlations between them.\n",
        "\n",
        "\n",
        "2. What is/are the insight(s) found from the chart?\n",
        "\n",
        "Answer Here\n",
        "\n",
        "1 There seems to be a positive correlation between 'Total_Links' and 'Total_Images', indicating that emails with more links tend to have more images.\n",
        "\n",
        "2 There are some emails with a high number of images but relatively few links, suggesting that these emails may be more image-focused.\n",
        "\n",
        "3 Similarly, there are emails with a high number of links but relatively few images, indicating that these emails may be more text or link-heavy.\n",
        "\n",
        "\n",
        "3. Will the gained insights help creating a positive business impact?\n",
        "Are there any insights that lead to negative growth? Justify with specific reason.\n",
        "\n",
        "Answer Here\n",
        "\n",
        "Yes, insights can lead to positive impact by optimizing email content for better engagement. However, overly link-heavy or image-focused emails may lead to negative growth due to decreased readability and engagement.\n",
        "\n",
        "\n",
        "\n",
        "\n",
        "\n",
        "\n"
      ]
    },
    {
      "cell_type": "markdown",
      "metadata": {
        "id": "imjzLVia6WTe"
      },
      "source": [
        "Chart 4"
      ]
    },
    {
      "cell_type": "code",
      "execution_count": null,
      "metadata": {
        "colab": {
          "base_uri": "https://localhost:8080/",
          "height": 651
        },
        "id": "PkiPrKjn6YYe",
        "outputId": "f821ad3f-4aad-4119-e4de-00586a7860e2"
      },
      "outputs": [
        {
          "output_type": "stream",
          "name": "stderr",
          "text": [
            "<ipython-input-20-322848968bf9>:2: FutureWarning: \n",
            "\n",
            "Passing `palette` without assigning `hue` is deprecated and will be removed in v0.14.0. Assign the `x` variable to `hue` and set `legend=False` for the same effect.\n",
            "\n",
            "  sns.countplot(data=df, x='Time_Email_sent_Category', palette='Set3')\n"
          ]
        },
        {
          "output_type": "display_data",
          "data": {
            "text/plain": [
              "<Figure size 1000x600 with 1 Axes>"
            ],
            "image/png": "[encoded data removed]"
          },
          "metadata": {}
        }
      ],
      "source": [
        "plt.figure(figsize=(10, 6))\n",
        "sns.countplot(data=df, x='Time_Email_sent_Category', palette='Set3')\n",
        "plt.title('Distribution of Email Sending Times')\n",
        "plt.xlabel('Time Email Sent Category')\n",
        "plt.ylabel('Count')\n",
        "plt.show()"
      ]
    },
    {
      "cell_type": "markdown",
      "metadata": {
        "id": "UgnrKagR6Y5m"
      },
      "source": [
        "1 Why did you pick the specific chart?\n",
        "\n",
        "Answer Here.\n",
        "\n",
        "I chose a bar chart to clearly display the distribution of email sending times, making it easy to compare the frequency of emails sent at different times.\n",
        "\n",
        "\n",
        "2 What is/are the insight(s) found from the chart?\n",
        "\n",
        "Answer Here\n",
        "\n",
        "Email sending times are distributed across different categories, indicating variability in when emails are sent.\n",
        "Some categories have higher counts, suggesting preferred or more common sending times.\n",
        "There may be patterns in the distribution that could inform the optimization of email sending schedules.\n",
        "\n",
        "\n",
        "3 Will the gained insights help creating a positive business impact? Are there any insights that lead to negative growth? Justify with specific reason.\n",
        "\n",
        "Answer Here\n",
        "\n",
        "Yes, the insights can help create a positive business impact by optimizing email sending times for better engagement. However, if not used effectively, such as sending emails during non-optimal times, it could lead to negative growth by reducing engagement and response rates.\n",
        "\n",
        "\n",
        "\n",
        "\n",
        "\n",
        "\n"
      ]
    },
    {
      "cell_type": "markdown",
      "metadata": {
        "id": "33x5QQdW6lPK"
      },
      "source": [
        "Chart 5"
      ]
    },
    {
      "cell_type": "code",
      "execution_count": null,
      "metadata": {
        "colab": {
          "base_uri": "https://localhost:8080/",
          "height": 675
        },
        "id": "wpOxwO2k6nQu",
        "outputId": "9ba2e30f-28c5-44b4-f584-37edd5823e69"
      },
      "outputs": [
        {
          "output_type": "display_data",
          "data": {
            "text/plain": [
              "<Figure size 800x800 with 1 Axes>"
            ],
            "image/png": "[encoded data removed]"
          },
          "metadata": {}
        }
      ],
      "source": [
        "plt.figure(figsize=(8, 8))\n",
        "df['Email_Status'].value_counts().plot.pie(autopct='%1.1f%%', startangle=90)\n",
        "plt.title('Distribution of Email Status')\n",
        "plt.ylabel('')\n",
        "plt.show()"
      ]
    },
    {
      "cell_type": "markdown",
      "metadata": {
        "id": "ZORBSFg26ntW"
      },
      "source": [
        "1 Why did you pick the specific chart?\n",
        "\n",
        "Answer Here.\n",
        "I chose a pie chart because it effectively shows the proportion of email statuses (ignored, read, acknowledged) in a visually appealing way, making it easy to understand the distribution of responses.\n",
        "\n",
        "\n",
        "2 What is/are the insight(s) found from the chart?\n",
        "\n",
        "Answer Here\n",
        "\n",
        "1 The majority of emails are ignored, forming the largest segment in the chart.\n",
        "\n",
        "2 A smaller portion of emails are read, indicating some level of engagement.\n",
        "\n",
        "3 The smallest segment represents emails that are acknowledged, suggesting the least common response from recipients.\n",
        "\n",
        "3 Will the gained insights help creating a positive business impact? Are there any insights that lead to negative growth? Justify with specific reason.\n",
        "\n",
        "Answer Here\n",
        "\n",
        "Yes, the insights can help create a positive business impact by providing valuable information on how recipients are responding to emails. Understanding the distribution of responses can help in tailoring email campaigns to increase engagement and response rates, leading to a more effective marketing strategy.\n",
        "However, if a large portion of emails are being ignored, it could lead to negative growth as it indicates that the email content or strategy may not be resonating with recipients. In such cases, adjustments to the email content or targeting strategy may be needed to improve engagement and ultimately drive positive growth.\n",
        "\n",
        "However, if a large portion of emails are being ignored, it could lead to negative growth as it indicates that the email content or strategy may not be resonating with recipients. In such cases, adjustments to the email content or targeting strategy may be needed to improve engagement and ultimately drive positive growth.\n",
        "\n",
        "\n",
        "\n",
        "\n",
        "\n",
        "\n",
        "\n",
        "\n",
        "\n",
        "\n",
        "\n",
        "\n",
        "\n",
        "\n"
      ]
    },
    {
      "cell_type": "markdown",
      "metadata": {
        "id": "KtPCA-HY6qP4"
      },
      "source": [
        "Chart 6"
      ]
    },
    {
      "cell_type": "code",
      "execution_count": null,
      "metadata": {
        "colab": {
          "base_uri": "https://localhost:8080/",
          "height": 564
        },
        "id": "MZ6DxUATcmjH",
        "outputId": "539d84e0-991e-4d20-f5ba-f2bb977ebbae"
      },
      "outputs": [
        {
          "output_type": "display_data",
          "data": {
            "text/plain": [
              "<Figure size 1000x600 with 1 Axes>"
            ],
            "image/png": "[encoded data removed]"
          },
          "metadata": {}
        }
      ],
      "source": [
        "plt.figure(figsize=(10, 6))\n",
        "sns.boxplot(data=df, x='Email_Status', y='Subject_Hotness_Score')\n",
        "plt.title('Subject Hotness Score by Email Status')\n",
        "plt.xlabel('Email Status')\n",
        "plt.ylabel('Subject Hotness Score')\n",
        "plt.show()"
      ]
    },
    {
      "cell_type": "markdown",
      "metadata": {
        "id": "JxLs_vMW6xc4"
      },
      "source": [
        "1 Why did you pick the specific chart?\n",
        "\n",
        "Answer Here.\n",
        "\n",
        "A box plot was chosen for its ability to display the distribution of 'Subject_Hotness_Score' across different 'Email_Status' categories, facilitating comparison and identification of patterns in subject attractiveness.\n",
        "\n",
        "\n",
        "\n",
        "2 What is/are the insight(s) found from the chart?\n",
        "\n",
        "Answer Here\n",
        "\n",
        "1 The box plot reveals the distribution of 'Subject_Hotness_Score' across different 'Email_Status' categories, indicating the variation in subject attractiveness among read, acknowledged, and ignored emails.\n",
        "\n",
        "2 Emails with higher 'Subject_Hotness_Score' tend to have a higher likelihood of being read or acknowledged, suggesting that more attractive subjects lead to higher response rates.\n",
        "\n",
        "\n",
        "\n",
        "3 Will the gained insights help creating a positive business impact? Are there any insights that lead to negative growth? Justify with specific reason.\n",
        "\n",
        "Answer Here\n",
        "\n",
        "Yes, the insights gained can help create a positive business impact by emphasizing the importance of crafting engaging email subjects. Emails with more attractive subjects are more likely to be read or acknowledged, leading to higher engagement and potentially higher conversion rates\n",
        "\n",
        ".However, if email subjects consistently score low in attractiveness, it could lead to negative growth as recipients may ignore these emails. This could result in lower engagement and effectiveness of the email campaign, ultimately impacting the business negatively.\n",
        "\n",
        "\n",
        "\n",
        "\n",
        "\n",
        "\n",
        "\n",
        "\n"
      ]
    },
    {
      "cell_type": "markdown",
      "metadata": {
        "id": "ma9hmJBu61bC"
      },
      "source": [
        "chart 7"
      ]
    },
    {
      "cell_type": "code",
      "execution_count": null,
      "metadata": {
        "colab": {
          "base_uri": "https://localhost:8080/",
          "height": 564
        },
        "id": "CTeOQIhbcvoT",
        "outputId": "44c447d7-af31-4ab4-cf1e-9c41447d4b88"
      },
      "outputs": [
        {
          "output_type": "display_data",
          "data": {
            "text/plain": [
              "<Figure size 1000x600 with 1 Axes>"
            ],
            "image/png": "[encoded data removed]"
          },
          "metadata": {}
        }
      ],
      "source": [
        "plt.figure(figsize=(10, 6))\n",
        "sns.countplot(data=df, x='Email_Campaign_Type', hue='Email_Status', palette='Set2')\n",
        "plt.title('Distribution of Email Campaign Types with Email Status')\n",
        "plt.xlabel('Email Campaign Type')\n",
        "plt.ylabel('Count')\n",
        "plt.legend(title='Email Status', loc='upper right')\n",
        "plt.show()"
      ]
    },
    {
      "cell_type": "markdown",
      "metadata": {
        "id": "33gsLg0P63gL"
      },
      "source": [
        "1 Why did you pick the specific chart?\n",
        "\n",
        "Answer Here.\n",
        "\n",
        "I chose a count plot to visualize the distribution of email campaign types, as it effectively shows the frequency of each type.\n",
        "\n",
        "\n",
        "2 What is/are the insight(s) found from the chart?\n",
        "\n",
        "Answer Here\n",
        "\n",
        "1 Campaign Type 2 has the highest proportion of emails that are read or acknowledged, indicating higher engagement compared to other campaign types.\n",
        "\n",
        "2 Campaign Type 1 has a relatively high proportion of emails that are ignored, suggesting lower effectiveness in engaging recipients.\n",
        "\n",
        "3 Campaign Type 3 falls in between, with a moderate proportion of emails that are read or acknowledged, indicating moderate engagement levels.\n",
        "\n",
        "4 Overall, Campaign Type 2 appears to be more successful in terms of engagement, as it has the highest proportion of emails that are read or acknowledged, making it a more effective campaign type.\n",
        "\n",
        "3 Will the gained insights help creating a positive business impact? Are there any insights that lead to negative growth? Justify with specific reason.\n",
        "\n",
        "Answer Here\n",
        "\n",
        "Yes, the insights gained can help create a positive business impact by guiding email marketing strategies towards more successful campaign types. Focusing more on Campaign Type 2, which has higher engagement rates, can lead to increased customer interaction, potentially resulting in higher conversion rates and overall business growth.\n",
        "\n",
        "Conversely, insights indicating lower engagement rates, such as those seen with Campaign Type 1, can help identify areas for improvement. Adjusting or reevaluating these campaigns could lead to more effective strategies and potentially avoid negative growth due to ineffective marketing efforts.\n",
        "\n",
        "\n",
        "\n",
        "\n",
        "\n",
        "\n",
        "\n",
        "\n"
      ]
    },
    {
      "cell_type": "markdown",
      "metadata": {
        "id": "r-93Aynz65mk"
      },
      "source": [
        "Chart 8"
      ]
    },
    {
      "cell_type": "code",
      "execution_count": null,
      "metadata": {
        "colab": {
          "base_uri": "https://localhost:8080/",
          "height": 564
        },
        "id": "zUgMvaiboTJZ",
        "outputId": "7b3e6839-22de-48c9-8189-d318467f86b4"
      },
      "outputs": [
        {
          "output_type": "display_data",
          "data": {
            "text/plain": [
              "<Figure size 800x600 with 1 Axes>"
            ],
            "image/png": "[encoded data removed]"
          },
          "metadata": {}
        }
      ],
      "source": [
        "plt.figure(figsize=(8, 6))\n",
        "sns.countplot(data=df, x='Email_Campaign_Type')\n",
        "plt.title('Distribution of Email Campaign Types')\n",
        "plt.xlabel('Email Campaign Type')\n",
        "plt.ylabel('Count')\n",
        "plt.show()"
      ]
    },
    {
      "cell_type": "markdown",
      "metadata": {
        "id": "xnXwYcEP68q3"
      },
      "source": [
        "1 Why did you pick the specific chart?\n",
        "\n",
        "Answer Here.\n",
        "\n",
        "I chose a count plot to visualize the distribution of email campaign types because it effectively shows the frequency of each campaign type, making it easy to compare and understand the distribution .\n",
        "\n",
        "\n",
        "2 What is/are the insight(s) found from the chart?\n",
        "\n",
        "Answer Here\n",
        "\n",
        "1 Email Campaign Type 2 appears to be the most frequently used, followed by Types 3 and 1.\n",
        "\n",
        "2 Type 2 has a significantly higher frequency compared to the other types.\n",
        "\n",
        "3 Type 1 and Type 3 have relatively similar frequencies, but both are lower than Type 2.\n",
        "\n",
        "3 Will the gained insights help creating a positive business impact? Are there any insights that lead to negative growth? Justify with specific reason.\n",
        "\n",
        "Answer Here\n",
        "\n",
        "Yes, the insights can help create a positive impact by focusing on the most effective campaign types. However, if there's overreliance on a single type, it could lead to stagnation or decreased effectiveness. Diversifying or refining campaign types based on this insight can prevent negative impacts and enhance overall email marketing strategy.\n",
        "\n",
        "\n",
        "\n",
        "\n",
        "\n",
        "\n"
      ]
    },
    {
      "cell_type": "markdown",
      "metadata": {
        "id": "raXVDMTx6-kY"
      },
      "source": [
        "Chart 9"
      ]
    },
    {
      "cell_type": "code",
      "execution_count": null,
      "metadata": {
        "colab": {
          "base_uri": "https://localhost:8080/",
          "height": 564
        },
        "id": "9vJaHpjJ7AkS",
        "outputId": "60d4b4cc-baf1-4955-be96-5613b1ebb4d4"
      },
      "outputs": [
        {
          "output_type": "display_data",
          "data": {
            "text/plain": [
              "<Figure size 1000x600 with 1 Axes>"
            ],
            "image/png": "[encoded data removed]"
          },
          "metadata": {}
        }
      ],
      "source": [
        "plt.figure(figsize=(10, 6))\n",
        "sns.histplot(data=df, x='Word_Count', bins=20)\n",
        "plt.title('Distribution of Word Counts in Emails')\n",
        "plt.xlabel('Word Count')\n",
        "plt.ylabel('Frequency')\n",
        "plt.show()"
      ]
    },
    {
      "cell_type": "markdown",
      "metadata": {
        "id": "eNCsEGmR7A7C"
      },
      "source": [
        "1 Why did you pick the specific chart?\n",
        "\n",
        "Answer Here.\n",
        "\n",
        "A histogram is chosen to show the distribution of word counts, providing insight into the typical length of emails. It's clear and effective for visualizing frequency distribution in numerical data.\n",
        "\n",
        "\n",
        "2 What is/are the insight(s) found from the chart?\n",
        "\n",
        "Answer Here\n",
        "\n",
        "1 The distribution of word counts in emails is skewed to the right, meaning that there are more emails with lower word counts and fewer emails with higher word counts.\n",
        "\n",
        "2 The majority of emails have word counts below 500, with a peak around 0-250 words.\n",
        "\n",
        "3 There are relatively few emails with very high word counts, indicating that lengthy emails are less common.\n",
        "\n",
        "\n",
        "3 Will the gained insights help creating a positive business impact? Are there any insights that lead to negative growth? Justify with specific reason.\n",
        "\n",
        "Answer Here\n",
        "\n",
        "The insights from the word count distribution can help businesses tailor their email marketing strategies. Knowing that most emails are concise can guide content creation for better engagement. However, overly long emails might be less effective and could benefit from being more concise.\n",
        "\n",
        "\n",
        "\n",
        "\n",
        "\n"
      ]
    },
    {
      "cell_type": "markdown",
      "metadata": {
        "id": "buG5Zp5H7C_Q"
      },
      "source": [
        "Chart 10"
      ]
    },
    {
      "cell_type": "code",
      "execution_count": null,
      "metadata": {
        "colab": {
          "base_uri": "https://localhost:8080/",
          "height": 564
        },
        "id": "FWCb01lj7E-k",
        "outputId": "48ea0004-50d0-4bd8-fba0-71b4c74b1ff8"
      },
      "outputs": [
        {
          "output_type": "display_data",
          "data": {
            "text/plain": [
              "<Figure size 800x600 with 1 Axes>"
            ],
            "image/png": "[encoded data removed]"
          },
          "metadata": {}
        }
      ],
      "source": [
        "plt.figure(figsize=(8, 6))\n",
        "sns.histplot(data=df, x='Total_Past_Communications', bins=20)\n",
        "plt.title('Distribution of Total Past Communications')\n",
        "plt.xlabel('Total Past Communications')\n",
        "plt.ylabel('Count')\n",
        "plt.show()"
      ]
    },
    {
      "cell_type": "markdown",
      "metadata": {
        "id": "2H79_HcW7FVy"
      },
      "source": [
        "1 Why did you pick the specific chart?\n",
        "\n",
        "Answer Here.\n",
        "\n",
        "I chose a histogram to visualize the distribution of total past communications, showing the frequency of different communication counts.\n",
        "\n",
        "\n",
        "2 What is/are the insight(s) found from the chart?\n",
        "\n",
        "Answer Here\n",
        "\n",
        "1 The chart shows that most email communications fall within a certain range, indicating a common pattern in past interactions.\n",
        "\n",
        "2 There are some outliers with very high total past communications, suggesting a few contacts have significantly more interactions than others.\n",
        "\n",
        "3 The distribution helps identify the typical level of engagement and the potential for highly engaged contacts.\n",
        "\n",
        "3 Will the gained insights help creating a positive business impact? Are there any insights that lead to negative growth? Justify with specific reason.\n",
        "\n",
        "Answer Here\n",
        "Yes in several ways\n",
        "\n",
        "1 Engagement Levels: Understand typical audience engagement for tailored strategies.\n",
        "\n",
        "2 Highly Engaged Contacts: Prioritize for personalized campaigns, increasing loyalty.\n",
        "\n",
        "3 Communication Strategies: Refine frequency and content for better engagement.\n",
        "\n",
        "Negative Growth: Investigate disengagement indicators for strategy adjustment."
      ]
    },
    {
      "cell_type": "markdown",
      "metadata": {
        "id": "13064UB67GtF"
      },
      "source": [
        "Chart 11"
      ]
    },
    {
      "cell_type": "code",
      "execution_count": null,
      "metadata": {
        "colab": {
          "base_uri": "https://localhost:8080/",
          "height": 561
        },
        "id": "yE94AziN7Izq",
        "outputId": "0d1136ac-02d6-4b54-8269-fa69db29998b"
      },
      "outputs": [
        {
          "output_type": "display_data",
          "data": {
            "text/plain": [
              "<Figure size 1000x600 with 1 Axes>"
            ],
            "image/png": "[encoded data removed]"
          },
          "metadata": {}
        }
      ],
      "source": [
        "plt.figure(figsize=(10, 6))\n",
        "sns.countplot(data=df, x='Customer_Location')\n",
        "plt.title('Distribution of Customer Locations')\n",
        "plt.xlabel('Customer Location')\n",
        "plt.ylabel('Count')\n",
        "plt.xticks(rotation=90)\n",
        "plt.show()"
      ]
    },
    {
      "cell_type": "markdown",
      "metadata": {
        "id": "aYtEZdEx7JMR"
      },
      "source": [
        "1 Why did you pick the specific chart?\n",
        "\n",
        "Answer Here.\n",
        "\n",
        "I choose count plot chart to show the distribution and frequency of customer locations in the dataset.\n",
        "\n",
        "\n",
        "2 What is/are the insight(s) found from the chart?\n",
        "\n",
        "Answer Here\n",
        "\n",
        "Customer Distribution: The chart shows the distribution of customers across different locations.\n",
        "High Concentration Areas: Some locations have a significantly higher number of customers.\n",
        "Low Engagement Areas: Other locations have fewer customers, indicating lower engagement or market presence in those regions.\n",
        "Potential Targeting Opportunities: Identifying regions with high and low customer counts helps in tailoring marketing strategies.\n",
        "\n",
        "\n",
        "3 Will the gained insights help creating a positive business impact? Are there any insights that lead to negative growth? Justify with specific reason.\n",
        "\n",
        "Answer Here\n",
        "\n",
        "Positive Impact:\n",
        "\n",
        "1 Targeted Marketing: High customer concentration areas can be targeted for promotional campaigns, increasing conversion rates.\n",
        "\n",
        "2 Resource Allocation: Allocate resources more effectively by focusing on regions with higher engagement.\n",
        "\n",
        "e.g Increase marketing budget and resources in regions showing higher engagement for maximum ROI.\n",
        "\n",
        "3 Expansion Opportunities: Identify regions with fewer customers as opportunities for market expansion and increased outreach.\n",
        "\n",
        "Negative Impact:\n",
        "\n",
        "1 Resource Misallocation:\n",
        "\n",
        "Focusing too heavily on low-engagement areas without proper analysis might lead to inefficient resource use.\n",
        "\n",
        "Example: Investing heavily in a region with low potential due to misinterpreted data can waste resources.\n",
        "\n",
        "2 Customer Alienation:\n",
        "\n",
        "1 Neglecting smaller customer bases in less popular regions may alienate potential loyal customers.\n",
        "\n",
        "Example: Failing to provide adequate support and engagement to customers in low-engagement regions can drive them away.\n",
        "\n",
        "\n"
      ]
    },
    {
      "cell_type": "markdown",
      "metadata": {
        "id": "LnrzjuI37Koh"
      },
      "source": [
        "Chart 12"
      ]
    },
    {
      "cell_type": "code",
      "execution_count": null,
      "metadata": {
        "colab": {
          "base_uri": "https://localhost:8080/",
          "height": 564
        },
        "id": "-m5_zBc97Mxw",
        "outputId": "0d24dba7-eb8c-4983-8be1-d3ac82077264"
      },
      "outputs": [
        {
          "output_type": "display_data",
          "data": {
            "text/plain": [
              "<Figure size 800x600 with 1 Axes>"
            ],
            "image/png": "[encoded data removed]"
          },
          "metadata": {}
        }
      ],
      "source": [
        "plt.figure(figsize=(8, 6))\n",
        "sns.histplot(data=df, x='Total_Links', bins=20)\n",
        "plt.title('Distribution of Total Links in Emails')\n",
        "plt.xlabel('Total Links')\n",
        "plt.ylabel('Frequency')\n",
        "plt.show()"
      ]
    },
    {
      "cell_type": "markdown",
      "metadata": {
        "id": "Ml50c4RH7NKL"
      },
      "source": [
        "1 Why did you pick the specific chart?\n",
        "\n",
        "Answer Here.\n",
        "\n",
        "A histogram was chosen to display the distribution of total links in emails, highlighting the frequency of different link counts.\n",
        "\n",
        "\n",
        "2 What is/are the insight(s) found from the chart?\n",
        "\n",
        "Answer Here\n",
        "\n",
        "The chart indicates that most emails have a relatively low number of links, with a few emails having a higher number of links, potentially indicating different email content or strategies.\n",
        "\n",
        "\n",
        "\n",
        "3 Will the gained insights help creating a positive business impact? Are there any insights that lead to negative growth? Justify with specific reason.\n",
        "\n",
        "Answer Here\n",
        "\n",
        "The insight that most emails have a low number of links could suggest that emails with fewer links are more effective in engaging recipients. This could lead to a positive impact on business by helping to tailor email content to be more engaging. However, emails with a very high number of links may be less effective as they could be perceived as spammy or overwhelming, potentially leading to negative growth if recipients are deterred from engaging with the emails.\n",
        "\n",
        "\n",
        "\n",
        "\n",
        "\n",
        "\n"
      ]
    },
    {
      "cell_type": "markdown",
      "metadata": {
        "id": "eqRVpPzX7OiX"
      },
      "source": [
        "Chart 13"
      ]
    },
    {
      "cell_type": "code",
      "execution_count": null,
      "metadata": {
        "colab": {
          "base_uri": "https://localhost:8080/",
          "height": 564
        },
        "id": "XnwfdK3C7QiP",
        "outputId": "45f8a297-e072-4fe5-c00e-191b4393fd6b"
      },
      "outputs": [
        {
          "output_type": "display_data",
          "data": {
            "text/plain": [
              "<Figure size 800x600 with 1 Axes>"
            ],
            "image/png": "[encoded data removed]"
          },
          "metadata": {}
        }
      ],
      "source": [
        "plt.figure(figsize=(8, 6))\n",
        "sns.histplot(data=df, x='Total_Images', bins=20)\n",
        "plt.title('Distribution of Total Images in Emails')\n",
        "plt.xlabel('Total Images')\n",
        "plt.ylabel('Frequency')\n",
        "plt.show()"
      ]
    },
    {
      "cell_type": "markdown",
      "metadata": {
        "id": "1dmbduZf7Q5j"
      },
      "source": [
        "1 Why did you pick the specific chart?\n",
        "\n",
        "Answer Here.\n",
        "\n",
        "I chose a histogram to visualize the distribution of total images in emails, which helps understand the frequency of image usage.\n",
        "\n",
        "\n",
        "\n",
        "2 What is/are the insight(s) found from the chart?\n",
        "\n",
        "Answer Here\n",
        "\n",
        "The histogram for 'Total_Images' indicates that the majority of emails have a low number of images, with a right-skewed distribution and a few emails containing a relatively high number of images.\n",
        "\n",
        "\n",
        "\n",
        "3 Will the gained insights help creating a positive business impact? Are there any insights that lead to negative growth? Justify with specific reason.\n",
        "\n",
        "Answer Here\n",
        "\n",
        "The insight from the 'Total_Images' histogram can help in optimizing email content. Including a moderate number of images, as most emails do, can potentially improve engagement without overwhelming recipients. However, emails with excessive images may lead to negative impacts, such as slower loading times or appearing too promotional, which could reduce engagement.\n",
        "\n",
        "\n",
        "\n",
        "\n",
        "\n",
        "\n"
      ]
    },
    {
      "cell_type": "markdown",
      "metadata": {
        "id": "CesqeR027SSV"
      },
      "source": [
        "Chart 14"
      ]
    },
    {
      "cell_type": "code",
      "execution_count": null,
      "metadata": {
        "colab": {
          "base_uri": "https://localhost:8080/",
          "height": 564
        },
        "id": "iM-c5xBo7VBW",
        "outputId": "1742ca7f-7633-4217-fba7-4371af61697c"
      },
      "outputs": [
        {
          "output_type": "display_data",
          "data": {
            "text/plain": [
              "<Figure size 800x600 with 1 Axes>"
            ],
            "image/png": "[encoded data removed]"
          },
          "metadata": {}
        }
      ],
      "source": [
        "plt.figure(figsize=(8, 6))\n",
        "sns.countplot(data=df, x='Email_Source_Type', hue='Email_Status')\n",
        "plt.title('Email Status by Source Type')\n",
        "plt.xlabel('Email Source Type')\n",
        "plt.ylabel('Count')\n",
        "plt.legend(title='Email Status', loc='upper right')\n",
        "plt.show()"
      ]
    },
    {
      "cell_type": "markdown",
      "metadata": {
        "id": "dug2jIK07VT3"
      },
      "source": [
        "1 Why did you pick the specific chart?\n",
        "\n",
        "Answer Here.\n",
        "\n",
        "I chose a count plot with hue to visualize the distribution of email statuses across different email source types for comparison.\n",
        "\n",
        "\n",
        "2 What is/are the insight(s) found from the chart?\n",
        "\n",
        "Answer Here\n",
        "\n",
        "The Email_Source_Type 2 (Source Type 2) appears to be more effective in engaging recipients, as it has a higher count of emails that were read (Email_Status 1) compared to the count of emails that were ignored (Email_Status 0).\n",
        "\n",
        "\n",
        "\n",
        "\n",
        "\n",
        "\n",
        "\n"
      ]
    },
    {
      "cell_type": "markdown",
      "metadata": {
        "id": "DFZFJK-37Wkr"
      },
      "source": [
        "Chart 15"
      ]
    },
    {
      "cell_type": "code",
      "execution_count": null,
      "metadata": {
        "colab": {
          "base_uri": "https://localhost:8080/",
          "height": 564
        },
        "id": "zqGLuS5z7Yfq",
        "outputId": "cf6ae5b5-8024-433f-cdfc-55d9a5d768e7"
      },
      "outputs": [
        {
          "output_type": "display_data",
          "data": {
            "text/plain": [
              "<Figure size 1000x600 with 1 Axes>"
            ],
            "image/png": "[encoded data removed]"
          },
          "metadata": {}
        }
      ],
      "source": [
        "plt.figure(figsize=(10, 6))\n",
        "sns.countplot(data=df, x='Time_Email_sent_Category', hue='Email_Status', palette='Set2')\n",
        "plt.title('Email Status by Time Email Sent Category')\n",
        "plt.xlabel('Time Email Sent Category')\n",
        "plt.ylabel('Count')\n",
        "plt.legend(title='Email Status', loc='upper right')\n",
        "plt.show()"
      ]
    },
    {
      "cell_type": "markdown",
      "metadata": {
        "id": "ZkGSyg4v7ZWD"
      },
      "source": [
        "1 Why did you pick the specific chart?\n",
        "\n",
        "Answer Here.\n",
        "\n",
        "I chose a count plot with hue to visualize the distribution of email statuses across different categories of time emails were sent, allowing for easy comparison and analysis.\n",
        "\n",
        "\n",
        "2 What is/are the insight(s) found from the chart?\n",
        "\n",
        "Answer Here\n",
        "\n",
        "Insights from the chart:\n",
        "\n",
        "Emails sent in category 2 have the highest count across all email statuses.\n",
        "Category 1 has a notably lower count of emails marked as spam compared to other categories.\n",
        "Category 3 has a relatively higher count of emails marked as spam compared to other categories."
      ]
    },
    {
      "cell_type": "markdown",
      "metadata": {
        "id": "gIKLk1OZ7qH2"
      },
      "source": [
        "5. **Hypothesis** **Testing**\n",
        "\n",
        "Based on your chart experiments, define three hypothetical statements from the dataset. In the next three questions, perform hypothesis testing to obtain final conclusion about the statements through your code and statistical testing\n",
        "\n",
        ".\n",
        "Answer Here.\n",
        "\n",
        "1 Statement: Emails sent with a higher word count have a higher chance of being marked as spam.\n",
        "\n",
        "\n",
        "...Null Hypothesis (H0): There is no significant difference in the mean word count of emails marked as spam and not marked as spam.\n",
        "\n",
        "..Alternative Hypothesis (H1): Emails marked as spam have a significantly higher mean word count than those not marked as spam.\n",
        "\n",
        "2 Statement: The time category of email sending affects the likelihood of being marked as spam.\n",
        "\n",
        "..Null Hypothesis (H0): There is no significant difference in the proportion of emails marked as spam across different time categories.\n",
        "\n",
        "..Alternative Hypothesis (H1): The proportion of emails marked as spam varies significantly across different time categories.\n",
        "\n",
        "3 Statement: Emails with a higher number of links are more likely to be marked as spam.\n",
        "\n",
        "...Null Hypothesis (H0): There is no significant difference in the mean number of links in emails marked as spam and not marked as spam.\n",
        "\n",
        "...Alternative Hypothesis (H1): Emails marked as spam have a significantly higher mean number of links than those not marked as spam.\n",
        "\n",
        "\n",
        " **Hypothetical** **Statement** - 1\n",
        "\n",
        "1. State Your research hypothesis as a null hypothesis and alternate hypothesis\n",
        "\n",
        ".\n",
        "Answer Here\n",
        "\n",
        "1 Null Hypothesis (H0): The number of links in an email does not affect the likelihood of it being marked as spam.\n",
        "\n",
        "2 Null Hypothesis (H0): The number of links in an email does not affect the likelihood of it being marked as spam.\n",
        "\n",
        "\n",
        "\n"
      ]
    },
    {
      "cell_type": "markdown",
      "metadata": {
        "id": "TEYeD1A_8drs"
      },
      "source": [
        "2. Perform an appropriate statistical test."
      ]
    },
    {
      "cell_type": "code",
      "execution_count": null,
      "metadata": {
        "colab": {
          "base_uri": "https://localhost:8080/"
        },
        "id": "IGMgGAUmN6Xt",
        "outputId": "506407f1-be72-49be-bc31-68f8cd1f613b"
      },
      "outputs": [
        {
          "output_type": "stream",
          "name": "stdout",
          "text": [
            "Chi-square Statistic: 3092.164801871778\n",
            "P-value: 0.0\n"
          ]
        }
      ],
      "source": [
        "# Create a contingency table\n",
        "contingency_table = pd.crosstab(df['Email_Status'], df['Total_Links'])\n",
        "\n",
        "# Perform chi-square test\n",
        "chi2_stat, p_val, dof, expected = chi2_contingency(contingency_table)\n",
        "\n",
        "# Print the test statistic and p-value\n",
        "print(\"Chi-square Statistic:\", chi2_stat)\n",
        "print(\"P-value:\", p_val)"
      ]
    },
    {
      "cell_type": "markdown",
      "metadata": {
        "id": "9I3tVK3O8j4w"
      },
      "source": [
        "Which statistical test have you done to obtain P-Value?\n",
        "\n",
        "Answer Here.\n",
        "\n",
        "I used the chi-square test of independence to obtain the p-value for the association between two categorical variables.\n",
        "\n",
        "\n",
        "\n",
        "Why did you choose the specific statistical test?\n",
        "\n",
        "Answer Here.\n",
        "\n",
        "By performing the chi-squared test, we can calculate the test statistic and the p-value to determine if we can reject the null hypothesis and conclude that there is indeed a significant association between the email status and the total number of links.\n",
        "\n",
        "\n",
        "\n",
        "\n",
        "\n",
        "\n"
      ]
    },
    {
      "cell_type": "markdown",
      "metadata": {
        "id": "KsLJnqA_8wCl"
      },
      "source": [
        "**Hypothetical** **Statement** - 2\n",
        "1. State Your research hypothesis as a null hypothesis and alternate hypothesis\n",
        "\n",
        "Answer Here.\n",
        "\n",
        "Null Hypothesis (H0): There is no significant difference in the mean total images between emails marked as spam and not marked as spam.\n",
        "\n",
        "Alternative Hypothesis (H1): Emails marked as spam have a significantly different mean total images compared to those not marked as spam."
      ]
    },
    {
      "cell_type": "markdown",
      "metadata": {
        "id": "vpCbML4f9A9x"
      },
      "source": [
        "2. Perform an appropriate statistical test.\n"
      ]
    },
    {
      "cell_type": "code",
      "execution_count": null,
      "metadata": {
        "colab": {
          "base_uri": "https://localhost:8080/"
        },
        "id": "91DsvxVg9CiQ",
        "outputId": "ef267215-6bbd-4c4f-cb32-9efd6617b8f4"
      },
      "outputs": [
        {
          "output_type": "stream",
          "name": "stdout",
          "text": [
            "T-test Statistic: nan\n",
            "P-value: nan\n"
          ]
        }
      ],
      "source": [
        "#  Separate the data into two groups: spam and not spam\n",
        "spam_total_images = df[df['Email_Status'] == 1]['Total_Images']\n",
        "not_spam_total_images = df[df['Email_Status'] == 0]['Total_Images']\n",
        "\n",
        "# Perform t-test\n",
        "t_stat, p_val = ttest_ind(spam_total_images, not_spam_total_images, equal_var=False)\n",
        "\n",
        "# Print the test statistic and p-value\n",
        "print(\"T-test Statistic:\", t_stat)\n",
        "print(\"P-value:\", p_val)"
      ]
    },
    {
      "cell_type": "markdown",
      "metadata": {
        "id": "Xay-Ylc39HZZ"
      },
      "source": [
        "Which statistical test have you done to obtain P-Value?\n",
        "\n",
        "Answer Here.\n",
        "\n",
        "I have used an independent two-sample t-test to obtain the p-value.\n",
        "\n",
        "\n",
        "Why did you choose the specific statistical test?\n",
        "\n",
        "Answer Here.\n",
        "\n",
        "I chose the independent two-sample t-test because it is appropriate for comparing the means of two independent groups, which aligns with the hypothesis regarding the mean word count of emails marked as spam versus not marked as spam.\n",
        "\n",
        "\n",
        "**Hypothetical** **Statement** - 3"
      ]
    },
    {
      "cell_type": "markdown",
      "metadata": {
        "id": "Fh7xnlAV9iEd"
      },
      "source": [
        "1. State Your research hypothesis as a null hypothesis and alternate hypothesis.\n",
        "\n",
        "Answer Here.\n",
        "\n",
        "Null Hypothesis (H0): There is no significant difference in the mean total links of emails marked as spam and not marked as spam.\n",
        "\n",
        "Alternative Hypothesis (H1): Emails marked as spam have a significantly higher mean total links than those not marked as spam.\n",
        "2. Perform an appropriate statistical test.\n"
      ]
    },
    {
      "cell_type": "code",
      "execution_count": null,
      "metadata": {
        "colab": {
          "base_uri": "https://localhost:8080/"
        },
        "id": "PEcOC1rS9ntA",
        "outputId": "650edbbd-fb16-4bc2-e194-d6dc75d08a90"
      },
      "outputs": [
        {
          "output_type": "stream",
          "name": "stdout",
          "text": [
            "T-statistic: nan\n",
            "P-value: nan\n"
          ]
        }
      ],
      "source": [
        "#  Separate data for emails marked as spam and not marked as spam\n",
        "spam_links = df[df['Email_Status'] == 1]['Total_Links']\n",
        "non_spam_links = df[df['Email_Status'] == 0]['Total_Links']\n",
        "\n",
        "# Perform t-test\n",
        "t_stat, p_val = ttest_ind(spam_links, non_spam_links, equal_var=False)\n",
        "\n",
        "# Print the test statistic and p-value\n",
        "print(\"T-statistic:\", t_stat)\n",
        "print(\"P-value:\", p_val)"
      ]
    },
    {
      "cell_type": "markdown",
      "metadata": {
        "id": "7AQQ9XCT9oNk"
      },
      "source": [
        "Which statistical test have you done to obtain P-Value?\n",
        "\n",
        "Answer Here.\n",
        "\n",
        "I have used an independent samples t-test to obtain the p-value for the hypothesis.\n",
        "\n",
        "\n",
        "Why did you choose the specific statistical test?\n",
        "\n",
        "Answer Here.\n",
        "\n",
        "I chose the independent samples t-test because it is appropriate for comparing the means of two independent groups, which fits the scenario of comparing the mean total links of emails marked as spam and not marked as spam.\n",
        "\n",
        "\n",
        "\n",
        "\n",
        "\n",
        "\n"
      ]
    },
    {
      "cell_type": "markdown",
      "metadata": {
        "id": "Eg88TBj995gi"
      },
      "source": [
        "6. **Feature** **Engineering** & **Data** **Pre**-**processing**\n",
        "\n",
        ". Handling Missing Values"
      ]
    },
    {
      "cell_type": "code",
      "source": [
        "#   handling missing values.\n",
        "df['Customer_Location'].fillna('unknown', inplace = True)\n",
        "\n",
        "df['Total_Past_Communications'].fillna(df['Total_Past_Communications'].mean(), inplace=True)\n",
        "df['Total_Links'].fillna(df['Total_Links'].mean(), inplace=True)\n",
        "df['Total_Images'].fillna(df['Total_Images'].mean(), inplace=True)\n"
      ],
      "metadata": {
        "id": "VPUuGvfKzOad"
      },
      "execution_count": null,
      "outputs": []
    },
    {
      "cell_type": "code",
      "source": [
        "# verifing the null values\n",
        "df.isnull().sum()"
      ],
      "metadata": {
        "colab": {
          "base_uri": "https://localhost:8080/"
        },
        "id": "Gd8k0pD2lxym",
        "outputId": "54dac757-d893-4a11-f51f-3861e4cc79a8"
      },
      "execution_count": null,
      "outputs": [
        {
          "output_type": "execute_result",
          "data": {
            "text/plain": [
              "Email_ID                     0\n",
              "Email_Type                   0\n",
              "Subject_Hotness_Score        0\n",
              "Email_Source_Type            0\n",
              "Customer_Location            0\n",
              "Email_Campaign_Type          0\n",
              "Total_Past_Communications    0\n",
              "Time_Email_sent_Category     0\n",
              "Word_Count                   0\n",
              "Total_Links                  0\n",
              "Total_Images                 0\n",
              "Email_Status                 0\n",
              "dtype: int64"
            ]
          },
          "metadata": {},
          "execution_count": 36
        }
      ]
    },
    {
      "cell_type": "markdown",
      "metadata": {
        "id": "zc3OnAmk-B36"
      },
      "source": [
        "What all missing value imputation techniques have you used and why did you use those techniques?\n",
        "\n",
        "\n",
        "Answer Here.\n",
        "I used 'Unknown' for categorical missing values and median imputation for numerical missing values to maintain data consistency and reduce bias, ensuring robust model performance despite missing data.\n",
        "\n",
        "\n",
        "\n",
        "\n",
        "\n",
        "\n",
        "\n",
        "\n",
        "\n",
        "\n",
        "2. **Handling** **Outliers**"
      ]
    },
    {
      "cell_type": "code",
      "execution_count": null,
      "metadata": {
        "colab": {
          "base_uri": "https://localhost:8080/"
        },
        "id": "DUteiu14KmPt",
        "outputId": "478122ad-5868-4d8c-b092-5a54f2c828e2"
      },
      "outputs": [
        {
          "output_type": "stream",
          "name": "stdout",
          "text": [
            "Outliers in Word_Count: Series([], Name: Word_Count, dtype: int64)\n",
            "Outliers in Total_Links: 24       31.0\n",
            "107      28.0\n",
            "126      31.0\n",
            "161      41.0\n",
            "179      41.0\n",
            "         ... \n",
            "68243    31.0\n",
            "68255    31.0\n",
            "68264    29.0\n",
            "68291    31.0\n",
            "68349    31.0\n",
            "Name: Total_Links, Length: 1608, dtype: float64\n",
            "Outliers in Total_Images: 11       16.0\n",
            "14       13.0\n",
            "17       15.0\n",
            "24       28.0\n",
            "46       13.0\n",
            "         ... \n",
            "68288    16.0\n",
            "68291    22.0\n",
            "68345    15.0\n",
            "68348    13.0\n",
            "68349    16.0\n",
            "Name: Total_Images, Length: 5585, dtype: float64\n"
          ]
        }
      ],
      "source": [
        "\n",
        "# Define a function to detect outliers using IQR\n",
        "def detect_outliers_iqr(data):\n",
        "    Q1 = np.percentile(data, 25)\n",
        "    Q3 = np.percentile(data, 75)\n",
        "    IQR = Q3 - Q1\n",
        "    lower_bound = Q1 - 1.5 * IQR\n",
        "    upper_bound = Q3 + 1.5 * IQR\n",
        "    return data[(data < lower_bound) | (data > upper_bound)]\n",
        "\n",
        "# Detect outliers in numerical columns\n",
        "outliers_word_count = detect_outliers_iqr(df['Word_Count'])\n",
        "outliers_total_links = detect_outliers_iqr(df['Total_Links'])\n",
        "outliers_total_images = detect_outliers_iqr(df['Total_Images'])\n",
        "\n",
        "print(\"Outliers in Word_Count:\", outliers_word_count)\n",
        "print(\"Outliers in Total_Links:\", outliers_total_links)\n",
        "print(\"Outliers in Total_Images:\", outliers_total_images)\n"
      ]
    },
    {
      "cell_type": "code",
      "execution_count": null,
      "metadata": {
        "colab": {
          "base_uri": "https://localhost:8080/"
        },
        "id": "MPn83B59LAiN",
        "outputId": "debcdd65-12c2-4f47-b7ca-ee5370a8889f"
      },
      "outputs": [
        {
          "output_type": "stream",
          "name": "stdout",
          "text": [
            "       Subject_Hotness_Score  Total_Past_Communications    Word_Count  \\\n",
            "count           68353.000000               68353.000000  68353.000000   \n",
            "mean                1.094306                  28.929446    699.931751   \n",
            "std                 0.993642                  11.883000    271.719440   \n",
            "min                 0.000000                   0.000000     40.000000   \n",
            "25%                 0.200000                  20.000000    521.000000   \n",
            "50%                 0.800000                  28.933250    694.000000   \n",
            "75%                 1.800000                  37.000000    880.000000   \n",
            "max                 4.200000                  62.500000   1316.000000   \n",
            "\n",
            "        Total_Links  \n",
            "count  68353.000000  \n",
            "mean      10.285831  \n",
            "std        5.806417  \n",
            "min        1.000000  \n",
            "25%        6.000000  \n",
            "50%        9.000000  \n",
            "75%       14.000000  \n",
            "max       26.000000  \n"
          ]
        },
        {
          "output_type": "stream",
          "name": "stderr",
          "text": [
            "<ipython-input-38-340f30225b0a>:8: SettingWithCopyWarning: \n",
            "A value is trying to be set on a copy of a slice from a DataFrame\n",
            "\n",
            "See the caveats in the documentation: https://pandas.pydata.org/pandas-docs/stable/user_guide/indexing.html#returning-a-view-versus-a-copy\n",
            "  data[data < lower_bound] = lower_bound\n",
            "<ipython-input-38-340f30225b0a>:9: SettingWithCopyWarning: \n",
            "A value is trying to be set on a copy of a slice from a DataFrame\n",
            "\n",
            "See the caveats in the documentation: https://pandas.pydata.org/pandas-docs/stable/user_guide/indexing.html#returning-a-view-versus-a-copy\n",
            "  data[data > upper_bound] = upper_bound\n",
            "<ipython-input-38-340f30225b0a>:8: SettingWithCopyWarning: \n",
            "A value is trying to be set on a copy of a slice from a DataFrame\n",
            "\n",
            "See the caveats in the documentation: https://pandas.pydata.org/pandas-docs/stable/user_guide/indexing.html#returning-a-view-versus-a-copy\n",
            "  data[data < lower_bound] = lower_bound\n",
            "<ipython-input-38-340f30225b0a>:9: SettingWithCopyWarning: \n",
            "A value is trying to be set on a copy of a slice from a DataFrame\n",
            "\n",
            "See the caveats in the documentation: https://pandas.pydata.org/pandas-docs/stable/user_guide/indexing.html#returning-a-view-versus-a-copy\n",
            "  data[data > upper_bound] = upper_bound\n",
            "<ipython-input-38-340f30225b0a>:8: SettingWithCopyWarning: \n",
            "A value is trying to be set on a copy of a slice from a DataFrame\n",
            "\n",
            "See the caveats in the documentation: https://pandas.pydata.org/pandas-docs/stable/user_guide/indexing.html#returning-a-view-versus-a-copy\n",
            "  data[data < lower_bound] = lower_bound\n",
            "<ipython-input-38-340f30225b0a>:9: SettingWithCopyWarning: \n",
            "A value is trying to be set on a copy of a slice from a DataFrame\n",
            "\n",
            "See the caveats in the documentation: https://pandas.pydata.org/pandas-docs/stable/user_guide/indexing.html#returning-a-view-versus-a-copy\n",
            "  data[data > upper_bound] = upper_bound\n",
            "<ipython-input-38-340f30225b0a>:8: SettingWithCopyWarning: \n",
            "A value is trying to be set on a copy of a slice from a DataFrame\n",
            "\n",
            "See the caveats in the documentation: https://pandas.pydata.org/pandas-docs/stable/user_guide/indexing.html#returning-a-view-versus-a-copy\n",
            "  data[data < lower_bound] = lower_bound\n",
            "<ipython-input-38-340f30225b0a>:9: SettingWithCopyWarning: \n",
            "A value is trying to be set on a copy of a slice from a DataFrame\n",
            "\n",
            "See the caveats in the documentation: https://pandas.pydata.org/pandas-docs/stable/user_guide/indexing.html#returning-a-view-versus-a-copy\n",
            "  data[data > upper_bound] = upper_bound\n"
          ]
        }
      ],
      "source": [
        "# Function to cap outliers\n",
        "def cap_outliers(data):\n",
        "    Q1 = np.percentile(data, 25)\n",
        "    Q3 = np.percentile(data, 75)\n",
        "    IQR = Q3 - Q1\n",
        "    lower_bound = Q1 - 1.5 * IQR\n",
        "    upper_bound = Q3 + 1.5 * IQR\n",
        "    data[data < lower_bound] = lower_bound\n",
        "    data[data > upper_bound] = upper_bound\n",
        "    return data\n",
        "\n",
        "# Apply capping on numerical columns\n",
        "numerical_cols = ['Subject_Hotness_Score', 'Total_Past_Communications', 'Word_Count', 'Total_Links']\n",
        "for col in numerical_cols:\n",
        "    df[col] = cap_outliers(df[col])\n",
        "print(df[numerical_cols].describe())\n"
      ]
    },
    {
      "cell_type": "markdown",
      "metadata": {
        "id": "2qNml1li-NAK"
      },
      "source": [
        "What all outlier treatment techniques have you used and why did you use those techniques?\n",
        "\n",
        "Answer .\n",
        "\n",
        "1 IQR Method: The IQR method is robust to outliers and provides a simple way to detect and handle them. It defines outliers as values that fall below Q1 - 1.5 * IQR or above Q3 + 1.5 * IQR, where Q1 is the 25th percentile (1st quartile), Q3 is the 75th percentile (3rd quartile), and IQR is the interquartile range (Q3 - Q1).\n",
        "\n",
        "2 Handling Strategy: Outliers detected by the IQR method are capped to the lower and upper bounds defined by Q1 - 1.5 * IQR and Q3 + 1.5 * IQR, respectively. This strategy helps in reducing the impact of outliers on statistical analysis without removing them entirely, which can be important for maintaining the integrity of the dataset and preserving valuable information.\n",
        "\n",
        "3. Categorical Encoding"
      ]
    },
    {
      "cell_type": "code",
      "execution_count": null,
      "metadata": {
        "colab": {
          "base_uri": "https://localhost:8080/"
        },
        "id": "aHkp7PY4NlXM",
        "outputId": "abcbda4e-7ca3-428c-ba82-8450c3519c2b"
      },
      "outputs": [
        {
          "output_type": "stream",
          "name": "stderr",
          "text": [
            "/usr/local/lib/python3.10/dist-packages/sklearn/preprocessing/_encoders.py:868: FutureWarning: `sparse` was renamed to `sparse_output` in version 1.2 and will be removed in 1.4. `sparse_output` is ignored unless you leave `sparse` to its default value.\n",
            "  warnings.warn(\n"
          ]
        }
      ],
      "source": [
        "from sklearn.preprocessing import OneHotEncoder\n",
        "\n",
        "# Define the categorical columns\n",
        "categorical_cols = ['Email_Type', 'Email_Source_Type', 'Customer_Location', 'Email_Campaign_Type']\n",
        "\n",
        "# Apply OneHotEncoder to the categorical columns\n",
        "encoder = OneHotEncoder(drop='first', sparse=False)\n",
        "X_encoded = pd.DataFrame(encoder.fit_transform(df[categorical_cols]), columns=encoder.get_feature_names_out(categorical_cols))\n",
        "\n",
        "# Drop original categorical columns and concatenate encoded columns\n",
        "df = df.drop(categorical_cols, axis=1)\n",
        "df = pd.concat([df, X_encoded], axis=1)\n"
      ]
    },
    {
      "cell_type": "markdown",
      "metadata": {
        "id": "DgipLD1o-XN0"
      },
      "source": [
        "What all categorical encoding techniques have you used & why did you use those techniques?\n",
        "\n",
        "Answer Here.\n",
        "I used OneHotEncoder to convert categorical variables into binary columns because it allows the model to interpret categorical features without implying any ordinal relationship between categories.\n"
      ]
    },
    {
      "cell_type": "markdown",
      "metadata": {
        "id": "TGZ-faMoAAdN"
      },
      "source": [
        "\n",
        "4. **Feature** **Manipulation** & **Selection**"
      ]
    },
    {
      "cell_type": "markdown",
      "metadata": {
        "id": "dUB-ieLXAYUw"
      },
      "source": [
        "1. Feature Manipulation"
      ]
    },
    {
      "cell_type": "code",
      "execution_count": null,
      "metadata": {
        "colab": {
          "base_uri": "https://localhost:8080/"
        },
        "id": "Cv1OdCLBUmQR",
        "outputId": "89ef4f35-8243-48dc-d1ef-5dd3983a35d0"
      },
      "outputs": [
        {
          "output_type": "stream",
          "name": "stdout",
          "text": [
            "            Email_ID  Subject_Hotness_Score  Total_Past_Communications  \\\n",
            "0  EMA00081000034500               1.112777                   0.342555   \n",
            "1  EMA00081000045360               1.012136                  -1.172225   \n",
            "2  EMA00081000066290              -1.000676                   0.595019   \n",
            "3  EMA00081000076560               1.917902                  -0.330680   \n",
            "4  EMA00081000109720              -1.101316                  -0.919762   \n",
            "\n",
            "   Time_Email_sent_Category  Word_Count  Total_Links  Total_Images  \\\n",
            "0                         1   -0.956625    -0.393676     -0.642325   \n",
            "1                         2   -0.721086    -0.910350     -0.642325   \n",
            "2                         2    0.964488    -0.910350     -0.642325   \n",
            "3                         2   -0.330975     0.984120     -0.642325   \n",
            "4                         2    0.909284    -1.082574     -0.642325   \n",
            "\n",
            "   Email_Status  Email_Type_2  Email_Source_Type_2  Customer_Location_B  \\\n",
            "0             0           0.0                  1.0                  0.0   \n",
            "1             0           1.0                  0.0                  0.0   \n",
            "2             1           1.0                  0.0                  1.0   \n",
            "3             0           0.0                  1.0                  0.0   \n",
            "4             0           0.0                  1.0                  0.0   \n",
            "\n",
            "   Customer_Location_C  Customer_Location_D  Customer_Location_E  \\\n",
            "0                  0.0                  0.0                  1.0   \n",
            "1                  0.0                  0.0                  0.0   \n",
            "2                  0.0                  0.0                  0.0   \n",
            "3                  0.0                  0.0                  1.0   \n",
            "4                  1.0                  0.0                  0.0   \n",
            "\n",
            "   Customer_Location_F  Customer_Location_G  Customer_Location_unknown  \\\n",
            "0                  0.0                  0.0                        0.0   \n",
            "1                  0.0                  0.0                        1.0   \n",
            "2                  0.0                  0.0                        0.0   \n",
            "3                  0.0                  0.0                        0.0   \n",
            "4                  0.0                  0.0                        0.0   \n",
            "\n",
            "   Email_Campaign_Type_2  Email_Campaign_Type_3  \n",
            "0                    1.0                    0.0  \n",
            "1                    1.0                    0.0  \n",
            "2                    0.0                    1.0  \n",
            "3                    1.0                    0.0  \n",
            "4                    0.0                    1.0  \n"
          ]
        }
      ],
      "source": [
        "numerical_cols = ['Subject_Hotness_Score', 'Total_Past_Communications', 'Word_Count', 'Total_Links', 'Total_Images']\n",
        "categorical_cols = ['Email_Type', 'Email_Source_Type', 'Customer_Location', 'Email_Campaign_Type']\n",
        "\n",
        "# Standardize numerical features\n",
        "scaler = StandardScaler()\n",
        "df[numerical_cols] = scaler.fit_transform(df[numerical_cols])\n",
        "\n",
        "# Check the updated DataFrame\n",
        "print(df.head())"
      ]
    },
    {
      "cell_type": "markdown",
      "metadata": {
        "id": "vHCTnK9BAfLh"
      },
      "source": [
        "2 feature selection.\n"
      ]
    },
    {
      "cell_type": "code",
      "execution_count": null,
      "metadata": {
        "colab": {
          "base_uri": "https://localhost:8080/"
        },
        "id": "eLt4CsmIZNon",
        "outputId": "64db576d-79b9-4c58-f2c8-38840e743778"
      },
      "outputs": [
        {
          "output_type": "stream",
          "name": "stdout",
          "text": [
            "Selected features: ['Subject_Hotness_Score', 'Total_Past_Communications', 'Time_Email_sent_Category', 'Word_Count', 'Total_Links', 'Total_Images', 'Email_Source_Type_2', 'Customer_Location_G', 'Email_Campaign_Type_2']\n"
          ]
        }
      ],
      "source": [
        "from sklearn.ensemble import RandomForestClassifier\n",
        "from sklearn.feature_selection import SelectFromModel\n",
        "\n",
        "# Define X (features) and y (target)\n",
        "X = df.drop(['Email_ID', 'Email_Status'], axis=1)  # Drop non-numeric columns and target variable\n",
        "y = df['Email_Status']\n",
        "\n",
        "# Initialize a RandomForestClassifier for feature selection\n",
        "clf = RandomForestClassifier(random_state=42)\n",
        "\n",
        "# Fit the classifier on your data\n",
        "clf.fit(X, y)\n",
        "# Select features based on importance threshold\n",
        "selector = SelectFromModel(clf, threshold='median')  # Adjust threshold as needed\n",
        "\n",
        "# Fit selector to training data\n",
        "selector.fit(X, y)\n",
        "\n",
        "# Transform X to include only selected features\n",
        "X_selected = selector.transform(X)\n",
        "\n",
        "# Get selected feature names\n",
        "selected_features = X.columns[selector.get_support()]\n",
        "print(\"Selected features:\", selected_features.tolist())\n"
      ]
    },
    {
      "cell_type": "markdown",
      "metadata": {
        "id": "o8_3VW0XAxTj"
      },
      "source": [
        "What all feature slection methods have you used and why?\n",
        "\n",
        "Answer Here.\n",
        "\n",
        "I have used RandomForestClassifier with SelectFromModel to select features based on their importance scores. This method identifies important features for better model performance and reduced overfitting in predictive modeling tasks.\n",
        "\n",
        "Which all features you found important and why?\n",
        "\n",
        "Answer Here.\n",
        "\n",
        "Based on the RandomForestClassifier feature importances, important features like Subject_Hotness_Score, Total_Past_Communications, and Time_Email_sent_Category were identified due to their significant impact on predicting Email_Status, aiding in effective email campaign management.\n",
        "\n",
        "\n",
        "\n",
        "\n",
        "\n",
        "\n",
        "\n",
        "\n",
        "\n",
        "\n",
        "\n",
        "\n",
        "\n",
        "\n"
      ]
    },
    {
      "cell_type": "markdown",
      "metadata": {
        "id": "KZYAtyP5A5P0"
      },
      "source": [
        "5. **Data** **Transformation**\n",
        "\n",
        "Do you think that your data needs to be transformed? If yes, which transformation have you used. Explain"
      ]
    },
    {
      "cell_type": "markdown",
      "metadata": {
        "id": "t7c9pxsTR0px"
      },
      "source": [
        " yes, i used  handling missing values, categorical encoding, and scaling numerical features are typically necessary before training machine learning models."
      ]
    },
    {
      "cell_type": "markdown",
      "metadata": {
        "id": "lgr_fpgZBELF"
      },
      "source": [
        "6 **Data** **Scaling**"
      ]
    },
    {
      "cell_type": "code",
      "source": [
        "from sklearn.preprocessing import StandardScaler\n",
        "\n",
        "# numerical_cols contains the names of numerical columns to scale\n",
        "numerical_cols = ['Subject_Hotness_Score', 'Total_Past_Communications', 'Word_Count', 'Total_Links', 'Total_Images']\n",
        "\n",
        "# Initialize StandardScaler\n",
        "scaler = StandardScaler()\n",
        "\n",
        "# Fit and transform the numerical columns\n",
        "df[numerical_cols] = scaler.fit_transform(df[numerical_cols])\n",
        "# Inspect the updated DataFrame\n",
        "print(df.head())"
      ],
      "metadata": {
        "colab": {
          "base_uri": "https://localhost:8080/"
        },
        "id": "B6H-BqdH1b4X",
        "outputId": "ea6ec490-f286-4ae2-c479-7ac6411170d0"
      },
      "execution_count": null,
      "outputs": [
        {
          "output_type": "stream",
          "name": "stdout",
          "text": [
            "            Email_ID  Subject_Hotness_Score  Total_Past_Communications  \\\n",
            "0  EMA00081000034500               1.112777                   0.342555   \n",
            "1  EMA00081000045360               1.012136                  -1.172225   \n",
            "2  EMA00081000066290              -1.000676                   0.595019   \n",
            "3  EMA00081000076560               1.917902                  -0.330680   \n",
            "4  EMA00081000109720              -1.101316                  -0.919762   \n",
            "\n",
            "   Time_Email_sent_Category  Word_Count  Total_Links  Total_Images  \\\n",
            "0                         1   -0.956625    -0.393676     -0.642325   \n",
            "1                         2   -0.721086    -0.910350     -0.642325   \n",
            "2                         2    0.964488    -0.910350     -0.642325   \n",
            "3                         2   -0.330975     0.984120     -0.642325   \n",
            "4                         2    0.909284    -1.082574     -0.642325   \n",
            "\n",
            "   Email_Status  Email_Type_2  Email_Source_Type_2  Customer_Location_B  \\\n",
            "0             0           0.0                  1.0                  0.0   \n",
            "1             0           1.0                  0.0                  0.0   \n",
            "2             1           1.0                  0.0                  1.0   \n",
            "3             0           0.0                  1.0                  0.0   \n",
            "4             0           0.0                  1.0                  0.0   \n",
            "\n",
            "   Customer_Location_C  Customer_Location_D  Customer_Location_E  \\\n",
            "0                  0.0                  0.0                  1.0   \n",
            "1                  0.0                  0.0                  0.0   \n",
            "2                  0.0                  0.0                  0.0   \n",
            "3                  0.0                  0.0                  1.0   \n",
            "4                  1.0                  0.0                  0.0   \n",
            "\n",
            "   Customer_Location_F  Customer_Location_G  Customer_Location_unknown  \\\n",
            "0                  0.0                  0.0                        0.0   \n",
            "1                  0.0                  0.0                        1.0   \n",
            "2                  0.0                  0.0                        0.0   \n",
            "3                  0.0                  0.0                        0.0   \n",
            "4                  0.0                  0.0                        0.0   \n",
            "\n",
            "   Email_Campaign_Type_2  Email_Campaign_Type_3  \n",
            "0                    1.0                    0.0  \n",
            "1                    1.0                    0.0  \n",
            "2                    0.0                    1.0  \n",
            "3                    1.0                    0.0  \n",
            "4                    0.0                    1.0  \n"
          ]
        }
      ]
    },
    {
      "cell_type": "markdown",
      "metadata": {
        "id": "BkJKwvB4BWZo"
      },
      "source": [
        "Which method have you used to scale you data and why?\n",
        "\n",
        "I used StandardScaler to scale numerical columns such as 'Subject_Hotness_Score', 'Total_Past_Communications', 'Word_Count', 'Total_Links', and 'Total_Images'. StandardScaler standardizes features by removing the mean and scaling to unit variance, which is suitable for many machine learning algorithms that assume normally distributed data.\n",
        "\n",
        "\n",
        "\n",
        "\n",
        "\n",
        "\n",
        "\n",
        "\n",
        "\n",
        "\n",
        "\n",
        "\n",
        "\n"
      ]
    },
    {
      "cell_type": "markdown",
      "source": [
        "**7. Dimesionality Reduction.**"
      ],
      "metadata": {
        "id": "8gOJpNl835Yb"
      }
    },
    {
      "cell_type": "code",
      "source": [
        "from sklearn.decomposition import PCA\n",
        "\n",
        "# Apply PCA to reduce dimensionality\n",
        "pca = PCA(n_components=0.95)  # Retain 95% of the variance\n",
        "principal_components = pca.fit_transform(df.drop(columns=['Email_Status', 'Email_ID']))\n",
        "\n",
        "# Create a DataFrame with the principal components\n",
        "pca_df = pd.DataFrame(principal_components, columns=[f'PC{i+1}' for i in range(principal_components.shape[1])])\n",
        "\n",
        "# Add the target variable back to the DataFrame\n",
        "pca_df['Email_Status'] = df['Email_Status'].values\n",
        "\n",
        "# Inspect the updated DataFrame with principal components\n",
        "print(pca_df.head())\n"
      ],
      "metadata": {
        "colab": {
          "base_uri": "https://localhost:8080/"
        },
        "id": "coFasodd4GNj",
        "outputId": "99197590-0611-428e-89be-9de85543ae57"
      },
      "execution_count": null,
      "outputs": [
        {
          "output_type": "stream",
          "name": "stdout",
          "text": [
            "        PC1       PC2       PC3       PC4       PC5       PC6       PC7  \\\n",
            "0 -0.924076  0.274189  1.383838 -1.062685  0.165960 -0.513288 -0.430213   \n",
            "1 -1.678087  0.926426  0.517368  0.386085  0.616339  0.614919 -0.508062   \n",
            "2 -0.522986 -1.613915 -1.256401  0.005397  0.031720  0.617509 -0.236899   \n",
            "3 -0.338961  1.588488  1.013900 -0.371937 -0.602931 -0.818563 -0.479551   \n",
            "4 -0.963616 -0.707290 -1.741382  0.366893  0.585954 -0.741799 -0.265843   \n",
            "\n",
            "        PC8       PC9      PC10      PC11      PC12  Email_Status  \n",
            "0  0.192731 -0.167003 -0.680790 -0.197427 -0.483291             0  \n",
            "1 -0.268953  0.083827  0.715504 -0.345023 -0.260309             0  \n",
            "2 -0.014365 -0.641394 -0.036854 -0.115471  0.205564             1  \n",
            "3 -0.713383 -0.611823 -0.668147 -0.220152 -0.494008             0  \n",
            "4  0.445772 -0.092855 -0.092546  0.413322  0.291352             0  \n"
          ]
        }
      ]
    },
    {
      "cell_type": "markdown",
      "metadata": {
        "id": "eyFabT-dBYMS"
      },
      "source": [
        "\n",
        "Do you think that dimensionality reduction is needed? Explain Why?\n",
        "\n",
        "Answer Here.\n",
        "\n",
        "Yes, dimensionality reduction is needed to handle multicollinearity, reduce computational complexity, and enhance model interpretability by summarizing the data with fewer features while retaining most of the important information.\n",
        "\n"
      ]
    },
    {
      "cell_type": "markdown",
      "metadata": {
        "id": "uJryJLtABj-i"
      },
      "source": [
        "Which dimensionality reduction technique have you used and why? (If dimensionality reduction done on dataset.)\n",
        "\n",
        "Answer Here.\n",
        "\n",
        "PCA was used to reduce dimensionality. It's effective for numerical data like 'Total_Past_Communications' because it captures variance, reducing features while preserving important information.\n",
        "\n",
        "\n"
      ]
    },
    {
      "cell_type": "markdown",
      "metadata": {
        "id": "rMsGRsluBsO5"
      },
      "source": [
        "8 **Data** **Splitting**"
      ]
    },
    {
      "cell_type": "code",
      "source": [
        "# Split the dataset into training and testing sets\n",
        "X_train, X_test, y_train, y_test = train_test_split(X, y, test_size=0.2, random_state=42, stratify=y)\n",
        "\n",
        "# Inspect the shapes of the resulting splits\n",
        "print(\"Training features shape:\", X_train.shape)\n",
        "print(\"Testing features shape:\", X_test.shape)\n",
        "print(\"Training labels shape:\", y_train.shape)\n",
        "print(\"Testing labels shape:\", y_test.shape)"
      ],
      "metadata": {
        "colab": {
          "base_uri": "https://localhost:8080/"
        },
        "id": "zZoIapmc6CQ0",
        "outputId": "c6d82d5c-809f-43a8-e024-b68e045b65d2"
      },
      "execution_count": null,
      "outputs": [
        {
          "output_type": "stream",
          "name": "stdout",
          "text": [
            "Training features shape: (54682, 17)\n",
            "Testing features shape: (13671, 17)\n",
            "Training labels shape: (54682,)\n",
            "Testing labels shape: (13671,)\n"
          ]
        }
      ]
    },
    {
      "cell_type": "markdown",
      "metadata": {
        "id": "hPahIhyGB5eS"
      },
      "source": [
        "What data splitting ratio have you used and why?\n",
        "\n",
        "Answer Here.\n",
        "I used an 80/20 train/test split ratio because it provides a good balance between having enough data for training and ensuring a sufficient amount for testing the model's performance.\n",
        "\n",
        "\n",
        "\n",
        "\n",
        "\n",
        "\n"
      ]
    },
    {
      "cell_type": "markdown",
      "metadata": {
        "id": "8RAeZz4rB9Qv"
      },
      "source": [
        "9. Handling Imbalanced Dataset\n",
        "\n",
        "Do you think the dataset is imbalanced? Explain Why.\n",
        "\n",
        "Answer Here.\n",
        "\n",
        "The dataset is imbalanced initially, as it has two classes with a disproportionate distribution. After applying SMOTE, the classes are balanced, as shown by the Counter result.\n",
        "\n",
        "\n",
        "\n",
        "\n",
        "\n",
        "\n"
      ]
    },
    {
      "cell_type": "code",
      "source": [
        "from imblearn.over_sampling import SMOTE\n",
        "from collections import Counter\n",
        "\n",
        "# Initialize SMOTE\n",
        "smote = SMOTE(random_state=42)\n",
        "\n",
        "# Apply SMOTE to the training data\n",
        "X_train_resampled, y_train_resampled = smote.fit_resample(X_train, y_train)\n",
        "\n",
        "# Display the class distribution before and after resampling\n",
        "print(\"Original training set class distribution:\", Counter(y_train))\n",
        "print(\"Resampled training set class distribution:\", Counter(y_train_resampled))\n"
      ],
      "metadata": {
        "colab": {
          "base_uri": "https://localhost:8080/"
        },
        "id": "liRDXCPU7Sq-",
        "outputId": "c22bd1fa-fb0c-40bd-a233-7b0838d9018e"
      },
      "execution_count": null,
      "outputs": [
        {
          "output_type": "stream",
          "name": "stdout",
          "text": [
            "Original training set class distribution: Counter({0: 43953, 1: 8831, 2: 1898})\n",
            "Resampled training set class distribution: Counter({1: 43953, 0: 43953, 2: 43953})\n"
          ]
        }
      ]
    },
    {
      "cell_type": "markdown",
      "metadata": {
        "id": "aGn78JNYCLne"
      },
      "source": [
        "What technique did you use to handle the imbalance dataset and why? (If needed to be balanced)\n",
        "\n",
        "\n",
        "answer Here\n",
        "\n",
        "I used Synthetic Minority Over-sampling Technique (SMOTE) to balance the dataset. SMOTE generates synthetic samples for the minority class, helping the model learn better from the imbalanced data.\n",
        "\n",
        "\n",
        "\n",
        "\n",
        "\n",
        "\n"
      ]
    },
    {
      "cell_type": "markdown",
      "metadata": {
        "id": "7rlbPgOHCXOZ"
      },
      "source": [
        "7. **ML** **Model** **Implementation**\n",
        "\n",
        "ML Model - 1"
      ]
    },
    {
      "cell_type": "code",
      "source": [
        "from sklearn.ensemble import RandomForestClassifier\n",
        "\n",
        "from sklearn.metrics import classification_report, confusion_matrix\n",
        "# Initialize the RandomForestClassifier\n",
        "model = RandomForestClassifier(random_state=42, n_jobs=-1)\n",
        "\n",
        "# Train the model\n",
        "model.fit(X_train_resampled, y_train_resampled)\n",
        "# Predict on the test set\n",
        "y_pred = model.predict(X_test)\n",
        "# Print classification report\n",
        "print(\"Classification Report:\\n\", classification_report(y_test, y_pred))\n",
        "\n",
        "# Print confusion matrix\n",
        "print(\"Confusion Matrix:\\n\", confusion_matrix(y_test, y_pred))\n"
      ],
      "metadata": {
        "colab": {
          "base_uri": "https://localhost:8080/"
        },
        "id": "dkd25ZCZ8uvx",
        "outputId": "eabf6d3c-0326-4da8-aad1-6128b74667c8"
      },
      "execution_count": null,
      "outputs": [
        {
          "output_type": "stream",
          "name": "stdout",
          "text": [
            "Classification Report:\n",
            "               precision    recall  f1-score   support\n",
            "\n",
            "           0       0.85      0.90      0.88     10988\n",
            "           1       0.37      0.29      0.33      2208\n",
            "           2       0.11      0.08      0.09       475\n",
            "\n",
            "    accuracy                           0.78     13671\n",
            "   macro avg       0.45      0.43      0.43     13671\n",
            "weighted avg       0.75      0.78      0.76     13671\n",
            "\n",
            "Confusion Matrix:\n",
            " [[9911  918  159]\n",
            " [1423  649  136]\n",
            " [ 266  171   38]]\n"
          ]
        }
      ]
    },
    {
      "cell_type": "markdown",
      "metadata": {
        "id": "Hv5bWKvWCyWr"
      },
      "source": [
        "1. Explain the ML Model used and it's performance using Evaluation metric Score Chart.\n",
        "\n",
        "i used randomforest classifer and the perofrmanace is\n",
        "\n",
        "Accuracy: The overall accuracy of the model is 78%, which is the proportion of correctly predicted emails out of all emails in the test set.\n",
        "\n",
        "Precision and Recall:\n",
        "\n",
        "Class 0 shows relatively good precision and recall, indicating the model performs well in predicting this class.\n",
        "Class 1 and Class 2 have lower precision and recall values, suggesting that the model struggles more with these classes, possibly due to their lower representation or distinct characteristics.\n",
        "\n",
        "\n",
        "F1-Score:\n",
        "\n",
        "The F1-score for Class 0 is notably higher compared to Class 1 and Class 2, reflecting better balance between precision and recall for Class 0.\n",
        "Class 1 and Class 2 have lower F1-scores, indicating poorer performance in correctly identifying these classes compared to Class 0."
      ]
    },
    {
      "cell_type": "markdown",
      "metadata": {
        "id": "DERwP73mC5J5"
      },
      "source": [
        "2. Cross- Validation & Hyperparameter Tuning\n"
      ]
    },
    {
      "cell_type": "code",
      "source": [
        "from sklearn.ensemble import RandomForestClassifier\n",
        "from sklearn.model_selection import RandomizedSearchCV\n",
        "from sklearn.metrics import classification_report, confusion_matrix\n",
        "from scipy.stats import randint\n",
        "\n",
        "# Define the reduced hyperparameter grid\n",
        "param_dist = {\n",
        "    'n_estimators': randint(10, 30),\n",
        "    'max_depth': [None, 10, 20, 30],\n",
        "    'min_samples_split': randint(2, 5),\n",
        "    'min_samples_leaf': randint(1, 5),\n",
        "    'bootstrap': [True]\n",
        "}\n",
        "\n",
        "# Initialize the RandomForestClassifier\n",
        "model = RandomForestClassifier(random_state=42, n_jobs=-1)\n",
        "\n",
        "# Set up RandomizedSearchCV with fewer iterations and folds\n",
        "random_search = RandomizedSearchCV(\n",
        "    estimator=model,\n",
        "    param_distributions=param_dist,\n",
        "    n_iter=20,  # Reduced number of parameter settings\n",
        "    cv=2,  # Reduced number of folds\n",
        "    verbose=2,\n",
        "    random_state=42,\n",
        "    n_jobs=-1\n",
        ")\n",
        "\n",
        "# Fit the model using RandomizedSearchCV\n",
        "random_search.fit(X_train_resampled, y_train_resampled)\n",
        "\n",
        "# Get the best estimator\n",
        "best_model = random_search.best_estimator_\n",
        "\n",
        "# Predict on the test set\n",
        "y_pred = best_model.predict(X_test)\n",
        "\n",
        "# Print classification report\n",
        "print(\"Classification Report:\\n\", classification_report(y_test, y_pred))\n",
        "\n",
        "# Print confusion matrix\n",
        "print(\"Confusion Matrix:\\n\", confusion_matrix(y_test, y_pred))\n"
      ],
      "metadata": {
        "colab": {
          "base_uri": "https://localhost:8080/"
        },
        "id": "PL9-2tjlkpv-",
        "outputId": "af7f8af0-1adf-4ccd-f1c3-05c16f890b88"
      },
      "execution_count": null,
      "outputs": [
        {
          "output_type": "stream",
          "name": "stdout",
          "text": [
            "Fitting 2 folds for each of 20 candidates, totalling 40 fits\n",
            "Classification Report:\n",
            "               precision    recall  f1-score   support\n",
            "\n",
            "           0       0.86      0.88      0.87     10988\n",
            "           1       0.35      0.31      0.33      2208\n",
            "           2       0.10      0.08      0.09       475\n",
            "\n",
            "    accuracy                           0.76     13671\n",
            "   macro avg       0.43      0.42      0.43     13671\n",
            "weighted avg       0.75      0.76      0.75     13671\n",
            "\n",
            "Confusion Matrix:\n",
            " [[9682 1096  210]\n",
            " [1375  691  142]\n",
            " [ 260  177   38]]\n"
          ]
        }
      ]
    },
    {
      "cell_type": "markdown",
      "metadata": {
        "id": "jmmQnPFnDPla"
      },
      "source": [
        "Which hyperparameter optimization technique have you used and why?\n",
        "\n",
        "Answer Here.\n",
        "\n",
        "The hyperparameter optimization technique used here is RandomizedSearchCV. It is chosen because it explores a wide range of hyperparameter values, balances between exploration and efficiency, and is less computationally intensive than GridSearchCV, making it suitable for large datasets.\n",
        "\n",
        "Have you seen any improvement? Note down the improvement with updates Evaluation metric Score Chart.\n",
        "\n",
        "Answer here.\n",
        "\n",
        "The hyperparameter tuning did not significantly improve the overall performance metrics. The slight changes in precision, recall, and F1-scores indicate that the model's performance is relatively stable but did not achieve notable improvement.\n",
        "\n",
        "\n",
        "\n",
        "\n",
        "\n"
      ]
    },
    {
      "cell_type": "markdown",
      "metadata": {
        "id": "PzTAZHa2yZLY"
      },
      "source": [
        "**ML** **Model** - **2**\n"
      ]
    },
    {
      "cell_type": "code",
      "source": [
        "from sklearn.model_selection import train_test_split, GridSearchCV, StratifiedKFold\n",
        "from xgboost import XGBClassifier\n",
        "\n",
        "# Initialize XGBoost Classifier\n",
        "xgb_classifier = XGBClassifier(\n",
        "    n_estimators=300,\n",
        "    max_depth=5,\n",
        "    learning_rate=0.1,\n",
        "    subsample=0.8,\n",
        "    colsample_bytree=1.0,\n",
        "    random_state=42\n",
        ")\n",
        "\n",
        "# Fit the classifier to the training data\n",
        "xgb_classifier.fit(X_train, y_train)\n",
        "# Predict on the test data\n",
        "y_pred = xgb_classifier.predict(X_test)\n"
      ],
      "metadata": {
        "id": "Nhe6wICcDhxe"
      },
      "execution_count": null,
      "outputs": []
    },
    {
      "cell_type": "code",
      "execution_count": null,
      "metadata": {
        "id": "AzmikeL6x2-3",
        "colab": {
          "base_uri": "https://localhost:8080/"
        },
        "outputId": "0cf5d3f8-090e-4585-e7dc-ca1bca12e7f0"
      },
      "outputs": [
        {
          "output_type": "stream",
          "name": "stdout",
          "text": [
            "Classification Report:\n",
            "               precision    recall  f1-score   support\n",
            "\n",
            "           0       0.83      0.97      0.90     10988\n",
            "           1       0.49      0.18      0.27      2208\n",
            "           2       0.29      0.01      0.02       475\n",
            "\n",
            "    accuracy                           0.81     13671\n",
            "   macro avg       0.54      0.39      0.39     13671\n",
            "weighted avg       0.76      0.81      0.77     13671\n",
            "\n",
            "Confusion Matrix:\n",
            " [[10700   286     2]\n",
            " [ 1795   403    10]\n",
            " [  338   132     5]]\n"
          ]
        }
      ],
      "source": [
        "#  evaluation Metric Score chart\n",
        "# Print classification report\n",
        "print(\"Classification Report:\\n\", classification_report(y_test, y_pred))\n",
        "\n",
        "# Print confusion matrix\n",
        "print(\"Confusion Matrix:\\n\", confusion_matrix(y_test, y_pred))\n"
      ]
    },
    {
      "cell_type": "markdown",
      "metadata": {
        "id": "dz8H-DaFDq-0"
      },
      "source": [
        "2  Cross- Validation & Hyperparameter Tuning"
      ]
    },
    {
      "cell_type": "code",
      "source": [
        "from sklearn.model_selection import train_test_split, GridSearchCV, StratifiedKFold\n",
        "from xgboost import XGBClassifier\n",
        "from sklearn.metrics import classification_report, confusion_matrix\n",
        "\n",
        "# Define a smaller parameter grid for GridSearchCV\n",
        "param_grid = {\n",
        "    'n_estimators': [50, 100],\n",
        "    'max_depth': [4, 5],\n",
        "    'learning_rate': [0.01, 0.1],\n",
        "    'subsample': [0.7, 0.8],\n",
        "    'colsample_bytree': [0.8, 0.9]\n",
        "}\n",
        "\n",
        "# Initialize StratifiedKFold\n",
        "cv = StratifiedKFold(n_splits=3, shuffle=True, random_state=42)\n",
        "\n",
        "# Initialize XGBoost Classifier\n",
        "xgb_classifier = XGBClassifier(random_state=42)\n",
        "\n",
        "# Initialize GridSearchCV\n",
        "grid_search = GridSearchCV(estimator=xgb_classifier, param_grid=param_grid, scoring='accuracy', n_jobs=-1, cv=cv, verbose=1)\n",
        "\n",
        "# Fit the model\n",
        "grid_search.fit(X_train, y_train)\n",
        "\n",
        "# Best parameters found by GridSearchCV\n",
        "print(\"Best Parameters:\", grid_search.best_params_)\n",
        "\n",
        "# Predict on the test data\n",
        "y_pred = grid_search.best_estimator_.predict(X_test)\n",
        "\n",
        "# Print classification report\n",
        "print(\"Classification Report:\\n\", classification_report(y_test, y_pred))\n",
        "\n",
        "# Print confusion matrix\n",
        "print(\"Confusion Matrix:\\n\", confusion_matrix(y_test, y_pred))\n"
      ],
      "metadata": {
        "colab": {
          "base_uri": "https://localhost:8080/"
        },
        "id": "SURMFX0WnYpO",
        "outputId": "69215b20-2f86-4465-82ee-ea7869a2c83c"
      },
      "execution_count": null,
      "outputs": [
        {
          "output_type": "stream",
          "name": "stdout",
          "text": [
            "Fitting 3 folds for each of 32 candidates, totalling 96 fits\n",
            "Best Parameters: {'colsample_bytree': 0.8, 'learning_rate': 0.1, 'max_depth': 5, 'n_estimators': 100, 'subsample': 0.7}\n",
            "Classification Report:\n",
            "               precision    recall  f1-score   support\n",
            "\n",
            "           0       0.83      0.98      0.90     10988\n",
            "           1       0.52      0.16      0.24      2208\n",
            "           2       0.38      0.01      0.01       475\n",
            "\n",
            "    accuracy                           0.81     13671\n",
            "   macro avg       0.57      0.38      0.38     13671\n",
            "weighted avg       0.76      0.81      0.76     13671\n",
            "\n",
            "Confusion Matrix:\n",
            " [[10771   217     0]\n",
            " [ 1854   349     5]\n",
            " [  363   109     3]]\n"
          ]
        }
      ]
    },
    {
      "cell_type": "markdown",
      "metadata": {
        "id": "xdmDw0BQECbe"
      },
      "source": [
        "\n",
        "Which hyperparameter optimization technique have you used and why?\n",
        "\n",
        "Answer Here.\n",
        "\n",
        "I used GridSearchCV for hyperparameter optimization. This technique performs an exhaustive search over a specified parameter grid, ensuring a thorough evaluation of hyperparameter combinations to identify the best configuration for improving model performance and accuracy.\n",
        "\n",
        "\n",
        "Have you seen any improvement? Note down the improvement with updates Evaluation metric Score Chart.\n",
        "\n",
        "Answer Here.\n",
        "\n",
        "Improvements:\n",
        "\n",
        "Precision for Class 1 (acknowledged emails): Improved from 0.49 to 0.52.\n",
        "\n",
        "Precision for Class 2 (read emails): Improved from 0.29 to 0.38.\n",
        "\n",
        "Recall for Class 0 (ignored emails): Slightly improved from 0.97 to 0.98.\n",
        "\n",
        "Overall macro average precision: Improved from 0.54 to 0.57.\n",
        "\n",
        "However, the recall for classes 1 and 2 decreased slightly. The f1-score for class 2 also remains low. While there are minor improvements in precision, especially for class 1, the overall impact on the recall and f1-score for class 2 remains a challenge.\n"
      ]
    },
    {
      "cell_type": "markdown",
      "metadata": {
        "id": "tWnv7cVkEZWe"
      },
      "source": [
        "ML Model - 3\n"
      ]
    },
    {
      "cell_type": "code",
      "source": [
        "import lightgbm as lgb\n",
        "from sklearn.metrics import classification_report, confusion_matrix\n",
        "\n",
        "# Initialize LightGBM Classifier with default or fixed parameters\n",
        "lgbm = lgb.LGBMClassifier(objective='multiclass',\n",
        "                          num_class=3,\n",
        "                          metric='multi_logloss',\n",
        "                          boosting_type='gbdt',\n",
        "                          learning_rate=0.1,\n",
        "                          num_leaves=31,\n",
        "                          max_depth=-1,\n",
        "                          min_child_samples=20,\n",
        "                          subsample=1.0,\n",
        "                          colsample_bytree=1.0,\n",
        "                          reg_alpha=0.0,\n",
        "                          reg_lambda=0.0,\n",
        "                          n_estimators=100)\n",
        "\n",
        "# Fit the classifier to the training data\n",
        "lgbm.fit(X_train_resampled, y_train_resampled)\n",
        "\n",
        "# Predict on the test data\n",
        "y_pred = lgbm.predict(X_test)\n",
        "\n",
        "# Print classification report\n",
        "print(\"Classification Report:\\n\", classification_report(y_test, y_pred))\n",
        "\n",
        "# Print confusion matrix\n",
        "print(\"Confusion Matrix:\\n\", confusion_matrix(y_test, y_pred))\n"
      ],
      "metadata": {
        "colab": {
          "base_uri": "https://localhost:8080/"
        },
        "id": "MdqoQ1d1p1SY",
        "outputId": "c5384d39-1e9a-4490-d884-c6c02358153b"
      },
      "execution_count": null,
      "outputs": [
        {
          "output_type": "stream",
          "name": "stdout",
          "text": [
            "[LightGBM] [Info] Auto-choosing row-wise multi-threading, the overhead of testing was 0.050881 seconds.\n",
            "You can set `force_row_wise=true` to remove the overhead.\n",
            "And if memory is not enough, you can set `force_col_wise=true`.\n",
            "[LightGBM] [Info] Total Bins 4081\n",
            "[LightGBM] [Info] Number of data points in the train set: 131859, number of used features: 17\n",
            "[LightGBM] [Info] Start training from score -1.098612\n",
            "[LightGBM] [Info] Start training from score -1.098612\n",
            "[LightGBM] [Info] Start training from score -1.098612\n",
            "Classification Report:\n",
            "               precision    recall  f1-score   support\n",
            "\n",
            "           0       0.84      0.96      0.90     10988\n",
            "           1       0.45      0.17      0.25      2208\n",
            "           2       0.15      0.10      0.12       475\n",
            "\n",
            "    accuracy                           0.80     13671\n",
            "   macro avg       0.48      0.41      0.42     13671\n",
            "weighted avg       0.75      0.80      0.76     13671\n",
            "\n",
            "Confusion Matrix:\n",
            " [[10518   351   119]\n",
            " [ 1676   383   149]\n",
            " [  318   108    49]]\n"
          ]
        }
      ]
    },
    {
      "cell_type": "markdown",
      "metadata": {
        "id": "E6hQEoeTEkVE"
      },
      "source": [
        "1. Explain the ML Model used and it's performance using Evaluation metric Score Chart.\n"
      ]
    },
    {
      "cell_type": "markdown",
      "source": [
        "The ML model used in this case is LightGBM, a gradient boosting framework that is optimized for speed and efficiency. Here's an explanation of the model and its performance based on the provided evaluation metrics\n",
        "\n",
        "Accuracy: The model achieved an overall accuracy of 0.80, meaning it correctly predicted 80% of the cases.\n",
        "Performance Analysis: The model shows higher precision and recall for class 0 compared to classes 1 and 2, indicating that it performs better at identifying class 0 instances. Classes 1 and 2 have lower precision and recall, suggesting room for improvement, possibly through feature engineering, hyperparameter tuning, or exploring different algorithms suited for imbalanced data.\n"
      ],
      "metadata": {
        "id": "TlMsCuorqtLD"
      }
    },
    {
      "cell_type": "markdown",
      "metadata": {
        "id": "ZvrJfbsOEmXW"
      },
      "source": [
        "2. Cross- Validation & Hyperparameter Tuning\n",
        "\n",
        "\n"
      ]
    },
    {
      "cell_type": "code",
      "source": [
        "from sklearn.ensemble import RandomForestClassifier\n",
        "from sklearn.model_selection import RandomizedSearchCV\n",
        "from sklearn.metrics import classification_report, confusion_matrix\n",
        "from scipy.stats import randint\n",
        "import numpy as np\n",
        "\n",
        "# Define the RandomForestClassifier model\n",
        "rf_model = RandomForestClassifier(random_state=42, n_jobs=-1)\n",
        "\n",
        "# Define parameter distributions to sample from during RandomizedSearchCV\n",
        "param_dist = {\n",
        "    'n_estimators': randint(50, 150),\n",
        "    'max_depth': [None, 10, 20, 30],\n",
        "    'min_samples_split': randint(2, 10),\n",
        "    'min_samples_leaf': randint(1, 5)\n",
        "}\n",
        "\n",
        "# Perform RandomizedSearchCV with reduced iterations (n_iter) for efficiency\n",
        "random_search = RandomizedSearchCV(estimator=rf_model, param_distributions=param_dist, n_iter=20,\n",
        "                                   cv=3, scoring='accuracy', random_state=42, verbose=2, n_jobs=-1)\n",
        "\n",
        "# Fit RandomizedSearchCV on training data\n",
        "random_search.fit(X_train, y_train)\n",
        "\n",
        "# Get the best model and predict on the test set\n",
        "best_rf_model = random_search.best_estimator_\n",
        "y_pred = best_rf_model.predict(X_test)\n",
        "\n",
        "# Evaluate the best model\n",
        "print(\"Best Parameters:\", random_search.best_params_)\n",
        "print(\"\\nClassification Report:\\n\", classification_report(y_test, y_pred))\n",
        "print(\"\\nConfusion Matrix:\\n\", confusion_matrix(y_test, y_pred))\n"
      ],
      "metadata": {
        "colab": {
          "base_uri": "https://localhost:8080/"
        },
        "id": "0YRml-B5tT4_",
        "outputId": "08bc4fb0-0df0-4883-9839-ee7736a0a006"
      },
      "execution_count": null,
      "outputs": [
        {
          "output_type": "stream",
          "name": "stdout",
          "text": [
            "Fitting 3 folds for each of 20 candidates, totalling 60 fits\n",
            "Best Parameters: {'max_depth': 10, 'min_samples_leaf': 1, 'min_samples_split': 3, 'n_estimators': 133}\n",
            "\n",
            "Classification Report:\n",
            "               precision    recall  f1-score   support\n",
            "\n",
            "           0       0.82      0.99      0.90     10988\n",
            "           1       0.55      0.11      0.18      2208\n",
            "           2       0.25      0.00      0.01       475\n",
            "\n",
            "    accuracy                           0.81     13671\n",
            "   macro avg       0.54      0.37      0.36     13671\n",
            "weighted avg       0.76      0.81      0.75     13671\n",
            "\n",
            "\n",
            "Confusion Matrix:\n",
            " [[10864   124     0]\n",
            " [ 1966   236     6]\n",
            " [  407    66     2]]\n"
          ]
        }
      ]
    },
    {
      "cell_type": "markdown",
      "metadata": {
        "id": "d5ZYX1klEzHG"
      },
      "source": [
        "Which hyperparameter optimization technique have you used and why?\n",
        "\n",
        "Answer Here.\n",
        "\n",
        "I used RandomizedSearchCV for hyperparameter optimization. It efficiently explores a subset of the hyperparameter space by random sampling, making it computationally cheaper than GridSearchCV. This approach balances the trade-off between exploration and exploitation, providing robust parameter tuning results.\n",
        "\n",
        "\n",
        "\n",
        "\n",
        "..Have you seen any improvement? Note down the improvement with updates Evaluation metric Score Chart.\n",
        "\n",
        "Answer Here.\n",
        "\n",
        "The updated model shows marginal improvement in precision and recall for class 1, but minimal improvement overall. The F1-score for class 1 has increased slightly, indicating better balance between precision and recall.\n",
        "\n",
        "\n",
        "1. Which Evaluation metrics did you consider for a positive business impact and why?\n",
        "\n",
        "Answer Here.\n",
        "\n",
        "The evaluation metrics considered for positive business impact were accuracy, precision, recall, and F1-score. These metrics ensure balanced performance across classes, enhancing overall customer engagement and campaign effectiveness.\n",
        "\n",
        "\n",
        "\n",
        "\n",
        "\n",
        "2. Which ML model did you choose from the above created models as your final prediction model and why?\n",
        "\n",
        "Answer Here.\n",
        "\n",
        "I chose the LightGBM model as the final prediction model due to its balanced performance across precision, recall, and F1-score for the majority class (class 0), while showing potential for improvement with further tuning, such as addressing class imbalance.\n",
        "\n",
        "\n",
        "\n",
        "3. Explain the model which you have used and the feature importance using any model explainability tool?\n",
        "\n",
        "Answer Here.\n",
        "\n",
        "The LightGBM model is used for its efficient gradient boosting framework, emphasizing feature importance through its native tools. This model efficiently handles large datasets and features, providing insights into critical features impacting predictions.\n",
        "\n",
        "\n",
        "\n",
        "\n",
        "\n",
        "\n"
      ]
    },
    {
      "cell_type": "markdown",
      "metadata": {
        "id": "0D3ymznlFV_w"
      },
      "source": [
        " **Conclusion**\n",
        "\n",
        "Write the conclusion here.\n",
        "\n",
        "\"In conclusion, this project focused on predicting email response rates using machine learning models. We explored various techniques including data preprocessing, feature engineering, and employing different models such as Random Forest, XGBoost, and LightGBM. Through extensive evaluation using metrics like precision, recall, and F1-score, LightGBM emerged as the preferred model due to its superior performance in handling the imbalanced dataset and predicting response rates effectively. Feature importance analysis revealed that certain features significantly influenced email engagement. Overall, this project demonstrated the utility of advanced machine learning techniques in optimizing email marketing strategies.\"\n",
        "**Hurrah**! **You** **have** **successfully** **completed** **your** **Machine** **Learning** **Capstone** **Project** !!!\n",
        "\n"
      ]
    }
  ],
  "metadata": {
    "colab": {
      "provenance": [],
      "gpuType": "T4",
      "authorship_tag": "ABX9TyNMD8eVS4AsXKOSYBu9RZVH",
      "include_colab_link": true
    },
    "kernelspec": {
      "display_name": "Python 3",
      "name": "python3"
    },
    "language_info": {
      "name": "python"
    },
    "accelerator": "GPU"
  },
  "nbformat": 4,
  "nbformat_minor": 0
}